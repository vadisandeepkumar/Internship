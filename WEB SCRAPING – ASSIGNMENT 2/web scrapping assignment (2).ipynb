{
 "cells": [
  {
   "cell_type": "code",
   "execution_count": 1,
   "id": "cc0ee52e",
   "metadata": {},
   "outputs": [
    {
     "name": "stdout",
     "output_type": "stream",
     "text": [
      "Requirement already satisfied: selenium in j:\\pythin\\lib\\site-packages (4.3.0)\n",
      "Requirement already satisfied: trio-websocket~=0.9 in j:\\pythin\\lib\\site-packages (from selenium) (0.9.2)\n",
      "Requirement already satisfied: trio~=0.17 in j:\\pythin\\lib\\site-packages (from selenium) (0.21.0)\n",
      "Requirement already satisfied: urllib3[secure,socks]~=1.26 in j:\\pythin\\lib\\site-packages (from selenium) (1.26.7)\n",
      "Requirement already satisfied: idna in j:\\pythin\\lib\\site-packages (from trio~=0.17->selenium) (3.2)\n",
      "Requirement already satisfied: sniffio in j:\\pythin\\lib\\site-packages (from trio~=0.17->selenium) (1.2.0)\n",
      "Requirement already satisfied: cffi>=1.14 in j:\\pythin\\lib\\site-packages (from trio~=0.17->selenium) (1.14.6)\n",
      "Requirement already satisfied: attrs>=19.2.0 in j:\\pythin\\lib\\site-packages (from trio~=0.17->selenium) (21.2.0)\n",
      "Requirement already satisfied: sortedcontainers in j:\\pythin\\lib\\site-packages (from trio~=0.17->selenium) (2.4.0)\n",
      "Requirement already satisfied: async-generator>=1.9 in j:\\pythin\\lib\\site-packages (from trio~=0.17->selenium) (1.10)\n",
      "Requirement already satisfied: outcome in j:\\pythin\\lib\\site-packages (from trio~=0.17->selenium) (1.2.0)\n",
      "Requirement already satisfied: pycparser in j:\\pythin\\lib\\site-packages (from cffi>=1.14->trio~=0.17->selenium) (2.20)\n",
      "Requirement already satisfied: wsproto>=0.14 in j:\\pythin\\lib\\site-packages (from trio-websocket~=0.9->selenium) (1.1.0)\n",
      "Requirement already satisfied: pyOpenSSL>=0.14 in j:\\pythin\\lib\\site-packages (from urllib3[secure,socks]~=1.26->selenium) (21.0.0)\n",
      "Requirement already satisfied: cryptography>=1.3.4 in j:\\pythin\\lib\\site-packages (from urllib3[secure,socks]~=1.26->selenium) (3.4.8)\n",
      "Requirement already satisfied: certifi in j:\\pythin\\lib\\site-packages (from urllib3[secure,socks]~=1.26->selenium) (2021.10.8)\n",
      "Requirement already satisfied: PySocks!=1.5.7,<2.0,>=1.5.6 in j:\\pythin\\lib\\site-packages (from urllib3[secure,socks]~=1.26->selenium) (1.7.1)\n",
      "Requirement already satisfied: six>=1.5.2 in j:\\pythin\\lib\\site-packages (from pyOpenSSL>=0.14->urllib3[secure,socks]~=1.26->selenium) (1.16.0)\n",
      "Requirement already satisfied: h11<1,>=0.9.0 in j:\\pythin\\lib\\site-packages (from wsproto>=0.14->trio-websocket~=0.9->selenium) (0.13.0)\n"
     ]
    }
   ],
   "source": [
    "!pip install selenium"
   ]
  },
  {
   "cell_type": "markdown",
   "id": "94fde866",
   "metadata": {},
   "source": [
    "#1.Write a python program to scrape data for “Data Analyst” Job position in “Bangalore” location. You have to scrape the job-title, job-location, company_name, experience_required. You have to scrape first 10 jobs data. This task will be done in following steps:\n",
    "\n",
    "First get the webpage https://www.naukri.com/\n",
    "Enter “Data Analyst” in “Skill, Designations, Companies” field and enter “Bangalore” in “enter the location” field.\n",
    "Then click the search button.\n",
    "Then scrape the data for the first 10 jobs results you get.\n",
    "Finally create a dataframe of the scraped data"
   ]
  },
  {
   "cell_type": "code",
   "execution_count": 2,
   "id": "839fb919",
   "metadata": {},
   "outputs": [],
   "source": [
    "#Import Libraries\n",
    "import selenium\n",
    "from selenium import webdriver\n",
    "import pandas as pd\n",
    "import warnings\n",
    "warnings.filterwarnings(\"ignore\")"
   ]
  },
  {
   "cell_type": "code",
   "execution_count": 3,
   "id": "6d480488",
   "metadata": {},
   "outputs": [],
   "source": [
    "driver=webdriver.Chrome(r'C:\\Users\\sande\\Downloads\\chromedriver_win32\\chromedriver.exe')"
   ]
  },
  {
   "cell_type": "code",
   "execution_count": 5,
   "id": "2d9d4ea8",
   "metadata": {},
   "outputs": [],
   "source": [
    "from selenium.webdriver.common.by import By\n",
    "url='https://www.naukri.com/'\n",
    "driver.get(url)"
   ]
  },
  {
   "cell_type": "code",
   "execution_count": 6,
   "id": "09cdf42c",
   "metadata": {},
   "outputs": [
    {
     "data": {
      "text/plain": [
       "<selenium.webdriver.remote.webelement.WebElement (session=\"d82b028cbc85a4c5e74e2404a3fbe786\", element=\"505243a4-c6fc-4548-9b2b-0fb1fe454735\")>"
      ]
     },
     "execution_count": 6,
     "metadata": {},
     "output_type": "execute_result"
    }
   ],
   "source": [
    "\n",
    "#web element for search job bar using id\n",
    "job_search=driver.find_element(By.CLASS_NAME,\"suggestor-input\")\n",
    "job_search"
   ]
  },
  {
   "cell_type": "code",
   "execution_count": 7,
   "id": "35864d17",
   "metadata": {},
   "outputs": [],
   "source": [
    "#Provide the search details\n",
    "job_search.send_keys(\"Data Analyst\")"
   ]
  },
  {
   "cell_type": "code",
   "execution_count": 8,
   "id": "c8bcb2ac",
   "metadata": {},
   "outputs": [
    {
     "data": {
      "text/plain": [
       "<selenium.webdriver.remote.webelement.WebElement (session=\"d82b028cbc85a4c5e74e2404a3fbe786\", element=\"840cc16b-ab99-4f12-9756-dd18027c6e24\")>"
      ]
     },
     "execution_count": 8,
     "metadata": {},
     "output_type": "execute_result"
    }
   ],
   "source": [
    "location_search=driver.find_element(By.XPATH,\"/html/body/div[1]/div[2]/div[3]/div/div/div[5]/div/div/div/input\")\n",
    "location_search"
   ]
  },
  {
   "cell_type": "code",
   "execution_count": 9,
   "id": "b61a0ae9",
   "metadata": {},
   "outputs": [],
   "source": [
    "#Finding web element for job location\n",
    "location_search.send_keys(\"Banglore\")"
   ]
  },
  {
   "cell_type": "code",
   "execution_count": 10,
   "id": "7a1b2db7",
   "metadata": {},
   "outputs": [
    {
     "data": {
      "text/plain": [
       "<selenium.webdriver.remote.webelement.WebElement (session=\"d82b028cbc85a4c5e74e2404a3fbe786\", element=\"fb5f30b6-2686-441b-a9cc-9f61ad7247e1\")>"
      ]
     },
     "execution_count": 10,
     "metadata": {},
     "output_type": "execute_result"
    }
   ],
   "source": [
    "#absolute xpath for search \n",
    "search_btn=driver.find_element(By.XPATH,'/html/body/div[1]/div[2]/div[3]/div/div/div[6]')\n",
    "search_btn"
   ]
  },
  {
   "cell_type": "code",
   "execution_count": 11,
   "id": "ba5a67ea",
   "metadata": {},
   "outputs": [],
   "source": [
    "search_btn.click()"
   ]
  },
  {
   "cell_type": "code",
   "execution_count": 12,
   "id": "44ee42bc",
   "metadata": {},
   "outputs": [
    {
     "data": {
      "text/plain": [
       "[<selenium.webdriver.remote.webelement.WebElement (session=\"d82b028cbc85a4c5e74e2404a3fbe786\", element=\"ce07ddf6-7ac2-4273-afb4-526958996e3c\")>,\n",
       " <selenium.webdriver.remote.webelement.WebElement (session=\"d82b028cbc85a4c5e74e2404a3fbe786\", element=\"0355664e-0930-4556-bc7e-ef16172fdbc1\")>,\n",
       " <selenium.webdriver.remote.webelement.WebElement (session=\"d82b028cbc85a4c5e74e2404a3fbe786\", element=\"e82c4a01-61a1-4a1b-8a05-bde40a7800d4\")>,\n",
       " <selenium.webdriver.remote.webelement.WebElement (session=\"d82b028cbc85a4c5e74e2404a3fbe786\", element=\"1fd7ff40-628f-43b7-9f4e-d6729e90ec11\")>,\n",
       " <selenium.webdriver.remote.webelement.WebElement (session=\"d82b028cbc85a4c5e74e2404a3fbe786\", element=\"90a15e54-6bb4-47d7-8362-45d9de9b1530\")>,\n",
       " <selenium.webdriver.remote.webelement.WebElement (session=\"d82b028cbc85a4c5e74e2404a3fbe786\", element=\"b1beb833-15f4-4e76-867b-8dd2034c5026\")>,\n",
       " <selenium.webdriver.remote.webelement.WebElement (session=\"d82b028cbc85a4c5e74e2404a3fbe786\", element=\"51b3eab9-c77d-4dde-b16a-bacaaed7aea4\")>,\n",
       " <selenium.webdriver.remote.webelement.WebElement (session=\"d82b028cbc85a4c5e74e2404a3fbe786\", element=\"c0e729ce-4dae-4a14-9f78-748ad5a5ead3\")>,\n",
       " <selenium.webdriver.remote.webelement.WebElement (session=\"d82b028cbc85a4c5e74e2404a3fbe786\", element=\"41f52cc3-c529-4c0d-950c-ffc69d768712\")>,\n",
       " <selenium.webdriver.remote.webelement.WebElement (session=\"d82b028cbc85a4c5e74e2404a3fbe786\", element=\"9469caa0-a28d-43b3-8d2e-69a4f4682f9a\")>,\n",
       " <selenium.webdriver.remote.webelement.WebElement (session=\"d82b028cbc85a4c5e74e2404a3fbe786\", element=\"64ef747c-6e3d-497b-af2e-16e3ce6935fc\")>,\n",
       " <selenium.webdriver.remote.webelement.WebElement (session=\"d82b028cbc85a4c5e74e2404a3fbe786\", element=\"b81629a2-97c0-48ac-ad75-45fab303c0a7\")>,\n",
       " <selenium.webdriver.remote.webelement.WebElement (session=\"d82b028cbc85a4c5e74e2404a3fbe786\", element=\"1f90d69b-9b9c-415a-9132-1662f2b21f10\")>,\n",
       " <selenium.webdriver.remote.webelement.WebElement (session=\"d82b028cbc85a4c5e74e2404a3fbe786\", element=\"e8b3c80e-d3e6-498c-8f71-d8db2eba05a1\")>,\n",
       " <selenium.webdriver.remote.webelement.WebElement (session=\"d82b028cbc85a4c5e74e2404a3fbe786\", element=\"5d4e27d7-f6fe-42d8-85c8-d50271156b27\")>,\n",
       " <selenium.webdriver.remote.webelement.WebElement (session=\"d82b028cbc85a4c5e74e2404a3fbe786\", element=\"48c5bbf4-47d9-4eaf-aa1f-854722735e4e\")>,\n",
       " <selenium.webdriver.remote.webelement.WebElement (session=\"d82b028cbc85a4c5e74e2404a3fbe786\", element=\"d345de0a-d639-42f3-94d7-5b0affb8f7a2\")>,\n",
       " <selenium.webdriver.remote.webelement.WebElement (session=\"d82b028cbc85a4c5e74e2404a3fbe786\", element=\"4c42b577-15cd-48f3-97d7-c00ed2cc4977\")>,\n",
       " <selenium.webdriver.remote.webelement.WebElement (session=\"d82b028cbc85a4c5e74e2404a3fbe786\", element=\"e538339a-e771-4c3a-8c42-14df5b208124\")>,\n",
       " <selenium.webdriver.remote.webelement.WebElement (session=\"d82b028cbc85a4c5e74e2404a3fbe786\", element=\"5591192a-4973-4874-b662-552c3befb6dd\")>]"
      ]
     },
     "execution_count": 12,
     "metadata": {},
     "output_type": "execute_result"
    }
   ],
   "source": [
    "#extract all web elements having job titles\n",
    "title_tags=driver.find_elements(By.XPATH,'//a[@class=\"title fw500 ellipsis\"]')\n",
    "title_tags"
   ]
  },
  {
   "cell_type": "code",
   "execution_count": 13,
   "id": "29542c78",
   "metadata": {},
   "outputs": [
    {
     "data": {
      "text/plain": [
       "['Associate - Data Analyst',\n",
       " 'Sr.Business Data Analyst',\n",
       " 'Job opportunity For Data Analyst at Trellance - India',\n",
       " 'Senior Data Analyst',\n",
       " 'Master Data Management Business Analyst',\n",
       " 'Sr Data Analyst',\n",
       " 'Hiring For Data Analyst',\n",
       " 'Data Analyst',\n",
       " 'Associate Data Analyst',\n",
       " 'Associate Data Analyst',\n",
       " 'Data Analyst/Senior Data Analyst',\n",
       " 'Senior Data Analysis Analyst',\n",
       " 'Data Analyst - Python/Artificial Intelligence',\n",
       " 'Performance Data Analyst',\n",
       " 'Happay - Data Analyst',\n",
       " 'Data Analyst',\n",
       " 'Data Analyst - CRM Platform',\n",
       " 'Financial Data Analyst - FIG',\n",
       " 'Lead Financial Data Analyst',\n",
       " 'Financial Data Analyst - FIG']"
      ]
     },
     "execution_count": 13,
     "metadata": {},
     "output_type": "execute_result"
    }
   ],
   "source": [
    "#extract the titles from web elements\n",
    "job_titles=[]\n",
    "for job in title_tags:\n",
    "    job_titles.append(job.text)\n",
    "    \n",
    "job_titles"
   ]
  },
  {
   "cell_type": "code",
   "execution_count": 14,
   "id": "32ec075e",
   "metadata": {},
   "outputs": [
    {
     "data": {
      "text/plain": [
       "[<selenium.webdriver.remote.webelement.WebElement (session=\"d82b028cbc85a4c5e74e2404a3fbe786\", element=\"aa283ae2-7e0c-4a10-a127-b8aae5313cff\")>,\n",
       " <selenium.webdriver.remote.webelement.WebElement (session=\"d82b028cbc85a4c5e74e2404a3fbe786\", element=\"606b3682-0722-4cfc-aaee-c06895e21760\")>,\n",
       " <selenium.webdriver.remote.webelement.WebElement (session=\"d82b028cbc85a4c5e74e2404a3fbe786\", element=\"926ce49f-b1e6-4fa0-b82f-accec95ba5cf\")>,\n",
       " <selenium.webdriver.remote.webelement.WebElement (session=\"d82b028cbc85a4c5e74e2404a3fbe786\", element=\"17c528b5-2104-4f20-9420-fa5f2efdc0e1\")>,\n",
       " <selenium.webdriver.remote.webelement.WebElement (session=\"d82b028cbc85a4c5e74e2404a3fbe786\", element=\"bf01a41c-b536-4c42-81ae-9982e8e27422\")>,\n",
       " <selenium.webdriver.remote.webelement.WebElement (session=\"d82b028cbc85a4c5e74e2404a3fbe786\", element=\"ac3bfb88-18a3-4e77-be66-5c3c2114901a\")>,\n",
       " <selenium.webdriver.remote.webelement.WebElement (session=\"d82b028cbc85a4c5e74e2404a3fbe786\", element=\"cf89cd55-9a2d-40a3-a6e8-909e37dcc54b\")>,\n",
       " <selenium.webdriver.remote.webelement.WebElement (session=\"d82b028cbc85a4c5e74e2404a3fbe786\", element=\"0447c276-1bd4-4791-9515-5f21d485587e\")>,\n",
       " <selenium.webdriver.remote.webelement.WebElement (session=\"d82b028cbc85a4c5e74e2404a3fbe786\", element=\"f6f535e4-193f-4f85-aebe-9eae8fc8569d\")>,\n",
       " <selenium.webdriver.remote.webelement.WebElement (session=\"d82b028cbc85a4c5e74e2404a3fbe786\", element=\"34b1b2c2-a0b6-4bce-bdb1-0ea2ef08b6a8\")>,\n",
       " <selenium.webdriver.remote.webelement.WebElement (session=\"d82b028cbc85a4c5e74e2404a3fbe786\", element=\"80043ffa-87b0-4508-b3f2-a0a658216311\")>,\n",
       " <selenium.webdriver.remote.webelement.WebElement (session=\"d82b028cbc85a4c5e74e2404a3fbe786\", element=\"bff82547-9c43-424e-86f4-466aecdde377\")>,\n",
       " <selenium.webdriver.remote.webelement.WebElement (session=\"d82b028cbc85a4c5e74e2404a3fbe786\", element=\"943bafd7-b1c8-40fb-9743-928fa5804497\")>,\n",
       " <selenium.webdriver.remote.webelement.WebElement (session=\"d82b028cbc85a4c5e74e2404a3fbe786\", element=\"c8ce9add-305e-4d72-ae40-225a07bb3c4c\")>,\n",
       " <selenium.webdriver.remote.webelement.WebElement (session=\"d82b028cbc85a4c5e74e2404a3fbe786\", element=\"fdb8dd77-8108-4054-bb61-6d3a1f41a6ba\")>,\n",
       " <selenium.webdriver.remote.webelement.WebElement (session=\"d82b028cbc85a4c5e74e2404a3fbe786\", element=\"b7e7cc91-b72e-4107-a698-10410babd6b8\")>,\n",
       " <selenium.webdriver.remote.webelement.WebElement (session=\"d82b028cbc85a4c5e74e2404a3fbe786\", element=\"fdcfb725-b38d-4dca-9671-2e9bab097361\")>,\n",
       " <selenium.webdriver.remote.webelement.WebElement (session=\"d82b028cbc85a4c5e74e2404a3fbe786\", element=\"cb52ccf9-d164-4967-8708-21c249c84031\")>,\n",
       " <selenium.webdriver.remote.webelement.WebElement (session=\"d82b028cbc85a4c5e74e2404a3fbe786\", element=\"3abc4124-d13f-44c1-ac86-75048f0da3fe\")>,\n",
       " <selenium.webdriver.remote.webelement.WebElement (session=\"d82b028cbc85a4c5e74e2404a3fbe786\", element=\"cf67b8a9-1de6-45c1-aef1-4230787e5d72\")>]"
      ]
     },
     "execution_count": 14,
     "metadata": {},
     "output_type": "execute_result"
    }
   ],
   "source": [
    "location_tags=driver.find_elements(By.XPATH,'//li[@class=\"fleft grey-text br2 placeHolderLi location\"]')\n",
    "location_tags"
   ]
  },
  {
   "cell_type": "code",
   "execution_count": 18,
   "id": "ab587b4b",
   "metadata": {},
   "outputs": [
    {
     "data": {
      "text/plain": [
       "['Bangalore/Bengaluru',\n",
       " 'Bangalore/Bengaluru, karnataka\\n(WFH during Covid)',\n",
       " 'Ahmedabad, Bangalore/Bengaluru',\n",
       " 'Bangalore/Bengaluru(Old Madras Road)',\n",
       " 'Bangalore/Bengaluru',\n",
       " 'Bangalore/Bengaluru',\n",
       " 'Bangalore/Bengaluru',\n",
       " 'Noida, Hyderabad/Secunderabad, Gurgaon/Gurugram, Chennai, Bangalore/Bengaluru, Mumbai (All Areas), Pune',\n",
       " 'Bangalore/Bengaluru',\n",
       " 'Bangalore/Bengaluru',\n",
       " 'Bangalore/Bengaluru',\n",
       " 'Pune, Chennai, Bangalore/Bengaluru',\n",
       " 'Kolkata, Mumbai, Hyderabad/Secunderabad, Pune, Ahmedabad, Bangalore/Bengaluru',\n",
       " 'Bangalore/Bengaluru',\n",
       " 'Bangalore/Bengaluru',\n",
       " 'Kolkata, New Delhi, Hyderabad/Secunderabad, Chennai, Bangalore/Bengaluru, Mumbai (All Areas)',\n",
       " 'Mumbai, Hyderabad/Secunderabad, Pune, Chennai, Ahmedabad, Bangalore/Bengaluru',\n",
       " 'Bangalore/Bengaluru',\n",
       " 'Bangalore/Bengaluru',\n",
       " 'Bangalore/Bengaluru']"
      ]
     },
     "execution_count": 18,
     "metadata": {},
     "output_type": "execute_result"
    }
   ],
   "source": [
    "job_location=[]\n",
    "\n",
    "for loc in location_tags:\n",
    "    job_location.append(loc.text)\n",
    "job_location"
   ]
  },
  {
   "cell_type": "code",
   "execution_count": 19,
   "id": "a89e0c4d",
   "metadata": {},
   "outputs": [
    {
     "data": {
      "text/plain": [
       "[<selenium.webdriver.remote.webelement.WebElement (session=\"d82b028cbc85a4c5e74e2404a3fbe786\", element=\"66432f6d-86b8-4a21-9ae1-3ed1ba2a5123\")>,\n",
       " <selenium.webdriver.remote.webelement.WebElement (session=\"d82b028cbc85a4c5e74e2404a3fbe786\", element=\"57652779-918a-403a-8e3b-43f248a98ebe\")>,\n",
       " <selenium.webdriver.remote.webelement.WebElement (session=\"d82b028cbc85a4c5e74e2404a3fbe786\", element=\"ca9d022f-742f-42c2-8be7-bc0c95f661ba\")>,\n",
       " <selenium.webdriver.remote.webelement.WebElement (session=\"d82b028cbc85a4c5e74e2404a3fbe786\", element=\"a45e2915-7f09-4211-88c3-a11611cc07fc\")>,\n",
       " <selenium.webdriver.remote.webelement.WebElement (session=\"d82b028cbc85a4c5e74e2404a3fbe786\", element=\"30402feb-8568-43de-9a3b-8cb99b189461\")>,\n",
       " <selenium.webdriver.remote.webelement.WebElement (session=\"d82b028cbc85a4c5e74e2404a3fbe786\", element=\"538f5c76-7548-4b09-a69b-32656b3dd279\")>,\n",
       " <selenium.webdriver.remote.webelement.WebElement (session=\"d82b028cbc85a4c5e74e2404a3fbe786\", element=\"77b9ede9-b0f8-4432-9990-3bb8c14e5c6f\")>,\n",
       " <selenium.webdriver.remote.webelement.WebElement (session=\"d82b028cbc85a4c5e74e2404a3fbe786\", element=\"897f32bc-320c-4a19-826c-1f09eee6eaa7\")>,\n",
       " <selenium.webdriver.remote.webelement.WebElement (session=\"d82b028cbc85a4c5e74e2404a3fbe786\", element=\"2dc3e605-c2a1-4e2a-8f72-4a3585145a8d\")>,\n",
       " <selenium.webdriver.remote.webelement.WebElement (session=\"d82b028cbc85a4c5e74e2404a3fbe786\", element=\"ae1df670-ee6a-490c-aa4c-d93acb9a94c7\")>,\n",
       " <selenium.webdriver.remote.webelement.WebElement (session=\"d82b028cbc85a4c5e74e2404a3fbe786\", element=\"7d45baab-575c-49c2-9f2e-971874ecdddb\")>,\n",
       " <selenium.webdriver.remote.webelement.WebElement (session=\"d82b028cbc85a4c5e74e2404a3fbe786\", element=\"8cdcc600-39be-4053-af12-def0809c634e\")>,\n",
       " <selenium.webdriver.remote.webelement.WebElement (session=\"d82b028cbc85a4c5e74e2404a3fbe786\", element=\"721b8eef-e56c-4785-8477-fe2037fe608c\")>,\n",
       " <selenium.webdriver.remote.webelement.WebElement (session=\"d82b028cbc85a4c5e74e2404a3fbe786\", element=\"242f402b-01a4-4fe0-8c09-bf1dfed17b6b\")>,\n",
       " <selenium.webdriver.remote.webelement.WebElement (session=\"d82b028cbc85a4c5e74e2404a3fbe786\", element=\"6bbdf85d-6f1f-4345-805c-044383a6c7d0\")>,\n",
       " <selenium.webdriver.remote.webelement.WebElement (session=\"d82b028cbc85a4c5e74e2404a3fbe786\", element=\"f380039f-0b13-4297-b6b4-07b85a4600a5\")>,\n",
       " <selenium.webdriver.remote.webelement.WebElement (session=\"d82b028cbc85a4c5e74e2404a3fbe786\", element=\"1d318c88-7b41-4354-bfdb-3b971d8834ea\")>,\n",
       " <selenium.webdriver.remote.webelement.WebElement (session=\"d82b028cbc85a4c5e74e2404a3fbe786\", element=\"d78cbf62-d1c0-43e2-9792-c84f90f52a6c\")>,\n",
       " <selenium.webdriver.remote.webelement.WebElement (session=\"d82b028cbc85a4c5e74e2404a3fbe786\", element=\"ed4eb845-3b06-4273-9eb6-ec6428c26ebe\")>,\n",
       " <selenium.webdriver.remote.webelement.WebElement (session=\"d82b028cbc85a4c5e74e2404a3fbe786\", element=\"f81e1a76-e61d-495e-82cd-b964638b5cca\")>]"
      ]
     },
     "execution_count": 19,
     "metadata": {},
     "output_type": "execute_result"
    }
   ],
   "source": [
    "#Let's extract all web elements for company\n",
    "company_tags=driver.find_elements(By.XPATH,'//a[@class=\"subTitle ellipsis fleft\"]')\n",
    "company_tags"
   ]
  },
  {
   "cell_type": "code",
   "execution_count": 20,
   "id": "3f11aecd",
   "metadata": {},
   "outputs": [
    {
     "data": {
      "text/plain": [
       "['Myntra',\n",
       " 'Collabera',\n",
       " 'CURise Analytics Pvt. Ltd.',\n",
       " 'KrazyBee',\n",
       " 'Accenture',\n",
       " 'Thomson Reuters',\n",
       " 'Flipkart',\n",
       " 'Wipro',\n",
       " 'Optum',\n",
       " 'Optum',\n",
       " 'Meesho',\n",
       " 'Capco',\n",
       " 'iMindYourBusiness',\n",
       " 'Fluence',\n",
       " 'Happay-Expense Management Solution for Businesses',\n",
       " 'Kititan Co., Ltd',\n",
       " 'Artech infosystem',\n",
       " \"Moody's\",\n",
       " \"Moody's\",\n",
       " \"Moody's\"]"
      ]
     },
     "execution_count": 20,
     "metadata": {},
     "output_type": "execute_result"
    }
   ],
   "source": [
    "#extract company name from tags(web element)\n",
    "\n",
    "company_name=[]\n",
    "\n",
    "for comp in company_tags:\n",
    "    company_name.append(comp.text)\n",
    "company_name"
   ]
  },
  {
   "cell_type": "code",
   "execution_count": 21,
   "id": "5d34659c",
   "metadata": {},
   "outputs": [
    {
     "data": {
      "text/plain": [
       "[<selenium.webdriver.remote.webelement.WebElement (session=\"d82b028cbc85a4c5e74e2404a3fbe786\", element=\"e050089b-aa7e-4fba-a1d4-6809aa53dc8b\")>,\n",
       " <selenium.webdriver.remote.webelement.WebElement (session=\"d82b028cbc85a4c5e74e2404a3fbe786\", element=\"3a2b5185-d4d7-410d-b59e-01c2aa6a7d8b\")>,\n",
       " <selenium.webdriver.remote.webelement.WebElement (session=\"d82b028cbc85a4c5e74e2404a3fbe786\", element=\"aa729950-15db-441b-87c1-2e47d924812c\")>,\n",
       " <selenium.webdriver.remote.webelement.WebElement (session=\"d82b028cbc85a4c5e74e2404a3fbe786\", element=\"4abb14c9-ea82-4519-a464-d512e0d0dcb2\")>,\n",
       " <selenium.webdriver.remote.webelement.WebElement (session=\"d82b028cbc85a4c5e74e2404a3fbe786\", element=\"70d412fe-7256-4f4c-a5a6-a3ed33ceb92c\")>,\n",
       " <selenium.webdriver.remote.webelement.WebElement (session=\"d82b028cbc85a4c5e74e2404a3fbe786\", element=\"ec198383-ef75-42e2-9230-1265a999dc12\")>,\n",
       " <selenium.webdriver.remote.webelement.WebElement (session=\"d82b028cbc85a4c5e74e2404a3fbe786\", element=\"4024f17a-db8f-4e5b-bec5-c86788602f32\")>,\n",
       " <selenium.webdriver.remote.webelement.WebElement (session=\"d82b028cbc85a4c5e74e2404a3fbe786\", element=\"855bb1a4-e939-4a2c-9929-1dddefb0cbb1\")>,\n",
       " <selenium.webdriver.remote.webelement.WebElement (session=\"d82b028cbc85a4c5e74e2404a3fbe786\", element=\"1546fbb0-8e0f-4a03-8535-c04bf45f9357\")>,\n",
       " <selenium.webdriver.remote.webelement.WebElement (session=\"d82b028cbc85a4c5e74e2404a3fbe786\", element=\"479c623e-fd2e-44ad-8f3b-644cf16dd8da\")>,\n",
       " <selenium.webdriver.remote.webelement.WebElement (session=\"d82b028cbc85a4c5e74e2404a3fbe786\", element=\"276bb900-c52d-4e7f-92ce-cda078a16858\")>,\n",
       " <selenium.webdriver.remote.webelement.WebElement (session=\"d82b028cbc85a4c5e74e2404a3fbe786\", element=\"65683999-db0e-4758-9d16-767935a8c3e4\")>,\n",
       " <selenium.webdriver.remote.webelement.WebElement (session=\"d82b028cbc85a4c5e74e2404a3fbe786\", element=\"d472a1e1-61d7-4928-b092-123f6f2118f9\")>,\n",
       " <selenium.webdriver.remote.webelement.WebElement (session=\"d82b028cbc85a4c5e74e2404a3fbe786\", element=\"529787ee-679b-402a-a92f-6c37642c631a\")>,\n",
       " <selenium.webdriver.remote.webelement.WebElement (session=\"d82b028cbc85a4c5e74e2404a3fbe786\", element=\"b40600d6-69fa-4052-a055-8a8f710f858b\")>,\n",
       " <selenium.webdriver.remote.webelement.WebElement (session=\"d82b028cbc85a4c5e74e2404a3fbe786\", element=\"8b6889e1-4bda-40a4-a330-a2df2d6bf8e0\")>,\n",
       " <selenium.webdriver.remote.webelement.WebElement (session=\"d82b028cbc85a4c5e74e2404a3fbe786\", element=\"e6ae0d41-fb25-4450-af8b-48ead6dc73ee\")>,\n",
       " <selenium.webdriver.remote.webelement.WebElement (session=\"d82b028cbc85a4c5e74e2404a3fbe786\", element=\"86aeb829-a26c-406e-aa31-7af2d7d09328\")>,\n",
       " <selenium.webdriver.remote.webelement.WebElement (session=\"d82b028cbc85a4c5e74e2404a3fbe786\", element=\"d4908653-6fe3-4081-8eb3-4c40aeb9c89a\")>,\n",
       " <selenium.webdriver.remote.webelement.WebElement (session=\"d82b028cbc85a4c5e74e2404a3fbe786\", element=\"c02fd705-02fb-4c04-b788-ef49fac0ce2f\")>]"
      ]
     },
     "execution_count": 21,
     "metadata": {},
     "output_type": "execute_result"
    }
   ],
   "source": [
    "#extract web elements for experience\n",
    "experience_tags=driver.find_elements(By.XPATH,'//li[@class=\"fleft grey-text br2 placeHolderLi experience\"]')\n",
    "experience_tags"
   ]
  },
  {
   "cell_type": "code",
   "execution_count": 22,
   "id": "6818d899",
   "metadata": {},
   "outputs": [
    {
     "data": {
      "text/plain": [
       "['0-2 Yrs',\n",
       " '6-11 Yrs',\n",
       " '0-2 Yrs',\n",
       " '3-6 Yrs',\n",
       " '6-8 Yrs',\n",
       " '5-8 Yrs',\n",
       " '2-5 Yrs',\n",
       " '4-9 Yrs',\n",
       " '2-7 Yrs',\n",
       " '1-4 Yrs',\n",
       " '3-6 Yrs',\n",
       " '7-12 Yrs',\n",
       " '0-2 Yrs',\n",
       " '2-5 Yrs',\n",
       " '1-2 Yrs',\n",
       " '5-10 Yrs',\n",
       " '1-6 Yrs',\n",
       " '1-3 Yrs',\n",
       " '3-5 Yrs',\n",
       " '1-3 Yrs']"
      ]
     },
     "execution_count": 22,
     "metadata": {},
     "output_type": "execute_result"
    }
   ],
   "source": [
    "required_experience=[]\n",
    "\n",
    "for exp in experience_tags:\n",
    "    required_experience.append(exp.text)\n",
    "required_experience"
   ]
  },
  {
   "cell_type": "code",
   "execution_count": 23,
   "id": "1858bd48",
   "metadata": {},
   "outputs": [
    {
     "data": {
      "text/plain": [
       "(20, 20, 20, 20)"
      ]
     },
     "execution_count": 23,
     "metadata": {},
     "output_type": "execute_result"
    }
   ],
   "source": [
    "len(job_titles),len(job_location),len(company_name),len(required_experience)"
   ]
  },
  {
   "cell_type": "code",
   "execution_count": 24,
   "id": "3fee8ab2",
   "metadata": {},
   "outputs": [
    {
     "data": {
      "text/html": [
       "<div>\n",
       "<style scoped>\n",
       "    .dataframe tbody tr th:only-of-type {\n",
       "        vertical-align: middle;\n",
       "    }\n",
       "\n",
       "    .dataframe tbody tr th {\n",
       "        vertical-align: top;\n",
       "    }\n",
       "\n",
       "    .dataframe thead th {\n",
       "        text-align: right;\n",
       "    }\n",
       "</style>\n",
       "<table border=\"1\" class=\"dataframe\">\n",
       "  <thead>\n",
       "    <tr style=\"text-align: right;\">\n",
       "      <th></th>\n",
       "      <th>Job Title</th>\n",
       "      <th>Company Name</th>\n",
       "      <th>Experience Required</th>\n",
       "      <th>Job Location</th>\n",
       "    </tr>\n",
       "  </thead>\n",
       "  <tbody>\n",
       "    <tr>\n",
       "      <th>0</th>\n",
       "      <td>Associate - Data Analyst</td>\n",
       "      <td>Myntra</td>\n",
       "      <td>0-2 Yrs</td>\n",
       "      <td>Bangalore/Bengaluru</td>\n",
       "    </tr>\n",
       "    <tr>\n",
       "      <th>1</th>\n",
       "      <td>Sr.Business Data Analyst</td>\n",
       "      <td>Collabera</td>\n",
       "      <td>6-11 Yrs</td>\n",
       "      <td>Bangalore/Bengaluru, karnataka\\n(WFH during Co...</td>\n",
       "    </tr>\n",
       "    <tr>\n",
       "      <th>2</th>\n",
       "      <td>Job opportunity For Data Analyst at Trellance ...</td>\n",
       "      <td>CURise Analytics Pvt. Ltd.</td>\n",
       "      <td>0-2 Yrs</td>\n",
       "      <td>Ahmedabad, Bangalore/Bengaluru</td>\n",
       "    </tr>\n",
       "    <tr>\n",
       "      <th>3</th>\n",
       "      <td>Senior Data Analyst</td>\n",
       "      <td>KrazyBee</td>\n",
       "      <td>3-6 Yrs</td>\n",
       "      <td>Bangalore/Bengaluru(Old Madras Road)</td>\n",
       "    </tr>\n",
       "    <tr>\n",
       "      <th>4</th>\n",
       "      <td>Master Data Management Business Analyst</td>\n",
       "      <td>Accenture</td>\n",
       "      <td>6-8 Yrs</td>\n",
       "      <td>Bangalore/Bengaluru</td>\n",
       "    </tr>\n",
       "    <tr>\n",
       "      <th>5</th>\n",
       "      <td>Sr Data Analyst</td>\n",
       "      <td>Thomson Reuters</td>\n",
       "      <td>5-8 Yrs</td>\n",
       "      <td>Bangalore/Bengaluru</td>\n",
       "    </tr>\n",
       "    <tr>\n",
       "      <th>6</th>\n",
       "      <td>Hiring For Data Analyst</td>\n",
       "      <td>Flipkart</td>\n",
       "      <td>2-5 Yrs</td>\n",
       "      <td>Bangalore/Bengaluru</td>\n",
       "    </tr>\n",
       "    <tr>\n",
       "      <th>7</th>\n",
       "      <td>Data Analyst</td>\n",
       "      <td>Wipro</td>\n",
       "      <td>4-9 Yrs</td>\n",
       "      <td>Noida, Hyderabad/Secunderabad, Gurgaon/Gurugra...</td>\n",
       "    </tr>\n",
       "    <tr>\n",
       "      <th>8</th>\n",
       "      <td>Associate Data Analyst</td>\n",
       "      <td>Optum</td>\n",
       "      <td>2-7 Yrs</td>\n",
       "      <td>Bangalore/Bengaluru</td>\n",
       "    </tr>\n",
       "    <tr>\n",
       "      <th>9</th>\n",
       "      <td>Associate Data Analyst</td>\n",
       "      <td>Optum</td>\n",
       "      <td>1-4 Yrs</td>\n",
       "      <td>Bangalore/Bengaluru</td>\n",
       "    </tr>\n",
       "  </tbody>\n",
       "</table>\n",
       "</div>"
      ],
      "text/plain": [
       "                                           Job Title  \\\n",
       "0                           Associate - Data Analyst   \n",
       "1                           Sr.Business Data Analyst   \n",
       "2  Job opportunity For Data Analyst at Trellance ...   \n",
       "3                                Senior Data Analyst   \n",
       "4            Master Data Management Business Analyst   \n",
       "5                                    Sr Data Analyst   \n",
       "6                            Hiring For Data Analyst   \n",
       "7                                       Data Analyst   \n",
       "8                             Associate Data Analyst   \n",
       "9                             Associate Data Analyst   \n",
       "\n",
       "                 Company Name Experience Required  \\\n",
       "0                      Myntra             0-2 Yrs   \n",
       "1                   Collabera            6-11 Yrs   \n",
       "2  CURise Analytics Pvt. Ltd.             0-2 Yrs   \n",
       "3                    KrazyBee             3-6 Yrs   \n",
       "4                   Accenture             6-8 Yrs   \n",
       "5             Thomson Reuters             5-8 Yrs   \n",
       "6                    Flipkart             2-5 Yrs   \n",
       "7                       Wipro             4-9 Yrs   \n",
       "8                       Optum             2-7 Yrs   \n",
       "9                       Optum             1-4 Yrs   \n",
       "\n",
       "                                        Job Location  \n",
       "0                                Bangalore/Bengaluru  \n",
       "1  Bangalore/Bengaluru, karnataka\\n(WFH during Co...  \n",
       "2                     Ahmedabad, Bangalore/Bengaluru  \n",
       "3               Bangalore/Bengaluru(Old Madras Road)  \n",
       "4                                Bangalore/Bengaluru  \n",
       "5                                Bangalore/Bengaluru  \n",
       "6                                Bangalore/Bengaluru  \n",
       "7  Noida, Hyderabad/Secunderabad, Gurgaon/Gurugra...  \n",
       "8                                Bangalore/Bengaluru  \n",
       "9                                Bangalore/Bengaluru  "
      ]
     },
     "execution_count": 24,
     "metadata": {},
     "output_type": "execute_result"
    }
   ],
   "source": [
    "#data frame\n",
    "data=pd.DataFrame()\n",
    "data['Job Title']=job_titles\n",
    "data['Company Name']= company_name\n",
    "data['Experience Required']=required_experience\n",
    "data['Job Location']=job_location\n",
    "data.head(10)"
   ]
  },
  {
   "cell_type": "markdown",
   "id": "27b4f23d",
   "metadata": {},
   "source": [
    "Q2: Write a python program to scrape data for “Data Scientist” Job position in “Bangalore” location. You \n",
    "have to scrape the job-title, job-location, company_name. You have to scrape first 10 jobs data.\n",
    "This task will be done in following steps:\n",
    "1. First get the webpage https://www.naukri.com/\n",
    "2. Enter “Data Scientist” in “Skill, Designations, Companies” field and enter “Bangalore” in “enter the\n",
    "location” field.\n",
    "3. Then click the search button.\n",
    "4. Then scrape the data for the first 10 jobs results you get.\n",
    "5. Finally create a dataframe of the scraped data"
   ]
  },
  {
   "cell_type": "code",
   "execution_count": 27,
   "id": "3e4cb3a7",
   "metadata": {},
   "outputs": [],
   "source": [
    "driver=webdriver.Chrome(r'C:\\Users\\sande\\Downloads\\chromedriver_win32\\chromedriver.exe')\n",
    "url='https://www.naukri.com/'\n",
    "driver.get(url)"
   ]
  },
  {
   "cell_type": "code",
   "execution_count": 28,
   "id": "2189ca73",
   "metadata": {},
   "outputs": [],
   "source": [
    "#web element for search job bar using id\n",
    "job_search1=driver.find_element(By.CLASS_NAME,\"suggestor-input\")\n"
   ]
  },
  {
   "cell_type": "code",
   "execution_count": 30,
   "id": "1b413ec9",
   "metadata": {},
   "outputs": [],
   "source": [
    "#Provide the search details\n",
    "job_search1.send_keys(\"Data Scientist\")"
   ]
  },
  {
   "cell_type": "code",
   "execution_count": 31,
   "id": "3ef5d5c9",
   "metadata": {},
   "outputs": [
    {
     "data": {
      "text/plain": [
       "<selenium.webdriver.remote.webelement.WebElement (session=\"a5f49a718e149889a79d97297de3a5a6\", element=\"f71dc078-2d11-45ff-a924-ead3a6cba5fb\")>"
      ]
     },
     "execution_count": 31,
     "metadata": {},
     "output_type": "execute_result"
    }
   ],
   "source": [
    "#location tag\n",
    "location_search=driver.find_element(By.XPATH,\"/html/body/div[1]/div[2]/div[3]/div/div/div[5]/div/div/div/input\")\n",
    "location_search"
   ]
  },
  {
   "cell_type": "code",
   "execution_count": 32,
   "id": "70e2a2da",
   "metadata": {},
   "outputs": [],
   "source": [
    "location_search.send_keys(\"Bangalore\")"
   ]
  },
  {
   "cell_type": "code",
   "execution_count": 33,
   "id": "da8beec3",
   "metadata": {},
   "outputs": [
    {
     "data": {
      "text/plain": [
       "<selenium.webdriver.remote.webelement.WebElement (session=\"a5f49a718e149889a79d97297de3a5a6\", element=\"10439321-08dd-49d8-838b-dc43b3b40b73\")>"
      ]
     },
     "execution_count": 33,
     "metadata": {},
     "output_type": "execute_result"
    }
   ],
   "source": [
    "search_btn=driver.find_element(By.XPATH,'/html/body/div[1]/div[2]/div[3]/div/div/div[6]')\n",
    "search_btn"
   ]
  },
  {
   "cell_type": "code",
   "execution_count": 34,
   "id": "a7771b41",
   "metadata": {},
   "outputs": [],
   "source": [
    "search_btn.click()"
   ]
  },
  {
   "cell_type": "code",
   "execution_count": 35,
   "id": "7cf2af1e",
   "metadata": {},
   "outputs": [
    {
     "data": {
      "text/plain": [
       "[<selenium.webdriver.remote.webelement.WebElement (session=\"a5f49a718e149889a79d97297de3a5a6\", element=\"9570d57f-2c52-42ce-81fd-9e4cfdbeef1c\")>,\n",
       " <selenium.webdriver.remote.webelement.WebElement (session=\"a5f49a718e149889a79d97297de3a5a6\", element=\"b57cb379-e313-4d1b-b7a0-84ad9a445a22\")>,\n",
       " <selenium.webdriver.remote.webelement.WebElement (session=\"a5f49a718e149889a79d97297de3a5a6\", element=\"b3ed662a-2667-4baa-925b-44ff55f20266\")>,\n",
       " <selenium.webdriver.remote.webelement.WebElement (session=\"a5f49a718e149889a79d97297de3a5a6\", element=\"75ffe84c-cf53-4242-b6fc-6e21bdb868ab\")>,\n",
       " <selenium.webdriver.remote.webelement.WebElement (session=\"a5f49a718e149889a79d97297de3a5a6\", element=\"425614a0-1caa-43af-bc53-dbf47f923a91\")>,\n",
       " <selenium.webdriver.remote.webelement.WebElement (session=\"a5f49a718e149889a79d97297de3a5a6\", element=\"16d374df-6147-4bb8-80f6-d44f04cf4455\")>,\n",
       " <selenium.webdriver.remote.webelement.WebElement (session=\"a5f49a718e149889a79d97297de3a5a6\", element=\"5d8c44c9-d893-4632-9b08-a45e78fc91e4\")>,\n",
       " <selenium.webdriver.remote.webelement.WebElement (session=\"a5f49a718e149889a79d97297de3a5a6\", element=\"a2f4520d-89d2-42aa-b3bb-62be6bac87ee\")>,\n",
       " <selenium.webdriver.remote.webelement.WebElement (session=\"a5f49a718e149889a79d97297de3a5a6\", element=\"3c3e9074-7c6a-4861-b968-3fb826fb1412\")>,\n",
       " <selenium.webdriver.remote.webelement.WebElement (session=\"a5f49a718e149889a79d97297de3a5a6\", element=\"72945236-3829-4883-92a0-f6744aa58c33\")>,\n",
       " <selenium.webdriver.remote.webelement.WebElement (session=\"a5f49a718e149889a79d97297de3a5a6\", element=\"f6464735-063a-401e-982c-b56d7e6e42e9\")>,\n",
       " <selenium.webdriver.remote.webelement.WebElement (session=\"a5f49a718e149889a79d97297de3a5a6\", element=\"885df7a4-1b6c-429e-b3e7-2209d37c3fb9\")>,\n",
       " <selenium.webdriver.remote.webelement.WebElement (session=\"a5f49a718e149889a79d97297de3a5a6\", element=\"7681229d-65f6-4acc-9829-887e514cbecc\")>,\n",
       " <selenium.webdriver.remote.webelement.WebElement (session=\"a5f49a718e149889a79d97297de3a5a6\", element=\"51a0286a-1f11-4715-8175-ca4497002409\")>,\n",
       " <selenium.webdriver.remote.webelement.WebElement (session=\"a5f49a718e149889a79d97297de3a5a6\", element=\"0526ee13-910a-4f1b-83c2-a59248851d1d\")>,\n",
       " <selenium.webdriver.remote.webelement.WebElement (session=\"a5f49a718e149889a79d97297de3a5a6\", element=\"04562a32-4831-4839-803e-9e32a3a5befe\")>,\n",
       " <selenium.webdriver.remote.webelement.WebElement (session=\"a5f49a718e149889a79d97297de3a5a6\", element=\"300cdf04-5efe-40e9-b3e7-43484dd41fc8\")>,\n",
       " <selenium.webdriver.remote.webelement.WebElement (session=\"a5f49a718e149889a79d97297de3a5a6\", element=\"e090b268-aa8c-4918-9a1d-e9f4811e42e3\")>,\n",
       " <selenium.webdriver.remote.webelement.WebElement (session=\"a5f49a718e149889a79d97297de3a5a6\", element=\"d4b9aaa5-2ed4-479a-bd44-bc920e31032a\")>,\n",
       " <selenium.webdriver.remote.webelement.WebElement (session=\"a5f49a718e149889a79d97297de3a5a6\", element=\"fbeb5932-7b83-40d4-96f3-483df781af83\")>]"
      ]
     },
     "execution_count": 35,
     "metadata": {},
     "output_type": "execute_result"
    }
   ],
   "source": [
    "#extract all web elements having job titles\n",
    "title_tags=driver.find_elements(By.XPATH,'//a[@class=\"title fw500 ellipsis\"]')\n",
    "title_tags"
   ]
  },
  {
   "cell_type": "code",
   "execution_count": 36,
   "id": "7ede334f",
   "metadata": {},
   "outputs": [
    {
     "data": {
      "text/plain": [
       "['Urgent Job Opening For AI Practitioner - Data Science at Wipro Holmes',\n",
       " 'Hiring For Senior Data Scientist',\n",
       " 'Data Scientist',\n",
       " 'Data & Analytics Tech - Informatica Cloud- Senior Associate',\n",
       " 'Dataiku Consultant',\n",
       " 'Research and Development -AI/ML -(PhD )',\n",
       " 'Opportunity For Data Scientist - Female Candidates ONLY',\n",
       " 'Senior Data Science Engineer',\n",
       " 'Data Science - Engineering Manager',\n",
       " 'EY GBS - Assistant Director - Data Science (10+ years), Bangalore',\n",
       " 'Data Scientist: Advanced Analytics',\n",
       " 'Research Scientist',\n",
       " 'Principal - Data Scientist',\n",
       " 'Data Scientist',\n",
       " 'Data Scientist, Personalization',\n",
       " 'AWS Sagemaker',\n",
       " 'Data Scientist',\n",
       " 'Data Engineer - ML Ops',\n",
       " 'Data Scientist',\n",
       " 'Data Scientist']"
      ]
     },
     "execution_count": 36,
     "metadata": {},
     "output_type": "execute_result"
    }
   ],
   "source": [
    "job_titles1=[]\n",
    "for job in title_tags:\n",
    "    job_titles1.append(job.text)\n",
    "    \n",
    "job_titles1"
   ]
  },
  {
   "cell_type": "code",
   "execution_count": 37,
   "id": "c39f431c",
   "metadata": {},
   "outputs": [
    {
     "data": {
      "text/plain": [
       "[<selenium.webdriver.remote.webelement.WebElement (session=\"a5f49a718e149889a79d97297de3a5a6\", element=\"d8995c45-1737-48c1-a151-985bab6d348b\")>,\n",
       " <selenium.webdriver.remote.webelement.WebElement (session=\"a5f49a718e149889a79d97297de3a5a6\", element=\"8a08a834-aa4d-4433-8e6c-80e1ef4e53f3\")>,\n",
       " <selenium.webdriver.remote.webelement.WebElement (session=\"a5f49a718e149889a79d97297de3a5a6\", element=\"62ea0000-efcb-409a-b70c-65af15fa9cda\")>,\n",
       " <selenium.webdriver.remote.webelement.WebElement (session=\"a5f49a718e149889a79d97297de3a5a6\", element=\"a41d82ba-761a-496d-8815-6d239f58ddad\")>,\n",
       " <selenium.webdriver.remote.webelement.WebElement (session=\"a5f49a718e149889a79d97297de3a5a6\", element=\"4749f805-ed14-4757-b058-0614b3cc34c7\")>,\n",
       " <selenium.webdriver.remote.webelement.WebElement (session=\"a5f49a718e149889a79d97297de3a5a6\", element=\"6e2a32ad-7305-425b-a7bb-1ef31a00dea0\")>,\n",
       " <selenium.webdriver.remote.webelement.WebElement (session=\"a5f49a718e149889a79d97297de3a5a6\", element=\"f38fced2-086b-454c-b90d-0174875d7f59\")>,\n",
       " <selenium.webdriver.remote.webelement.WebElement (session=\"a5f49a718e149889a79d97297de3a5a6\", element=\"04b0597a-344d-457d-b98e-811050f18ff6\")>,\n",
       " <selenium.webdriver.remote.webelement.WebElement (session=\"a5f49a718e149889a79d97297de3a5a6\", element=\"cab791ec-5ba1-48c7-8a61-1f9e6a0c3165\")>,\n",
       " <selenium.webdriver.remote.webelement.WebElement (session=\"a5f49a718e149889a79d97297de3a5a6\", element=\"9607ad25-72ac-4431-b3cd-37d5b28cf847\")>,\n",
       " <selenium.webdriver.remote.webelement.WebElement (session=\"a5f49a718e149889a79d97297de3a5a6\", element=\"80424378-7ae5-464e-b662-3650b5353b6b\")>,\n",
       " <selenium.webdriver.remote.webelement.WebElement (session=\"a5f49a718e149889a79d97297de3a5a6\", element=\"94ad29f6-8573-4f8b-b724-c068a3d69800\")>,\n",
       " <selenium.webdriver.remote.webelement.WebElement (session=\"a5f49a718e149889a79d97297de3a5a6\", element=\"27602cb5-61ba-44ec-9ab6-b0d8dfb3656c\")>,\n",
       " <selenium.webdriver.remote.webelement.WebElement (session=\"a5f49a718e149889a79d97297de3a5a6\", element=\"782e9961-6024-4940-9289-65b30100c8fd\")>,\n",
       " <selenium.webdriver.remote.webelement.WebElement (session=\"a5f49a718e149889a79d97297de3a5a6\", element=\"d8975e97-ebba-4797-ba7c-e0fb60880b1d\")>,\n",
       " <selenium.webdriver.remote.webelement.WebElement (session=\"a5f49a718e149889a79d97297de3a5a6\", element=\"a0a792b8-b38f-4705-8c4b-d7c86c9854f3\")>,\n",
       " <selenium.webdriver.remote.webelement.WebElement (session=\"a5f49a718e149889a79d97297de3a5a6\", element=\"230b75d3-4e86-4299-aa57-5d0074ed2355\")>,\n",
       " <selenium.webdriver.remote.webelement.WebElement (session=\"a5f49a718e149889a79d97297de3a5a6\", element=\"c826207d-2a27-4b56-9729-fb5a07c8d45d\")>,\n",
       " <selenium.webdriver.remote.webelement.WebElement (session=\"a5f49a718e149889a79d97297de3a5a6\", element=\"cc274f8c-54f9-4cb4-9a53-a890ca709791\")>,\n",
       " <selenium.webdriver.remote.webelement.WebElement (session=\"a5f49a718e149889a79d97297de3a5a6\", element=\"6b55204f-1b66-40ca-bf9c-243a1a07d6f2\")>]"
      ]
     },
     "execution_count": 37,
     "metadata": {},
     "output_type": "execute_result"
    }
   ],
   "source": [
    "#Let's extract all web elements for company\n",
    "company_tags1=driver.find_elements(By.XPATH,'//a[@class=\"subTitle ellipsis fleft\"]')\n",
    "company_tags1"
   ]
  },
  {
   "cell_type": "code",
   "execution_count": 38,
   "id": "26d88472",
   "metadata": {},
   "outputs": [
    {
     "data": {
      "text/plain": [
       "['Wipro',\n",
       " 'TATA CONSULTANCY SERVICES (TCS)',\n",
       " 'Applied Materials',\n",
       " 'PwC',\n",
       " 'Wipro',\n",
       " 'EXL',\n",
       " 'PayU',\n",
       " 'Fractal Analytics',\n",
       " 'Paytm',\n",
       " 'EYGBS',\n",
       " 'IBM',\n",
       " 'IBM',\n",
       " 'Schneider Electric',\n",
       " 'IBM',\n",
       " 'Walmart',\n",
       " 'Wipro',\n",
       " 'Wipro',\n",
       " 'VISA',\n",
       " 'Applied Materials',\n",
       " 'Applied Materials']"
      ]
     },
     "execution_count": 38,
     "metadata": {},
     "output_type": "execute_result"
    }
   ],
   "source": [
    "#extract company name from tags(web element)\n",
    "\n",
    "company_name1=[]\n",
    "\n",
    "for comp in company_tags1:\n",
    "    company_name1.append(comp.text)\n",
    "company_name1"
   ]
  },
  {
   "cell_type": "code",
   "execution_count": 39,
   "id": "707d96de",
   "metadata": {},
   "outputs": [
    {
     "data": {
      "text/plain": [
       "[<selenium.webdriver.remote.webelement.WebElement (session=\"a5f49a718e149889a79d97297de3a5a6\", element=\"b9eb6fe0-0f49-42f4-9ca5-5627c825f065\")>,\n",
       " <selenium.webdriver.remote.webelement.WebElement (session=\"a5f49a718e149889a79d97297de3a5a6\", element=\"128646ca-0f87-404e-bde8-a5e82898d926\")>,\n",
       " <selenium.webdriver.remote.webelement.WebElement (session=\"a5f49a718e149889a79d97297de3a5a6\", element=\"496926f1-fe5e-4b02-bb09-7d422cd9bebd\")>,\n",
       " <selenium.webdriver.remote.webelement.WebElement (session=\"a5f49a718e149889a79d97297de3a5a6\", element=\"1107c5c5-1069-4346-96c6-d5624f4859de\")>,\n",
       " <selenium.webdriver.remote.webelement.WebElement (session=\"a5f49a718e149889a79d97297de3a5a6\", element=\"77331798-b71c-405a-813a-61a1d1fbc44f\")>,\n",
       " <selenium.webdriver.remote.webelement.WebElement (session=\"a5f49a718e149889a79d97297de3a5a6\", element=\"d40caedd-cd43-4644-a655-209bd9ea2b94\")>,\n",
       " <selenium.webdriver.remote.webelement.WebElement (session=\"a5f49a718e149889a79d97297de3a5a6\", element=\"d5d49c9b-dbc1-448f-952c-3c98ce8590d4\")>,\n",
       " <selenium.webdriver.remote.webelement.WebElement (session=\"a5f49a718e149889a79d97297de3a5a6\", element=\"958e8e2f-57fc-4f49-84f5-d4c18ce32946\")>,\n",
       " <selenium.webdriver.remote.webelement.WebElement (session=\"a5f49a718e149889a79d97297de3a5a6\", element=\"f9611d1a-e76d-4250-ae8d-76f47b5c92e4\")>,\n",
       " <selenium.webdriver.remote.webelement.WebElement (session=\"a5f49a718e149889a79d97297de3a5a6\", element=\"70485aa1-5944-4e3d-bf2f-ac54a5a737fb\")>,\n",
       " <selenium.webdriver.remote.webelement.WebElement (session=\"a5f49a718e149889a79d97297de3a5a6\", element=\"c57d9afd-d141-4a20-a277-c8fbddaafb74\")>,\n",
       " <selenium.webdriver.remote.webelement.WebElement (session=\"a5f49a718e149889a79d97297de3a5a6\", element=\"3d70fded-e11b-4d95-857f-de0f79871f1d\")>,\n",
       " <selenium.webdriver.remote.webelement.WebElement (session=\"a5f49a718e149889a79d97297de3a5a6\", element=\"90f09c6f-70d3-4a11-86bc-9d025d3faf86\")>,\n",
       " <selenium.webdriver.remote.webelement.WebElement (session=\"a5f49a718e149889a79d97297de3a5a6\", element=\"a6efeb74-8a67-4320-87b1-38a6b1722b30\")>,\n",
       " <selenium.webdriver.remote.webelement.WebElement (session=\"a5f49a718e149889a79d97297de3a5a6\", element=\"f2c92bae-8bfe-4d88-83f3-12c0d0cf69ea\")>,\n",
       " <selenium.webdriver.remote.webelement.WebElement (session=\"a5f49a718e149889a79d97297de3a5a6\", element=\"4cb755b3-7395-4704-8af2-12dd4f67aadb\")>,\n",
       " <selenium.webdriver.remote.webelement.WebElement (session=\"a5f49a718e149889a79d97297de3a5a6\", element=\"332eb23e-8210-4d8b-a077-7e7fe348b007\")>,\n",
       " <selenium.webdriver.remote.webelement.WebElement (session=\"a5f49a718e149889a79d97297de3a5a6\", element=\"104ab5cc-654c-4901-8758-c0aa1435266b\")>,\n",
       " <selenium.webdriver.remote.webelement.WebElement (session=\"a5f49a718e149889a79d97297de3a5a6\", element=\"d976939a-5b93-4ee6-a6fb-1257777d6655\")>,\n",
       " <selenium.webdriver.remote.webelement.WebElement (session=\"a5f49a718e149889a79d97297de3a5a6\", element=\"b1139b24-19da-4307-9375-81cd35ec8b93\")>]"
      ]
     },
     "execution_count": 39,
     "metadata": {},
     "output_type": "execute_result"
    }
   ],
   "source": [
    "# Extracting location\n",
    "location_tags=driver.find_elements(By.XPATH,'//li[@class=\"fleft grey-text br2 placeHolderLi location\"]')\n",
    "location_tags"
   ]
  },
  {
   "cell_type": "code",
   "execution_count": 40,
   "id": "8a9004be",
   "metadata": {},
   "outputs": [
    {
     "data": {
      "text/plain": [
       "['Bangalore/Bengaluru, Kochi/Cochin, New Delhi, Coimbatore, Chennai, Pune, Mumbai, Hyderabad',\n",
       " 'Bangalore/Bengaluru, Pune',\n",
       " 'Bangalore/Bengaluru',\n",
       " 'Bangalore/Bengaluru',\n",
       " 'Bangalore/Bengaluru, Pune, Chennai',\n",
       " 'Bangalore/Bengaluru, Noida, Hyderabad/Secunderabad, Pune, Gurgaon/Gurugram, Chennai, Delhi / NCR',\n",
       " 'Bangalore/Bengaluru, Gurgaon/Gurugram, Mumbai (All Areas)',\n",
       " 'Bangalore/Bengaluru, Gurgaon/Gurugram, Mumbai (All Areas)',\n",
       " 'Bangalore/Bengaluru, Noida, Mumbai',\n",
       " 'Bangalore/Bengaluru',\n",
       " 'Bangalore/Bengaluru',\n",
       " 'Bangalore/Bengaluru',\n",
       " 'Bangalore/Bengaluru',\n",
       " 'Bangalore/Bengaluru',\n",
       " 'Bangalore/Bengaluru',\n",
       " 'Bangalore/Bengaluru\\n(WFH during Covid)',\n",
       " 'Bangalore/Bengaluru\\n(WFH during Covid)',\n",
       " 'Bangalore/Bengaluru',\n",
       " 'Bangalore/Bengaluru',\n",
       " 'Bangalore/Bengaluru']"
      ]
     },
     "execution_count": 40,
     "metadata": {},
     "output_type": "execute_result"
    }
   ],
   "source": [
    "job_location1=[]\n",
    "\n",
    "for loc in location_tags:\n",
    "    job_location1.append(loc.text)\n",
    "job_location1"
   ]
  },
  {
   "cell_type": "code",
   "execution_count": 41,
   "id": "827a62d5",
   "metadata": {},
   "outputs": [
    {
     "data": {
      "text/html": [
       "<div>\n",
       "<style scoped>\n",
       "    .dataframe tbody tr th:only-of-type {\n",
       "        vertical-align: middle;\n",
       "    }\n",
       "\n",
       "    .dataframe tbody tr th {\n",
       "        vertical-align: top;\n",
       "    }\n",
       "\n",
       "    .dataframe thead th {\n",
       "        text-align: right;\n",
       "    }\n",
       "</style>\n",
       "<table border=\"1\" class=\"dataframe\">\n",
       "  <thead>\n",
       "    <tr style=\"text-align: right;\">\n",
       "      <th></th>\n",
       "      <th>Job Title</th>\n",
       "      <th>Company Name</th>\n",
       "      <th>Job Location</th>\n",
       "    </tr>\n",
       "  </thead>\n",
       "  <tbody>\n",
       "    <tr>\n",
       "      <th>0</th>\n",
       "      <td>Urgent Job Opening For AI Practitioner - Data ...</td>\n",
       "      <td>Wipro</td>\n",
       "      <td>Bangalore/Bengaluru, Kochi/Cochin, New Delhi, ...</td>\n",
       "    </tr>\n",
       "    <tr>\n",
       "      <th>1</th>\n",
       "      <td>Hiring For Senior Data Scientist</td>\n",
       "      <td>TATA CONSULTANCY SERVICES (TCS)</td>\n",
       "      <td>Bangalore/Bengaluru, Pune</td>\n",
       "    </tr>\n",
       "    <tr>\n",
       "      <th>2</th>\n",
       "      <td>Data Scientist</td>\n",
       "      <td>Applied Materials</td>\n",
       "      <td>Bangalore/Bengaluru</td>\n",
       "    </tr>\n",
       "    <tr>\n",
       "      <th>3</th>\n",
       "      <td>Data &amp; Analytics Tech - Informatica Cloud- Sen...</td>\n",
       "      <td>PwC</td>\n",
       "      <td>Bangalore/Bengaluru</td>\n",
       "    </tr>\n",
       "    <tr>\n",
       "      <th>4</th>\n",
       "      <td>Dataiku Consultant</td>\n",
       "      <td>Wipro</td>\n",
       "      <td>Bangalore/Bengaluru, Pune, Chennai</td>\n",
       "    </tr>\n",
       "    <tr>\n",
       "      <th>5</th>\n",
       "      <td>Research and Development -AI/ML -(PhD )</td>\n",
       "      <td>EXL</td>\n",
       "      <td>Bangalore/Bengaluru, Noida, Hyderabad/Secunder...</td>\n",
       "    </tr>\n",
       "    <tr>\n",
       "      <th>6</th>\n",
       "      <td>Opportunity For Data Scientist - Female Candid...</td>\n",
       "      <td>PayU</td>\n",
       "      <td>Bangalore/Bengaluru, Gurgaon/Gurugram, Mumbai ...</td>\n",
       "    </tr>\n",
       "    <tr>\n",
       "      <th>7</th>\n",
       "      <td>Senior Data Science Engineer</td>\n",
       "      <td>Fractal Analytics</td>\n",
       "      <td>Bangalore/Bengaluru, Gurgaon/Gurugram, Mumbai ...</td>\n",
       "    </tr>\n",
       "    <tr>\n",
       "      <th>8</th>\n",
       "      <td>Data Science - Engineering Manager</td>\n",
       "      <td>Paytm</td>\n",
       "      <td>Bangalore/Bengaluru, Noida, Mumbai</td>\n",
       "    </tr>\n",
       "    <tr>\n",
       "      <th>9</th>\n",
       "      <td>EY GBS - Assistant Director - Data Science (10...</td>\n",
       "      <td>EYGBS</td>\n",
       "      <td>Bangalore/Bengaluru</td>\n",
       "    </tr>\n",
       "  </tbody>\n",
       "</table>\n",
       "</div>"
      ],
      "text/plain": [
       "                                           Job Title  \\\n",
       "0  Urgent Job Opening For AI Practitioner - Data ...   \n",
       "1                   Hiring For Senior Data Scientist   \n",
       "2                                     Data Scientist   \n",
       "3  Data & Analytics Tech - Informatica Cloud- Sen...   \n",
       "4                                 Dataiku Consultant   \n",
       "5            Research and Development -AI/ML -(PhD )   \n",
       "6  Opportunity For Data Scientist - Female Candid...   \n",
       "7                       Senior Data Science Engineer   \n",
       "8                 Data Science - Engineering Manager   \n",
       "9  EY GBS - Assistant Director - Data Science (10...   \n",
       "\n",
       "                      Company Name  \\\n",
       "0                            Wipro   \n",
       "1  TATA CONSULTANCY SERVICES (TCS)   \n",
       "2                Applied Materials   \n",
       "3                              PwC   \n",
       "4                            Wipro   \n",
       "5                              EXL   \n",
       "6                             PayU   \n",
       "7                Fractal Analytics   \n",
       "8                            Paytm   \n",
       "9                            EYGBS   \n",
       "\n",
       "                                        Job Location  \n",
       "0  Bangalore/Bengaluru, Kochi/Cochin, New Delhi, ...  \n",
       "1                          Bangalore/Bengaluru, Pune  \n",
       "2                                Bangalore/Bengaluru  \n",
       "3                                Bangalore/Bengaluru  \n",
       "4                 Bangalore/Bengaluru, Pune, Chennai  \n",
       "5  Bangalore/Bengaluru, Noida, Hyderabad/Secunder...  \n",
       "6  Bangalore/Bengaluru, Gurgaon/Gurugram, Mumbai ...  \n",
       "7  Bangalore/Bengaluru, Gurgaon/Gurugram, Mumbai ...  \n",
       "8                 Bangalore/Bengaluru, Noida, Mumbai  \n",
       "9                                Bangalore/Bengaluru  "
      ]
     },
     "execution_count": 41,
     "metadata": {},
     "output_type": "execute_result"
    }
   ],
   "source": [
    "#data Frame\n",
    "data=pd.DataFrame()\n",
    "data['Job Title']=job_titles1\n",
    "data['Company Name']= company_name1\n",
    "data['Job Location']=job_location1\n",
    "data.head(10)"
   ]
  },
  {
   "cell_type": "markdown",
   "id": "13357b79",
   "metadata": {},
   "source": [
    "Q3: In this question you have to scrape data using the filters available on the webpage\n",
    "You have to use the location and salary filter.\n",
    "You have to scrape data for “Data Scientist” designation for first 10 job results.\n",
    "You have to scrape the job-title, job-location, company name, experience required. \n",
    "The location filter to be used is “Delhi/NCR”. The salary filter to be used is “3-6” lakhs\n",
    "The task will be done as shown in the below steps:\n",
    "1. first get the webpage https://www.naukri.com/\n",
    "2. Enter “Data Scientist” in “Skill, Designations, and Companies” field.\n",
    "3. Then click the search button.\n",
    "4. Then apply the location filter and salary filter by checking the respective boxes\n",
    "5. Then scrape the data for the first 10 jobs results you get.\n",
    "6. Finally create a dataframe of the scraped data."
   ]
  },
  {
   "cell_type": "code",
   "execution_count": 42,
   "id": "893ae4ea",
   "metadata": {},
   "outputs": [],
   "source": [
    "driver=webdriver.Chrome(r'C:\\Users\\sande\\Downloads\\chromedriver_win32\\chromedriver.exe')\n",
    "url='https://www.naukri.com/'\n",
    "driver.get(url)"
   ]
  },
  {
   "cell_type": "code",
   "execution_count": 43,
   "id": "1a4d3229",
   "metadata": {},
   "outputs": [],
   "source": [
    "#Web element for job search\n",
    "job_search2=driver.find_element(By.CLASS_NAME,\"suggestor-input\")\n"
   ]
  },
  {
   "cell_type": "code",
   "execution_count": 45,
   "id": "98d0d51a",
   "metadata": {},
   "outputs": [],
   "source": [
    "#Provide the search details\n",
    "job_search2.send_keys(\"Data Scientist\")"
   ]
  },
  {
   "cell_type": "code",
   "execution_count": 46,
   "id": "72ce702c",
   "metadata": {},
   "outputs": [
    {
     "data": {
      "text/plain": [
       "<selenium.webdriver.remote.webelement.WebElement (session=\"35024197068ed16c47adcc9cbe8bcb4d\", element=\"cd3be4b8-f4c1-4751-be02-df516b6bc7d4\")>"
      ]
     },
     "execution_count": 46,
     "metadata": {},
     "output_type": "execute_result"
    }
   ],
   "source": [
    "#Search Button element\n",
    "search_btn=driver.find_element(By.XPATH,'/html/body/div[1]/div[2]/div[3]/div/div/div[6]')\n",
    "search_btn"
   ]
  },
  {
   "cell_type": "code",
   "execution_count": 47,
   "id": "21af63a8",
   "metadata": {},
   "outputs": [],
   "source": [
    "search_btn.click()"
   ]
  },
  {
   "cell_type": "code",
   "execution_count": 49,
   "id": "e7a6d375",
   "metadata": {},
   "outputs": [
    {
     "data": {
      "text/plain": [
       "<selenium.webdriver.remote.webelement.WebElement (session=\"35024197068ed16c47adcc9cbe8bcb4d\", element=\"88f68967-fb4d-4d9e-b28c-72ba132bb7de\")>"
      ]
     },
     "execution_count": 49,
     "metadata": {},
     "output_type": "execute_result"
    }
   ],
   "source": [
    "salary_check=driver.find_element(By.XPATH,'/html/body/div[1]/div[3]/div[2]/section[1]/div[2]/div[6]/div[2]/div[2]/label/p/span[1]')\n",
    "salary_check                                           \n",
    "                                           "
   ]
  },
  {
   "cell_type": "code",
   "execution_count": 50,
   "id": "bb9da330",
   "metadata": {},
   "outputs": [],
   "source": [
    "salary_check.click()"
   ]
  },
  {
   "cell_type": "code",
   "execution_count": 53,
   "id": "a680e842",
   "metadata": {},
   "outputs": [],
   "source": [
    "location=driver.find_element(By.XPATH,'/html/body/div[1]/div[3]/div[2]/section[1]/div[2]/div[6]/div[2]/div[3]/label/p/span[1]')\n",
    "location.click()"
   ]
  },
  {
   "cell_type": "code",
   "execution_count": 54,
   "id": "f9386017",
   "metadata": {},
   "outputs": [],
   "source": [
    "#Extract job titles\n",
    "title_tags=driver.find_elements(By.XPATH,'//a[@class=\"title fw500 ellipsis\"]')\n"
   ]
  },
  {
   "cell_type": "code",
   "execution_count": 55,
   "id": "729f384a",
   "metadata": {},
   "outputs": [
    {
     "data": {
      "text/plain": [
       "['DigitalBCG GAMMA Data Scientist',\n",
       " 'Data Scientist - Noida/Bangalore',\n",
       " 'Senior Associate - Data Science',\n",
       " 'Data Scientist For Healthcare Product team',\n",
       " 'Data Scientist For Healthcare Product team',\n",
       " 'Data Scientist - Machine learning AI',\n",
       " 'Data Scientist - MIND Infotech',\n",
       " 'Data Scientist - Engine Algorithm',\n",
       " 'Knowledge/Data Scientist',\n",
       " 'Data Scientist',\n",
       " 'Data Scientist',\n",
       " 'Data Scientist',\n",
       " 'Data Science',\n",
       " 'Data Science',\n",
       " 'Machine Learning Seniors',\n",
       " 'Data Scientist',\n",
       " 'Hiring || Data Scientist || North Delhi || 5.5 days working',\n",
       " 'Data scientist- Python',\n",
       " 'Dot Net Developer',\n",
       " 'Data Engineer']"
      ]
     },
     "execution_count": 55,
     "metadata": {},
     "output_type": "execute_result"
    }
   ],
   "source": [
    "job_titles3=[]\n",
    "for job in title_tags:\n",
    "    job_titles3.append(job.text)\n",
    "    \n",
    "job_titles3"
   ]
  },
  {
   "cell_type": "code",
   "execution_count": 56,
   "id": "37851ce7",
   "metadata": {},
   "outputs": [],
   "source": [
    "#Extracting company names\n",
    "\n",
    "company_tags=driver.find_elements(By.XPATH,'//a[@class=\"subTitle ellipsis fleft\"]')\n"
   ]
  },
  {
   "cell_type": "code",
   "execution_count": 58,
   "id": "1d1eb17a",
   "metadata": {},
   "outputs": [
    {
     "data": {
      "text/plain": [
       "['Boston Consulting Group',\n",
       " 'EXL',\n",
       " 'Black Turtle',\n",
       " '8KMiles Software Services',\n",
       " '8KMiles Software Services',\n",
       " 'Teq Analytics',\n",
       " 'MOTHERSONSUMI INFOTECH & DESIGNS LIMITED',\n",
       " 'Primo Hiring',\n",
       " 'BOLD Technology Systems',\n",
       " 'Mount Talent Consulting Private Limited',\n",
       " 'Mount Talent Consulting Private Limited',\n",
       " 'Sydata Consulting India Pvt Ltd',\n",
       " 'Mount Talent Consulting Private Limited',\n",
       " 'Mount Talent Consulting Private Limited',\n",
       " 'Walking Tree Consultancy Services pvt Ltd',\n",
       " 'Kellton Tech Solutions',\n",
       " 'Shriram Automall',\n",
       " 'TeamPlus Staffing Solution Pvt Ltd',\n",
       " 'Nibha Infotech Private Limited',\n",
       " 'excellence']"
      ]
     },
     "execution_count": 58,
     "metadata": {},
     "output_type": "execute_result"
    }
   ],
   "source": [
    "company3=[]\n",
    "for comp in company_tags:\n",
    "    company3.append(comp.text)\n",
    "    \n",
    "company3"
   ]
  },
  {
   "cell_type": "code",
   "execution_count": 59,
   "id": "0aa277e0",
   "metadata": {},
   "outputs": [
    {
     "data": {
      "text/plain": [
       "['2-5 Yrs',\n",
       " '5-10 Yrs',\n",
       " '4-7 Yrs',\n",
       " '2-7 Yrs',\n",
       " '2-7 Yrs',\n",
       " '3-8 Yrs',\n",
       " '4-8 Yrs',\n",
       " '1-3 Yrs',\n",
       " '3-6 Yrs',\n",
       " '2-4 Yrs',\n",
       " '2-4 Yrs',\n",
       " '3-8 Yrs',\n",
       " '2-5 Yrs',\n",
       " '2-5 Yrs',\n",
       " '2-5 Yrs',\n",
       " '3-6 Yrs',\n",
       " '4-9 Yrs',\n",
       " '3-6 Yrs',\n",
       " '3-8 Yrs',\n",
       " '4-9 Yrs']"
      ]
     },
     "execution_count": 59,
     "metadata": {},
     "output_type": "execute_result"
    }
   ],
   "source": [
    "#Extracting Experience\n",
    "\n",
    "experience_tags=driver.find_elements(By.XPATH,'//li[@class=\"fleft grey-text br2 placeHolderLi experience\"]')\n",
    "required_experience=[]\n",
    "\n",
    "for exp in experience_tags:\n",
    "    required_experience.append(exp.text)\n",
    "    \n",
    "required_experience"
   ]
  },
  {
   "cell_type": "code",
   "execution_count": 60,
   "id": "b82833dd",
   "metadata": {},
   "outputs": [
    {
     "data": {
      "text/plain": [
       "['New Delhi, Bangalore/Bengaluru',\n",
       " 'Noida, Bangalore/Bengaluru',\n",
       " 'Mumbai, Hyderabad/Secunderabad, Gurgaon/Gurugram, Bangalore/Bengaluru',\n",
       " 'Delhi / NCR, Chennai, Bangalore/Bengaluru',\n",
       " 'Delhi / NCR, Chennai, Bangalore/Bengaluru',\n",
       " 'Delhi / NCR, Bangalore/Bengaluru, Mumbai (All Areas)\\n(WFH during Covid)',\n",
       " 'Noida',\n",
       " 'Delhi / NCR, Kolkata, Mumbai, Hyderabad/Secunderabad, Lucknow, Chennai, Ahmedabad, Bangalore/Bengaluru',\n",
       " 'Delhi / NCR',\n",
       " 'Delhi / NCR, Pune, Bangalore/Bengaluru',\n",
       " 'Delhi / NCR, Pune, Bangalore/Bengaluru',\n",
       " 'Delhi / NCR, Bangalore/Bengaluru, Mumbai (All Areas)\\n(WFH during Covid)',\n",
       " 'Delhi / NCR, Noida, Faridabad, Gurgaon/Gurugram, Bangalore/Bengaluru, Greater Noida',\n",
       " 'Delhi / NCR, Noida, Faridabad, Gurgaon/Gurugram, Bangalore/Bengaluru, Greater Noida',\n",
       " 'Hyderabad/Secunderabad, New Delhi',\n",
       " 'Gurgaon/Gurugram',\n",
       " 'Delhi / NCR(Netaji Subhash Place)',\n",
       " 'Gurgaon/Gurugram',\n",
       " 'Delhi / NCR, Gurgaon/Gurugram',\n",
       " 'Mumbai, New Delhi, Pune']"
      ]
     },
     "execution_count": 60,
     "metadata": {},
     "output_type": "execute_result"
    }
   ],
   "source": [
    "#Extracting location\n",
    "location_tags=driver.find_elements(By.XPATH,'//li[@class=\"fleft grey-text br2 placeHolderLi location\"]')\n",
    "\n",
    "location=[]\n",
    "\n",
    "for loc in location_tags:\n",
    "    location.append(loc.text)\n",
    "location"
   ]
  },
  {
   "cell_type": "code",
   "execution_count": 61,
   "id": "5a722113",
   "metadata": {},
   "outputs": [
    {
     "data": {
      "text/plain": [
       "(20, 20, 20, 20)"
      ]
     },
     "execution_count": 61,
     "metadata": {},
     "output_type": "execute_result"
    }
   ],
   "source": [
    "len(location),len(company3),len(required_experience),len(job_titles3)"
   ]
  },
  {
   "cell_type": "code",
   "execution_count": 62,
   "id": "9b762a12",
   "metadata": {},
   "outputs": [
    {
     "data": {
      "text/html": [
       "<div>\n",
       "<style scoped>\n",
       "    .dataframe tbody tr th:only-of-type {\n",
       "        vertical-align: middle;\n",
       "    }\n",
       "\n",
       "    .dataframe tbody tr th {\n",
       "        vertical-align: top;\n",
       "    }\n",
       "\n",
       "    .dataframe thead th {\n",
       "        text-align: right;\n",
       "    }\n",
       "</style>\n",
       "<table border=\"1\" class=\"dataframe\">\n",
       "  <thead>\n",
       "    <tr style=\"text-align: right;\">\n",
       "      <th></th>\n",
       "      <th>Job Title</th>\n",
       "      <th>Job Location</th>\n",
       "      <th>Company Name</th>\n",
       "      <th>Experience Required</th>\n",
       "    </tr>\n",
       "  </thead>\n",
       "  <tbody>\n",
       "    <tr>\n",
       "      <th>0</th>\n",
       "      <td>DigitalBCG GAMMA Data Scientist</td>\n",
       "      <td>New Delhi, Bangalore/Bengaluru</td>\n",
       "      <td>Boston Consulting Group</td>\n",
       "      <td>2-5 Yrs</td>\n",
       "    </tr>\n",
       "    <tr>\n",
       "      <th>1</th>\n",
       "      <td>Data Scientist - Noida/Bangalore</td>\n",
       "      <td>Noida, Bangalore/Bengaluru</td>\n",
       "      <td>EXL</td>\n",
       "      <td>5-10 Yrs</td>\n",
       "    </tr>\n",
       "    <tr>\n",
       "      <th>2</th>\n",
       "      <td>Senior Associate - Data Science</td>\n",
       "      <td>Mumbai, Hyderabad/Secunderabad, Gurgaon/Gurugr...</td>\n",
       "      <td>Black Turtle</td>\n",
       "      <td>4-7 Yrs</td>\n",
       "    </tr>\n",
       "    <tr>\n",
       "      <th>3</th>\n",
       "      <td>Data Scientist For Healthcare Product team</td>\n",
       "      <td>Delhi / NCR, Chennai, Bangalore/Bengaluru</td>\n",
       "      <td>8KMiles Software Services</td>\n",
       "      <td>2-7 Yrs</td>\n",
       "    </tr>\n",
       "    <tr>\n",
       "      <th>4</th>\n",
       "      <td>Data Scientist For Healthcare Product team</td>\n",
       "      <td>Delhi / NCR, Chennai, Bangalore/Bengaluru</td>\n",
       "      <td>8KMiles Software Services</td>\n",
       "      <td>2-7 Yrs</td>\n",
       "    </tr>\n",
       "    <tr>\n",
       "      <th>5</th>\n",
       "      <td>Data Scientist - Machine learning AI</td>\n",
       "      <td>Delhi / NCR, Bangalore/Bengaluru, Mumbai (All ...</td>\n",
       "      <td>Teq Analytics</td>\n",
       "      <td>3-8 Yrs</td>\n",
       "    </tr>\n",
       "    <tr>\n",
       "      <th>6</th>\n",
       "      <td>Data Scientist - MIND Infotech</td>\n",
       "      <td>Noida</td>\n",
       "      <td>MOTHERSONSUMI INFOTECH &amp; DESIGNS LIMITED</td>\n",
       "      <td>4-8 Yrs</td>\n",
       "    </tr>\n",
       "    <tr>\n",
       "      <th>7</th>\n",
       "      <td>Data Scientist - Engine Algorithm</td>\n",
       "      <td>Delhi / NCR, Kolkata, Mumbai, Hyderabad/Secund...</td>\n",
       "      <td>Primo Hiring</td>\n",
       "      <td>1-3 Yrs</td>\n",
       "    </tr>\n",
       "    <tr>\n",
       "      <th>8</th>\n",
       "      <td>Knowledge/Data Scientist</td>\n",
       "      <td>Delhi / NCR</td>\n",
       "      <td>BOLD Technology Systems</td>\n",
       "      <td>3-6 Yrs</td>\n",
       "    </tr>\n",
       "    <tr>\n",
       "      <th>9</th>\n",
       "      <td>Data Scientist</td>\n",
       "      <td>Delhi / NCR, Pune, Bangalore/Bengaluru</td>\n",
       "      <td>Mount Talent Consulting Private Limited</td>\n",
       "      <td>2-4 Yrs</td>\n",
       "    </tr>\n",
       "  </tbody>\n",
       "</table>\n",
       "</div>"
      ],
      "text/plain": [
       "                                    Job Title  \\\n",
       "0             DigitalBCG GAMMA Data Scientist   \n",
       "1            Data Scientist - Noida/Bangalore   \n",
       "2             Senior Associate - Data Science   \n",
       "3  Data Scientist For Healthcare Product team   \n",
       "4  Data Scientist For Healthcare Product team   \n",
       "5        Data Scientist - Machine learning AI   \n",
       "6              Data Scientist - MIND Infotech   \n",
       "7           Data Scientist - Engine Algorithm   \n",
       "8                    Knowledge/Data Scientist   \n",
       "9                              Data Scientist   \n",
       "\n",
       "                                        Job Location  \\\n",
       "0                     New Delhi, Bangalore/Bengaluru   \n",
       "1                         Noida, Bangalore/Bengaluru   \n",
       "2  Mumbai, Hyderabad/Secunderabad, Gurgaon/Gurugr...   \n",
       "3          Delhi / NCR, Chennai, Bangalore/Bengaluru   \n",
       "4          Delhi / NCR, Chennai, Bangalore/Bengaluru   \n",
       "5  Delhi / NCR, Bangalore/Bengaluru, Mumbai (All ...   \n",
       "6                                              Noida   \n",
       "7  Delhi / NCR, Kolkata, Mumbai, Hyderabad/Secund...   \n",
       "8                                        Delhi / NCR   \n",
       "9             Delhi / NCR, Pune, Bangalore/Bengaluru   \n",
       "\n",
       "                               Company Name Experience Required  \n",
       "0                   Boston Consulting Group             2-5 Yrs  \n",
       "1                                       EXL            5-10 Yrs  \n",
       "2                              Black Turtle             4-7 Yrs  \n",
       "3                 8KMiles Software Services             2-7 Yrs  \n",
       "4                 8KMiles Software Services             2-7 Yrs  \n",
       "5                             Teq Analytics             3-8 Yrs  \n",
       "6  MOTHERSONSUMI INFOTECH & DESIGNS LIMITED             4-8 Yrs  \n",
       "7                              Primo Hiring             1-3 Yrs  \n",
       "8                   BOLD Technology Systems             3-6 Yrs  \n",
       "9   Mount Talent Consulting Private Limited             2-4 Yrs  "
      ]
     },
     "execution_count": 62,
     "metadata": {},
     "output_type": "execute_result"
    }
   ],
   "source": [
    "#data Frame\n",
    "data=pd.DataFrame()\n",
    "data['Job Title']=job_titles3\n",
    "data['Job Location']=location\n",
    "data['Company Name']= company3\n",
    "data['Experience Required']=required_experience\n",
    "data.head(10)"
   ]
  },
  {
   "cell_type": "markdown",
   "id": "096dbb42",
   "metadata": {},
   "source": [
    "Q4: Scrape data of first 100 sunglasses listings on flipkart.com. You have to scrape four attributes:\n",
    "1. Brand\n",
    "2. Product Description\n",
    "3. Price\n",
    "To scrape the data you have to go through following steps:\n",
    "1. Go to Flipkart webpage by url : https://www.flipkart.com/\n",
    "2. Enter “sunglasses” in the search field where “search for products, brands and more” is written and \n",
    "click the search icon\n",
    "3. After that you will reach to the page having a lot of sunglasses. From this page you can scrap the required data as usual.\n",
    "\n",
    "4. After scraping data from the first page, go to the “Next” Button at the bottom other page , then \n",
    "click on it.\n",
    "5. Now scrape data from this page as usual\n",
    "6. Repeat this until you get data for 100 sunglasses."
   ]
  },
  {
   "cell_type": "code",
   "execution_count": 63,
   "id": "bf37339e",
   "metadata": {},
   "outputs": [],
   "source": [
    "url='https://www.flipkart.com/'\n",
    "driver.get(url)"
   ]
  },
  {
   "cell_type": "code",
   "execution_count": 64,
   "id": "38909f33",
   "metadata": {},
   "outputs": [],
   "source": [
    "#web element for search bar\n",
    "search_product=driver.find_element(By.CLASS_NAME,\"_3704LK\")"
   ]
  },
  {
   "cell_type": "code",
   "execution_count": 65,
   "id": "319e0ff3",
   "metadata": {},
   "outputs": [
    {
     "data": {
      "text/plain": [
       "<selenium.webdriver.remote.webelement.WebElement (session=\"35024197068ed16c47adcc9cbe8bcb4d\", element=\"ee660b56-1117-4b35-9140-bf59ab3e9aa1\")>"
      ]
     },
     "execution_count": 65,
     "metadata": {},
     "output_type": "execute_result"
    }
   ],
   "source": [
    "search_product"
   ]
  },
  {
   "cell_type": "code",
   "execution_count": 66,
   "id": "b13897be",
   "metadata": {},
   "outputs": [],
   "source": [
    "search_product.send_keys(\"sunglasses\")"
   ]
  },
  {
   "cell_type": "code",
   "execution_count": 75,
   "id": "0d8f6eb6",
   "metadata": {},
   "outputs": [],
   "source": [
    "#Full xpath for search \n",
    "search_btn=driver.find_element(By.XPATH,'/html/body/div[1]/div/div[1]/div[1]/div[2]/div[2]/form/div/button')\n"
   ]
  },
  {
   "cell_type": "code",
   "execution_count": 76,
   "id": "d2b394ef",
   "metadata": {},
   "outputs": [],
   "source": [
    "search_btn.click()"
   ]
  },
  {
   "cell_type": "code",
   "execution_count": 78,
   "id": "32e27430",
   "metadata": {},
   "outputs": [
    {
     "data": {
      "text/plain": [
       "40"
      ]
     },
     "execution_count": 78,
     "metadata": {},
     "output_type": "execute_result"
    }
   ],
   "source": [
    "#Brand Name\n",
    "brand_tags=driver.find_elements(By.XPATH,'//div[@class=\"_2WkVRV\"]')\n",
    "\n",
    "brand_name=[]\n",
    "for b in brand_tags:\n",
    "    brand_name.append(b.text)\n",
    "\n",
    "len(brand_name)"
   ]
  },
  {
   "cell_type": "code",
   "execution_count": 79,
   "id": "5e81b8e7",
   "metadata": {},
   "outputs": [
    {
     "data": {
      "text/plain": [
       "40"
      ]
     },
     "execution_count": 79,
     "metadata": {},
     "output_type": "execute_result"
    }
   ],
   "source": [
    "# Product Desription\n",
    "product_tags=driver.find_elements(By.XPATH,'//a[@class=\"IRpwTa\"]')\n",
    "\n",
    "product_description=[]\n",
    "for p in product_tags:\n",
    "    product_description.append(p.text)\n",
    "\n",
    "len(product_description)"
   ]
  },
  {
   "cell_type": "code",
   "execution_count": 80,
   "id": "a52b4e0b",
   "metadata": {},
   "outputs": [
    {
     "data": {
      "text/plain": [
       "40"
      ]
     },
     "execution_count": 80,
     "metadata": {},
     "output_type": "execute_result"
    }
   ],
   "source": [
    "# Price\n",
    "price_tags=driver.find_elements(By.XPATH,'//div[@class=\"_30jeq3\"]')\n",
    "\n",
    "price=[]\n",
    "\n",
    "for i in price_tags:\n",
    "    price.append(i.text)\n",
    "len(price)\n"
   ]
  },
  {
   "cell_type": "code",
   "execution_count": 81,
   "id": "cbdc47f3",
   "metadata": {},
   "outputs": [],
   "source": [
    "#navigate to next page\n",
    "next_page=driver.find_element(By.XPATH,'/html/body/div[1]/div/div[3]/div[1]/div[2]/div[12]/div/div/nav/a[11]')\n",
    "next_page.click()                                        "
   ]
  },
  {
   "cell_type": "code",
   "execution_count": 82,
   "id": "bf8d9479",
   "metadata": {},
   "outputs": [
    {
     "data": {
      "text/plain": [
       "80"
      ]
     },
     "execution_count": 82,
     "metadata": {},
     "output_type": "execute_result"
    }
   ],
   "source": [
    "brand_tags2=driver.find_elements(By.XPATH,'//div[@class=\"_2WkVRV\"]')\n",
    "\n",
    "\n",
    "for b1 in brand_tags2:\n",
    "    brand_name.append(b1.text)\n",
    "\n",
    "len(brand_name)"
   ]
  },
  {
   "cell_type": "code",
   "execution_count": 83,
   "id": "a20c463c",
   "metadata": {},
   "outputs": [
    {
     "data": {
      "text/plain": [
       "80"
      ]
     },
     "execution_count": 83,
     "metadata": {},
     "output_type": "execute_result"
    }
   ],
   "source": [
    "# Product Desription\n",
    "product_tags2=driver.find_elements(By.XPATH,'//a[@class=\"IRpwTa\"]')\n",
    "\n",
    "for p2 in product_tags2:\n",
    "    product_description.append(p2.text)\n",
    "\n",
    "len(product_description)"
   ]
  },
  {
   "cell_type": "code",
   "execution_count": 84,
   "id": "9fdb3dea",
   "metadata": {},
   "outputs": [
    {
     "data": {
      "text/plain": [
       "80"
      ]
     },
     "execution_count": 84,
     "metadata": {},
     "output_type": "execute_result"
    }
   ],
   "source": [
    "# Price\n",
    "price_tags2=driver.find_elements(By.XPATH,'//div[@class=\"_30jeq3\"]')\n",
    "\n",
    "\n",
    "\n",
    "for i2 in price_tags2:\n",
    "    price.append(i2.text)\n",
    "len(price)\n"
   ]
  },
  {
   "cell_type": "code",
   "execution_count": 86,
   "id": "c3c778e9",
   "metadata": {},
   "outputs": [],
   "source": [
    "next_page=driver.find_element(By.XPATH,'/html/body/div[1]/div/div[3]/div[1]/div[2]/div[12]/div/div/nav/a[12]/span')\n",
    "next_page.click() "
   ]
  },
  {
   "cell_type": "code",
   "execution_count": 87,
   "id": "3217829c",
   "metadata": {},
   "outputs": [
    {
     "data": {
      "text/plain": [
       "120"
      ]
     },
     "execution_count": 87,
     "metadata": {},
     "output_type": "execute_result"
    }
   ],
   "source": [
    "brand_tags3=driver.find_elements(By.XPATH,'//div[@class=\"_2WkVRV\"]')\n",
    "\n",
    "\n",
    "for b2 in brand_tags3:\n",
    "    brand_name.append(b2.text)\n",
    "\n",
    "len(brand_name)"
   ]
  },
  {
   "cell_type": "code",
   "execution_count": 88,
   "id": "c3d824cb",
   "metadata": {},
   "outputs": [
    {
     "data": {
      "text/plain": [
       "120"
      ]
     },
     "execution_count": 88,
     "metadata": {},
     "output_type": "execute_result"
    }
   ],
   "source": [
    "# Product Desription\n",
    "product_tags3=driver.find_elements(By.XPATH,'//a[@class=\"IRpwTa\"]')\n",
    "\n",
    "for p3 in product_tags3:\n",
    "    product_description.append(p3.text)\n",
    "\n",
    "len(product_description)"
   ]
  },
  {
   "cell_type": "code",
   "execution_count": 89,
   "id": "d0216d55",
   "metadata": {},
   "outputs": [
    {
     "data": {
      "text/plain": [
       "120"
      ]
     },
     "execution_count": 89,
     "metadata": {},
     "output_type": "execute_result"
    }
   ],
   "source": [
    "# Price\n",
    "price_tags3=driver.find_elements(By.XPATH,'//div[@class=\"_30jeq3\"]')\n",
    "\n",
    "\n",
    "\n",
    "for i3 in price_tags3:\n",
    "    price.append(i3.text)\n",
    "len(price)\n"
   ]
  },
  {
   "cell_type": "code",
   "execution_count": 91,
   "id": "19d1cfe4",
   "metadata": {},
   "outputs": [
    {
     "data": {
      "text/plain": [
       "<selenium.webdriver.remote.webelement.WebElement (session=\"35024197068ed16c47adcc9cbe8bcb4d\", element=\"287daff1-27de-4f27-a779-e9370382cc7e\")>"
      ]
     },
     "execution_count": 91,
     "metadata": {},
     "output_type": "execute_result"
    }
   ],
   "source": [
    "#back to first page for getting the disocunt\n",
    "\n",
    "first_page=driver.find_element(By.XPATH,'/html/body/div[1]/div/div[3]/div[1]/div[2]/div[12]/div/div/nav/a[2]')\n",
    "first_page"
   ]
  },
  {
   "cell_type": "code",
   "execution_count": 92,
   "id": "8aff9c71",
   "metadata": {},
   "outputs": [],
   "source": [
    "first_page.click()"
   ]
  },
  {
   "cell_type": "code",
   "execution_count": 93,
   "id": "4d52b850",
   "metadata": {},
   "outputs": [
    {
     "data": {
      "text/plain": [
       "40"
      ]
     },
     "execution_count": 93,
     "metadata": {},
     "output_type": "execute_result"
    }
   ],
   "source": [
    "# Discount\n",
    "discount_tags=driver.find_elements(By.XPATH,'//div[@class=\"_3Ay6Sb\"]')\n",
    "discount=[]\n",
    "\n",
    "for d in discount_tags:\n",
    "    discount.append(d.text)\n",
    "len(discount)\n"
   ]
  },
  {
   "cell_type": "code",
   "execution_count": 94,
   "id": "5adccb96",
   "metadata": {},
   "outputs": [],
   "source": [
    "#Next PAge\n",
    "next_page=driver.find_element(By.XPATH,'/html/body/div[1]/div/div[3]/div[1]/div[2]/div[12]/div/div/nav/a[11]/span')\n",
    "next_page.click()"
   ]
  },
  {
   "cell_type": "code",
   "execution_count": 95,
   "id": "495a73a9",
   "metadata": {},
   "outputs": [
    {
     "data": {
      "text/plain": [
       "80"
      ]
     },
     "execution_count": 95,
     "metadata": {},
     "output_type": "execute_result"
    }
   ],
   "source": [
    "# Discount\n",
    "discount_tags2=driver.find_elements(By.XPATH,'//div[@class=\"_3Ay6Sb\"]')\n",
    "\n",
    "\n",
    "for d2 in discount_tags2:\n",
    "    discount.append(d2.text)\n",
    "len(discount)\n"
   ]
  },
  {
   "cell_type": "code",
   "execution_count": 96,
   "id": "7ad82d10",
   "metadata": {},
   "outputs": [],
   "source": [
    "\n",
    "#Next PAge\n",
    "next_page=driver.find_element(By.XPATH,'/html/body/div[1]/div/div[3]/div[1]/div[2]/div[12]/div/div/nav/a[12]/span')\n",
    "next_page.click()"
   ]
  },
  {
   "cell_type": "code",
   "execution_count": 97,
   "id": "a9996886",
   "metadata": {},
   "outputs": [
    {
     "data": {
      "text/plain": [
       "120"
      ]
     },
     "execution_count": 97,
     "metadata": {},
     "output_type": "execute_result"
    }
   ],
   "source": [
    "# Discount\n",
    "discount_tags3=driver.find_elements(By.XPATH,'//div[@class=\"_3Ay6Sb\"]')\n",
    "\n",
    "\n",
    "for d3 in discount_tags3:\n",
    "    discount.append(d3.text)\n",
    "len(discount)\n"
   ]
  },
  {
   "cell_type": "code",
   "execution_count": 98,
   "id": "2393de9a",
   "metadata": {},
   "outputs": [
    {
     "data": {
      "text/html": [
       "<div>\n",
       "<style scoped>\n",
       "    .dataframe tbody tr th:only-of-type {\n",
       "        vertical-align: middle;\n",
       "    }\n",
       "\n",
       "    .dataframe tbody tr th {\n",
       "        vertical-align: top;\n",
       "    }\n",
       "\n",
       "    .dataframe thead th {\n",
       "        text-align: right;\n",
       "    }\n",
       "</style>\n",
       "<table border=\"1\" class=\"dataframe\">\n",
       "  <thead>\n",
       "    <tr style=\"text-align: right;\">\n",
       "      <th></th>\n",
       "      <th>Brand_Name</th>\n",
       "      <th>Product_Description</th>\n",
       "      <th>Price</th>\n",
       "      <th>Discount</th>\n",
       "    </tr>\n",
       "  </thead>\n",
       "  <tbody>\n",
       "    <tr>\n",
       "      <th>0</th>\n",
       "      <td>DAHAAZIL</td>\n",
       "      <td>UV Protection, Night Vision, Riding Glasses Wa...</td>\n",
       "      <td>₹177</td>\n",
       "      <td>₹177</td>\n",
       "    </tr>\n",
       "    <tr>\n",
       "      <th>1</th>\n",
       "      <td>New Specs</td>\n",
       "      <td>UV Protection Rectangular Sunglasses (Free Size)</td>\n",
       "      <td>₹264</td>\n",
       "      <td>₹264</td>\n",
       "    </tr>\n",
       "    <tr>\n",
       "      <th>2</th>\n",
       "      <td>Fastrack</td>\n",
       "      <td>UV Protection Rectangular Sunglasses (Free Size)</td>\n",
       "      <td>₹639</td>\n",
       "      <td>₹639</td>\n",
       "    </tr>\n",
       "    <tr>\n",
       "      <th>3</th>\n",
       "      <td>Elligator</td>\n",
       "      <td>UV Protection Round Sunglasses (54)</td>\n",
       "      <td>₹298</td>\n",
       "      <td>₹298</td>\n",
       "    </tr>\n",
       "    <tr>\n",
       "      <th>4</th>\n",
       "      <td>SUNBEE</td>\n",
       "      <td>UV Protection, Polarized Wayfarer Sunglasses (...</td>\n",
       "      <td>₹283</td>\n",
       "      <td>₹224</td>\n",
       "    </tr>\n",
       "    <tr>\n",
       "      <th>...</th>\n",
       "      <td>...</td>\n",
       "      <td>...</td>\n",
       "      <td>...</td>\n",
       "      <td>...</td>\n",
       "    </tr>\n",
       "    <tr>\n",
       "      <th>95</th>\n",
       "      <td>Elligator</td>\n",
       "      <td>UV Protection Aviator Sunglasses (55)</td>\n",
       "      <td>₹329</td>\n",
       "      <td>₹329</td>\n",
       "    </tr>\n",
       "    <tr>\n",
       "      <th>96</th>\n",
       "      <td>kingsunglasses</td>\n",
       "      <td>UV Protection, Night Vision Wayfarer Sunglasse...</td>\n",
       "      <td>₹299</td>\n",
       "      <td>₹299</td>\n",
       "    </tr>\n",
       "    <tr>\n",
       "      <th>97</th>\n",
       "      <td>ROYAL SON</td>\n",
       "      <td>UV Protection, Gradient Wayfarer Sunglasses (55)</td>\n",
       "      <td>₹217</td>\n",
       "      <td>₹217</td>\n",
       "    </tr>\n",
       "    <tr>\n",
       "      <th>98</th>\n",
       "      <td>ROYAL SON</td>\n",
       "      <td>UV Protection, Gradient Butterfly Sunglasses (52)</td>\n",
       "      <td>₹664</td>\n",
       "      <td>₹664</td>\n",
       "    </tr>\n",
       "    <tr>\n",
       "      <th>99</th>\n",
       "      <td>ROYAL SON</td>\n",
       "      <td>Polarized, UV Protection Wayfarer Sunglasses (61)</td>\n",
       "      <td>₹664</td>\n",
       "      <td>₹664</td>\n",
       "    </tr>\n",
       "  </tbody>\n",
       "</table>\n",
       "<p>100 rows × 4 columns</p>\n",
       "</div>"
      ],
      "text/plain": [
       "        Brand_Name                                Product_Description Price  \\\n",
       "0         DAHAAZIL  UV Protection, Night Vision, Riding Glasses Wa...  ₹177   \n",
       "1        New Specs   UV Protection Rectangular Sunglasses (Free Size)  ₹264   \n",
       "2         Fastrack   UV Protection Rectangular Sunglasses (Free Size)  ₹639   \n",
       "3        Elligator                UV Protection Round Sunglasses (54)  ₹298   \n",
       "4           SUNBEE  UV Protection, Polarized Wayfarer Sunglasses (...  ₹283   \n",
       "..             ...                                                ...   ...   \n",
       "95       Elligator              UV Protection Aviator Sunglasses (55)  ₹329   \n",
       "96  kingsunglasses  UV Protection, Night Vision Wayfarer Sunglasse...  ₹299   \n",
       "97       ROYAL SON   UV Protection, Gradient Wayfarer Sunglasses (55)  ₹217   \n",
       "98       ROYAL SON  UV Protection, Gradient Butterfly Sunglasses (52)  ₹664   \n",
       "99       ROYAL SON  Polarized, UV Protection Wayfarer Sunglasses (61)  ₹664   \n",
       "\n",
       "   Discount  \n",
       "0      ₹177  \n",
       "1      ₹264  \n",
       "2      ₹639  \n",
       "3      ₹298  \n",
       "4      ₹224  \n",
       "..      ...  \n",
       "95     ₹329  \n",
       "96     ₹299  \n",
       "97     ₹217  \n",
       "98     ₹664  \n",
       "99     ₹664  \n",
       "\n",
       "[100 rows x 4 columns]"
      ]
     },
     "execution_count": 98,
     "metadata": {},
     "output_type": "execute_result"
    }
   ],
   "source": [
    "product=pd.DataFrame()\n",
    "product['Brand_Name']=brand_name\n",
    "product['Product_Description']= product_description\n",
    "product['Price']=price\n",
    "product['Discount']=discount\n",
    "product.head(100)"
   ]
  },
  {
   "cell_type": "markdown",
   "id": "ff7a4a3c",
   "metadata": {},
   "source": [
    "Q5: Scrape 100 reviews data from flipkart.com for iphone11 phone.\n",
    "This task will be done in following steps:\n",
    "1. First get the webpage https://www.flipkart.com/\n",
    "2. Enter “iphone 11” in “Search” field . \n",
    "3. Then click the search button\n",
    "\n",
    "1. Rating\n",
    "2. Review summary\n",
    "3. Full review\n",
    "4. You have to scrape this data for first 100 reviews"
   ]
  },
  {
   "cell_type": "code",
   "execution_count": 99,
   "id": "217bfdfc",
   "metadata": {},
   "outputs": [],
   "source": [
    "url='https://www.flipkart.com/'\n",
    "driver.get(url)"
   ]
  },
  {
   "cell_type": "code",
   "execution_count": 100,
   "id": "3b784f02",
   "metadata": {},
   "outputs": [],
   "source": [
    "#web element for search bar\n",
    "search_product=driver.find_element(By.CLASS_NAME,\"_3704LK\")\n",
    "search_product.send_keys(\"iphone 11\")"
   ]
  },
  {
   "cell_type": "code",
   "execution_count": 101,
   "id": "4a0e8055",
   "metadata": {},
   "outputs": [],
   "source": [
    "#Full xpath for search \n",
    "search_btn=driver.find_element(By.XPATH,'/html/body/div[1]/div/div[1]/div[1]/div[2]/div[2]/form/div/button')\n",
    "search_btn.click()"
   ]
  },
  {
   "cell_type": "code",
   "execution_count": 102,
   "id": "cfc7f95b",
   "metadata": {},
   "outputs": [],
   "source": [
    "product=driver.find_element(By.XPATH,'/html/body/div/div/div[3]/div[1]/div[2]/div[2]/div/div/div/a/div[2]/div[1]/div[1]')\n",
    "product.click()"
   ]
  },
  {
   "cell_type": "code",
   "execution_count": 106,
   "id": "f1ae47e4",
   "metadata": {},
   "outputs": [
    {
     "data": {
      "text/plain": [
       "0"
      ]
     },
     "execution_count": 106,
     "metadata": {},
     "output_type": "execute_result"
    }
   ],
   "source": [
    "#extract Rating\n",
    "\n",
    "\n",
    "rating_tags=driver.find_elements(By.XPATH,'//div[@class=\"_3LWZlK _1BLPMq\"]')\n",
    "Rating=[]\n",
    "\n",
    "for r in rating_tags:\n",
    "    Rating.append(r.text)\n",
    "\n",
    "len(Rating)\n",
    "    "
   ]
  },
  {
   "cell_type": "code",
   "execution_count": 107,
   "id": "a8a128db",
   "metadata": {},
   "outputs": [
    {
     "data": {
      "text/plain": [
       "[]"
      ]
     },
     "execution_count": 107,
     "metadata": {},
     "output_type": "execute_result"
    }
   ],
   "source": [
    "#extract Review\n",
    "\n",
    "review_tags=driver.find_elements(By.XPATH,'//div[@class=\"_2-N8zT\"]')\n",
    "review_tags\n"
   ]
  },
  {
   "cell_type": "markdown",
   "id": "db790283",
   "metadata": {},
   "source": [
    "Unable to proceed"
   ]
  },
  {
   "cell_type": "markdown",
   "id": "834dd45d",
   "metadata": {},
   "source": [
    "Q6: Scrape data for first 100 sneakers you find when you visit flipkart.com and search for “sneakers” in the \n",
    "search field.\n",
    "You have to scrape 4 attributes of each sneaker:\n",
    "1. Brand\n",
    "2. Product Description\n",
    "3. Price\n"
   ]
  },
  {
   "cell_type": "code",
   "execution_count": 110,
   "id": "e3d9fa80",
   "metadata": {},
   "outputs": [],
   "source": [
    "url='https://www.flipkart.com/'\n",
    "driver.get(url)"
   ]
  },
  {
   "cell_type": "code",
   "execution_count": 111,
   "id": "73768c48",
   "metadata": {},
   "outputs": [],
   "source": [
    "#web element for search bar\n",
    "search_product=driver.find_element(By.CLASS_NAME,\"_3704LK\")\n",
    "search_product.send_keys(\"Sneakers\")"
   ]
  },
  {
   "cell_type": "code",
   "execution_count": 112,
   "id": "cf3e5331",
   "metadata": {},
   "outputs": [],
   "source": [
    "#Full xpath for search \n",
    "search_btn=driver.find_element(By.XPATH,'/html/body/div[1]/div/div[1]/div[1]/div[2]/div[2]/form/div/button')\n",
    "search_btn.click()"
   ]
  },
  {
   "cell_type": "code",
   "execution_count": 117,
   "id": "ee0d12ca",
   "metadata": {},
   "outputs": [],
   "source": [
    "#Brand Name\n",
    "brand_tags=driver.find_elements(By.XPATH,'//div[@class=\"_2WkVRV\"]')\n",
    "\n",
    "Sneaker_brand=[]\n",
    "for sb in brand_tags:\n",
    "    Sneaker_brand.append(sb.text)\n",
    "\n"
   ]
  },
  {
   "cell_type": "code",
   "execution_count": 121,
   "id": "179b3422",
   "metadata": {},
   "outputs": [],
   "source": [
    "# Product Desription\n",
    "product_tags1=driver.find_elements(By.XPATH,'//a[@class=\"IRpwTa\"]')\n",
    "Product_description=[]\n",
    "for p in product_tags1:\n",
    "    Product_description.append(p.text)\n",
    "\n"
   ]
  },
  {
   "cell_type": "code",
   "execution_count": 122,
   "id": "defd40f2",
   "metadata": {},
   "outputs": [],
   "source": [
    "# Discount\n",
    "discount_tags=driver.find_elements(By.XPATH,'//div[@class=\"_3Ay6Sb\"]')\n",
    "\n",
    "discount=[]\n",
    "for d1 in discount_tags:\n",
    "    discount.append(d1.text)\n",
    "\n"
   ]
  },
  {
   "cell_type": "code",
   "execution_count": 125,
   "id": "8905e208",
   "metadata": {},
   "outputs": [],
   "source": [
    "# Price\n",
    "price_tags=driver.find_elements(By.XPATH,'//div[@class=\"_30jeq3\"]')\n",
    "\n",
    "Price=[]\n",
    "\n",
    "for p in price_tags:\n",
    "    Price.append(p.text)\n",
    "\n"
   ]
  },
  {
   "cell_type": "code",
   "execution_count": 126,
   "id": "e65dff9d",
   "metadata": {},
   "outputs": [],
   "source": [
    "#Next PAge\n",
    "next_page=driver.find_element(By.XPATH,'/html/body/div/div/div[3]/div[1]/div[2]/div[12]/div/div/nav/a[11]/span')\n",
    "next_page.click()"
   ]
  },
  {
   "cell_type": "code",
   "execution_count": 127,
   "id": "0438510c",
   "metadata": {},
   "outputs": [],
   "source": [
    "#Brand Name\n",
    "brand_tags2=driver.find_elements(By.XPATH,'//div[@class=\"_2WkVRV\"]')\n",
    "for sb2 in brand_tags2:\n",
    "    Sneaker_brand.append(sb2.text)\n",
    "\n",
    "#Product\n",
    "product_tags2=driver.find_elements(By.XPATH,'//a[@class=\"IRpwTa\"]')\n",
    "for p2 in product_tags2:\n",
    "    Product_description.append(p2.text)\n",
    "    \n",
    "# Discount\n",
    "discount_tags2=driver.find_elements(By.XPATH,'//div[@class=\"_3Ay6Sb\"]')\n",
    "for d2 in discount_tags2:\n",
    "    discount.append(d2.text)\n",
    "\n",
    "# Price\n",
    "price_tags2=driver.find_elements(By.XPATH,'//div[@class=\"_30jeq3\"]')\n",
    "for pt2 in price_tags2:\n",
    "    Price.append(pt2.text)\n",
    "    \n",
    "\n"
   ]
  },
  {
   "cell_type": "code",
   "execution_count": 128,
   "id": "f7c46804",
   "metadata": {},
   "outputs": [],
   "source": [
    "#Next PAge\n",
    "next_page=driver.find_element(By.XPATH,'/html/body/div/div/div[3]/div[1]/div[2]/div[12]/div/div/nav/a[12]/span')\n",
    "next_page.click()"
   ]
  },
  {
   "cell_type": "code",
   "execution_count": 130,
   "id": "45e8477c",
   "metadata": {},
   "outputs": [],
   "source": [
    "#Brand Name\n",
    "brand_tags2=driver.find_elements(By.XPATH,'//div[@class=\"_2WkVRV\"]')\n",
    "for sb2 in brand_tags2:\n",
    "    Sneaker_brand.append(sb2.text)\n",
    "\n",
    "#Product\n",
    "product_tags2=driver.find_elements(By.XPATH,'//a[@class=\"IRpwTa\"]')\n",
    "for p2 in product_tags2:\n",
    "    Product_description.append(p2.text)\n",
    "    \n",
    "# Discount\n",
    "discount_tags2=driver.find_elements(By.XPATH,'//div[@class=\"_3Ay6Sb\"]')\n",
    "for d2 in discount_tags2:\n",
    "    discount.append(d2.text)\n",
    "\n",
    "# Price\n",
    "price_tags2=driver.find_elements(By.XPATH,'//div[@class=\"_30jeq3\"]')\n",
    "for pt2 in price_tags2:\n",
    "    Price.append(pt2.text)\n",
    "    \n",
    "\n"
   ]
  },
  {
   "cell_type": "code",
   "execution_count": 134,
   "id": "fa4b58e8",
   "metadata": {},
   "outputs": [],
   "source": [
    "Sneaker_brand=Sneaker_brand[:100]\n",
    "Product_description=Product_description[:100]\n",
    "Price=Price[:100]\n",
    "discount=discount[:100]"
   ]
  },
  {
   "cell_type": "code",
   "execution_count": 135,
   "id": "19424e12",
   "metadata": {},
   "outputs": [
    {
     "data": {
      "text/html": [
       "<div>\n",
       "<style scoped>\n",
       "    .dataframe tbody tr th:only-of-type {\n",
       "        vertical-align: middle;\n",
       "    }\n",
       "\n",
       "    .dataframe tbody tr th {\n",
       "        vertical-align: top;\n",
       "    }\n",
       "\n",
       "    .dataframe thead th {\n",
       "        text-align: right;\n",
       "    }\n",
       "</style>\n",
       "<table border=\"1\" class=\"dataframe\">\n",
       "  <thead>\n",
       "    <tr style=\"text-align: right;\">\n",
       "      <th></th>\n",
       "      <th>Brand_Name</th>\n",
       "      <th>Product_Description</th>\n",
       "      <th>Price</th>\n",
       "      <th>Discount</th>\n",
       "    </tr>\n",
       "  </thead>\n",
       "  <tbody>\n",
       "    <tr>\n",
       "      <th>0</th>\n",
       "      <td>WOODLAND</td>\n",
       "      <td>Sneakers For Men</td>\n",
       "      <td>₹1,797</td>\n",
       "      <td>40% off</td>\n",
       "    </tr>\n",
       "    <tr>\n",
       "      <th>1</th>\n",
       "      <td>BRUTON</td>\n",
       "      <td>Modern Trendy Sneakers Shoes Sneakers For Men</td>\n",
       "      <td>₹284</td>\n",
       "      <td>78% off</td>\n",
       "    </tr>\n",
       "    <tr>\n",
       "      <th>2</th>\n",
       "      <td>PUMA</td>\n",
       "      <td>Puma Smash v2 L Sneakers For Men</td>\n",
       "      <td>₹1,658</td>\n",
       "      <td>52% off</td>\n",
       "    </tr>\n",
       "    <tr>\n",
       "      <th>3</th>\n",
       "      <td>SFR</td>\n",
       "      <td>Sneakers For Men</td>\n",
       "      <td>₹289</td>\n",
       "      <td>71% off</td>\n",
       "    </tr>\n",
       "    <tr>\n",
       "      <th>4</th>\n",
       "      <td>URBANBOX</td>\n",
       "      <td>Sneakers For Men</td>\n",
       "      <td>₹219</td>\n",
       "      <td>78% off</td>\n",
       "    </tr>\n",
       "    <tr>\n",
       "      <th>...</th>\n",
       "      <td>...</td>\n",
       "      <td>...</td>\n",
       "      <td>...</td>\n",
       "      <td>...</td>\n",
       "    </tr>\n",
       "    <tr>\n",
       "      <th>95</th>\n",
       "      <td>PUMA</td>\n",
       "      <td>Sneakers For Men</td>\n",
       "      <td>₹2,078</td>\n",
       "      <td>37% off</td>\n",
       "    </tr>\n",
       "    <tr>\n",
       "      <th>96</th>\n",
       "      <td>Edoeviv</td>\n",
       "      <td>Modern Trendy Sneakers Shoes Sneakers For Men</td>\n",
       "      <td>₹499</td>\n",
       "      <td>37% off</td>\n",
       "    </tr>\n",
       "    <tr>\n",
       "      <th>97</th>\n",
       "      <td>WHITE WALKERS</td>\n",
       "      <td>Brave Sneakers For Men</td>\n",
       "      <td>₹599</td>\n",
       "      <td>50% off</td>\n",
       "    </tr>\n",
       "    <tr>\n",
       "      <th>98</th>\n",
       "      <td>Strollin</td>\n",
       "      <td>Sneakers For Men</td>\n",
       "      <td>₹474</td>\n",
       "      <td>76% off</td>\n",
       "    </tr>\n",
       "    <tr>\n",
       "      <th>99</th>\n",
       "      <td>HOCKWOOD</td>\n",
       "      <td>Synthetic Leather Sneakers For Men</td>\n",
       "      <td>₹795</td>\n",
       "      <td>20% off</td>\n",
       "    </tr>\n",
       "  </tbody>\n",
       "</table>\n",
       "<p>100 rows × 4 columns</p>\n",
       "</div>"
      ],
      "text/plain": [
       "       Brand_Name                            Product_Description   Price  \\\n",
       "0        WOODLAND                               Sneakers For Men  ₹1,797   \n",
       "1          BRUTON  Modern Trendy Sneakers Shoes Sneakers For Men    ₹284   \n",
       "2            PUMA               Puma Smash v2 L Sneakers For Men  ₹1,658   \n",
       "3             SFR                               Sneakers For Men    ₹289   \n",
       "4        URBANBOX                               Sneakers For Men    ₹219   \n",
       "..            ...                                            ...     ...   \n",
       "95           PUMA                               Sneakers For Men  ₹2,078   \n",
       "96        Edoeviv  Modern Trendy Sneakers Shoes Sneakers For Men    ₹499   \n",
       "97  WHITE WALKERS                         Brave Sneakers For Men    ₹599   \n",
       "98       Strollin                               Sneakers For Men    ₹474   \n",
       "99       HOCKWOOD             Synthetic Leather Sneakers For Men    ₹795   \n",
       "\n",
       "   Discount  \n",
       "0   40% off  \n",
       "1   78% off  \n",
       "2   52% off  \n",
       "3   71% off  \n",
       "4   78% off  \n",
       "..      ...  \n",
       "95  37% off  \n",
       "96  37% off  \n",
       "97  50% off  \n",
       "98  76% off  \n",
       "99  20% off  \n",
       "\n",
       "[100 rows x 4 columns]"
      ]
     },
     "execution_count": 135,
     "metadata": {},
     "output_type": "execute_result"
    }
   ],
   "source": [
    "sneakers=pd.DataFrame()\n",
    "sneakers['Brand_Name']=Sneaker_brand\n",
    "sneakers['Product_Description']= Product_description\n",
    "sneakers['Price']=Price\n",
    "sneakers['Discount']=discount\n",
    "sneakers"
   ]
  },
  {
   "cell_type": "markdown",
   "id": "6934a4b5",
   "metadata": {},
   "source": [
    "Q7. Go to the link - https://www.myntra.com/shoes\n",
    "Set second Price filter and Color filter to “Black”,\n",
    "And then scrape First 100 shoes data you get. The data should include “Brand” of the shoes , Short Shoe \n",
    "description, price of the shoe as shown in the below image.\n",
    "\n"
   ]
  },
  {
   "cell_type": "code",
   "execution_count": 3,
   "id": "7177bdd1",
   "metadata": {},
   "outputs": [],
   "source": [
    "#Import Libraries\n",
    "import selenium\n",
    "from selenium import webdriver\n",
    "import pandas as pd\n",
    "import warnings\n",
    "warnings.filterwarnings(\"ignore\")\n",
    "\n",
    "driver=webdriver.Chrome(r'C:\\Users\\sande\\Downloads\\chromedriver_win32\\chromedriver.exe')\n",
    "from selenium.webdriver.common.by import By\n"
   ]
  },
  {
   "cell_type": "code",
   "execution_count": 4,
   "id": "3a336e9c",
   "metadata": {},
   "outputs": [],
   "source": [
    "url='https://www.myntra.com/shoes'\n",
    "driver.get(url)"
   ]
  },
  {
   "cell_type": "code",
   "execution_count": 5,
   "id": "acdf630c",
   "metadata": {},
   "outputs": [],
   "source": [
    "#price check\n",
    "price_check=driver.find_element(By.XPATH,'/html/body/div[2]/div/div[1]/main/div[3]/div[1]/section/div/div[5]/ul/li[2]/label')\n",
    "                                          \n",
    "price_check.click()"
   ]
  },
  {
   "cell_type": "code",
   "execution_count": 6,
   "id": "8424f4e5",
   "metadata": {},
   "outputs": [],
   "source": [
    "#Color check\n",
    "color_check=driver.find_element(By.XPATH,'/html/body/div[2]/div/div[1]/main/div[3]/div[1]/section/div/div[6]/ul/li[1]/label')\n",
    "                                          \n",
    "color_check.click()"
   ]
  },
  {
   "cell_type": "code",
   "execution_count": 7,
   "id": "f0955f32",
   "metadata": {},
   "outputs": [
    {
     "data": {
      "text/plain": [
       "50"
      ]
     },
     "execution_count": 7,
     "metadata": {},
     "output_type": "execute_result"
    }
   ],
   "source": [
    "#extracting brand\n",
    "brand_tags=driver.find_elements(By.XPATH,'//h3[@class=\"product-brand\"]')\n",
    "brand_tags\n",
    "\n",
    "brand=[]\n",
    "\n",
    "for b in brand_tags:\n",
    "    brand.append(b.text)\n",
    "len(brand)"
   ]
  },
  {
   "cell_type": "code",
   "execution_count": 8,
   "id": "399cd27d",
   "metadata": {},
   "outputs": [
    {
     "data": {
      "text/plain": [
       "50"
      ]
     },
     "execution_count": 8,
     "metadata": {},
     "output_type": "execute_result"
    }
   ],
   "source": [
    "#shoe description\n",
    "brand_desc=driver.find_elements(By.XPATH,'//h4[@class=\"product-product\"]')\n",
    "\n",
    "description=[]\n",
    "\n",
    "for d in brand_desc:\n",
    "    description.append(d.text)\n",
    "len(description)"
   ]
  },
  {
   "cell_type": "code",
   "execution_count": 9,
   "id": "91410a23",
   "metadata": {},
   "outputs": [
    {
     "data": {
      "text/plain": [
       "50"
      ]
     },
     "execution_count": 9,
     "metadata": {},
     "output_type": "execute_result"
    }
   ],
   "source": [
    "#shoe price\n",
    "price_tag=driver.find_elements(By.XPATH,'//div[@class=\"product-price\"]')\n",
    "\n",
    "price=[]\n",
    "\n",
    "for p in price_tag:\n",
    "    price.append(p.text)\n",
    "len(price)\n"
   ]
  },
  {
   "cell_type": "code",
   "execution_count": 10,
   "id": "0fc902c0",
   "metadata": {},
   "outputs": [],
   "source": [
    "#Next PAge\n",
    "next_page=driver.find_element(By.XPATH,'/html/body/div[2]/div/div[1]/main/div[3]/div[2]/div/div[2]/section/div[2]/ul/li[12]')\n",
    "next_page.click()"
   ]
  },
  {
   "cell_type": "code",
   "execution_count": 11,
   "id": "ead2eed9",
   "metadata": {},
   "outputs": [
    {
     "data": {
      "text/plain": [
       "100"
      ]
     },
     "execution_count": 11,
     "metadata": {},
     "output_type": "execute_result"
    }
   ],
   "source": [
    "#extracting brand\n",
    "brand_tags1=driver.find_elements(By.XPATH,'//h3[@class=\"product-brand\"]')\n",
    "\n",
    "\n",
    "\n",
    "for b1 in brand_tags1:\n",
    "    brand.append(b1.text)\n",
    "len(brand)"
   ]
  },
  {
   "cell_type": "code",
   "execution_count": 12,
   "id": "17edaf62",
   "metadata": {},
   "outputs": [
    {
     "data": {
      "text/plain": [
       "100"
      ]
     },
     "execution_count": 12,
     "metadata": {},
     "output_type": "execute_result"
    }
   ],
   "source": [
    "#shoe description\n",
    "brand_desc1=driver.find_elements(By.XPATH,'//h4[@class=\"product-product\"]')\n",
    "\n",
    "for d1 in brand_desc1:\n",
    "    description.append(d1.text)\n",
    "len(description)"
   ]
  },
  {
   "cell_type": "code",
   "execution_count": 13,
   "id": "d04d3865",
   "metadata": {},
   "outputs": [
    {
     "data": {
      "text/plain": [
       "100"
      ]
     },
     "execution_count": 13,
     "metadata": {},
     "output_type": "execute_result"
    }
   ],
   "source": [
    "#shoe price\n",
    "price_tag1=driver.find_elements(By.XPATH,'//div[@class=\"product-price\"]')\n",
    "\n",
    "for p1 in price_tag1:\n",
    "    price.append(p1.text)\n",
    "len(price)"
   ]
  },
  {
   "cell_type": "code",
   "execution_count": 14,
   "id": "3fe8adaf",
   "metadata": {},
   "outputs": [
    {
     "data": {
      "text/html": [
       "<div>\n",
       "<style scoped>\n",
       "    .dataframe tbody tr th:only-of-type {\n",
       "        vertical-align: middle;\n",
       "    }\n",
       "\n",
       "    .dataframe tbody tr th {\n",
       "        vertical-align: top;\n",
       "    }\n",
       "\n",
       "    .dataframe thead th {\n",
       "        text-align: right;\n",
       "    }\n",
       "</style>\n",
       "<table border=\"1\" class=\"dataframe\">\n",
       "  <thead>\n",
       "    <tr style=\"text-align: right;\">\n",
       "      <th></th>\n",
       "      <th>Brand_Name</th>\n",
       "      <th>Product_Description</th>\n",
       "      <th>Price</th>\n",
       "    </tr>\n",
       "  </thead>\n",
       "  <tbody>\n",
       "    <tr>\n",
       "      <th>0</th>\n",
       "      <td>Nike</td>\n",
       "      <td>Men React Infinity 3 Running</td>\n",
       "      <td>Rs. 11196Rs. 13995(20% OFF)</td>\n",
       "    </tr>\n",
       "    <tr>\n",
       "      <th>1</th>\n",
       "      <td>Nike</td>\n",
       "      <td>Men KD 15 Basketball Shoes</td>\n",
       "      <td>Rs. 12595Rs. 13995(10% OFF)</td>\n",
       "    </tr>\n",
       "    <tr>\n",
       "      <th>2</th>\n",
       "      <td>Nike</td>\n",
       "      <td>Men SRG 3 FK Training Shoes</td>\n",
       "      <td>Rs. 8005Rs. 8895(10% OFF)</td>\n",
       "    </tr>\n",
       "    <tr>\n",
       "      <th>3</th>\n",
       "      <td>Nike</td>\n",
       "      <td>Women React MR 3 Running Shoes</td>\n",
       "      <td>Rs. 8396Rs. 10495(20% OFF)</td>\n",
       "    </tr>\n",
       "    <tr>\n",
       "      <th>4</th>\n",
       "      <td>Puma</td>\n",
       "      <td>Eternity Nitro Running Shoes</td>\n",
       "      <td>Rs. 9749Rs. 12999(25% OFF)</td>\n",
       "    </tr>\n",
       "    <tr>\n",
       "      <th>...</th>\n",
       "      <td>...</td>\n",
       "      <td>...</td>\n",
       "      <td>...</td>\n",
       "    </tr>\n",
       "    <tr>\n",
       "      <th>95</th>\n",
       "      <td>DAVINCHI</td>\n",
       "      <td>Men Formal Leather Slip-Ons</td>\n",
       "      <td>Rs. 8990</td>\n",
       "    </tr>\n",
       "    <tr>\n",
       "      <th>96</th>\n",
       "      <td>ECCO</td>\n",
       "      <td>Leather Stiletto Pumps</td>\n",
       "      <td>Rs. 12999</td>\n",
       "    </tr>\n",
       "    <tr>\n",
       "      <th>97</th>\n",
       "      <td>J.FONTINI</td>\n",
       "      <td>Men Solid Leather Formal Loafers</td>\n",
       "      <td>Rs. 9990</td>\n",
       "    </tr>\n",
       "    <tr>\n",
       "      <th>98</th>\n",
       "      <td>ECCO</td>\n",
       "      <td>Leather Block Pumps</td>\n",
       "      <td>Rs. 9999</td>\n",
       "    </tr>\n",
       "    <tr>\n",
       "      <th>99</th>\n",
       "      <td>J.FONTINI</td>\n",
       "      <td>Men Textured Leather Formal Loafers</td>\n",
       "      <td>Rs. 8990</td>\n",
       "    </tr>\n",
       "  </tbody>\n",
       "</table>\n",
       "<p>100 rows × 3 columns</p>\n",
       "</div>"
      ],
      "text/plain": [
       "   Brand_Name                  Product_Description  \\\n",
       "0        Nike         Men React Infinity 3 Running   \n",
       "1        Nike           Men KD 15 Basketball Shoes   \n",
       "2        Nike          Men SRG 3 FK Training Shoes   \n",
       "3        Nike       Women React MR 3 Running Shoes   \n",
       "4        Puma         Eternity Nitro Running Shoes   \n",
       "..        ...                                  ...   \n",
       "95   DAVINCHI          Men Formal Leather Slip-Ons   \n",
       "96       ECCO               Leather Stiletto Pumps   \n",
       "97  J.FONTINI     Men Solid Leather Formal Loafers   \n",
       "98       ECCO                  Leather Block Pumps   \n",
       "99  J.FONTINI  Men Textured Leather Formal Loafers   \n",
       "\n",
       "                          Price  \n",
       "0   Rs. 11196Rs. 13995(20% OFF)  \n",
       "1   Rs. 12595Rs. 13995(10% OFF)  \n",
       "2     Rs. 8005Rs. 8895(10% OFF)  \n",
       "3    Rs. 8396Rs. 10495(20% OFF)  \n",
       "4    Rs. 9749Rs. 12999(25% OFF)  \n",
       "..                          ...  \n",
       "95                     Rs. 8990  \n",
       "96                    Rs. 12999  \n",
       "97                     Rs. 9990  \n",
       "98                     Rs. 9999  \n",
       "99                     Rs. 8990  \n",
       "\n",
       "[100 rows x 3 columns]"
      ]
     },
     "execution_count": 14,
     "metadata": {},
     "output_type": "execute_result"
    }
   ],
   "source": [
    "shoes=pd.DataFrame()\n",
    "shoes['Brand_Name']=brand\n",
    "shoes['Product_Description']= description\n",
    "shoes['Price']=price\n",
    "\n",
    "shoes"
   ]
  },
  {
   "cell_type": "markdown",
   "id": "93cd40be",
   "metadata": {},
   "source": [
    "Q8: Go to webpage https://www.amazon.in/\n",
    "Enter “Laptop” in the search field and then click the search icon.\n",
    "Then set CPU Type filter to “Intel Core i7”\n",
    "After setting the filters scrape first 10 laptops data. You have to scrape 3 attributesfor each laptop:\n",
    "1. Title\n",
    "2. Ratings\n",
    "3. Price\n"
   ]
  },
  {
   "cell_type": "code",
   "execution_count": 15,
   "id": "9a6a825c",
   "metadata": {},
   "outputs": [],
   "source": [
    "url='https://www.amazon.in/'\n",
    "driver.get(url)"
   ]
  },
  {
   "cell_type": "code",
   "execution_count": 16,
   "id": "be8cd1a8",
   "metadata": {},
   "outputs": [
    {
     "data": {
      "text/plain": [
       "<selenium.webdriver.remote.webelement.WebElement (session=\"8632971f172279cb36aa980fda0344aa\", element=\"a22f2c5d-9f9c-480c-915d-333490c7619c\")>"
      ]
     },
     "execution_count": 16,
     "metadata": {},
     "output_type": "execute_result"
    }
   ],
   "source": [
    "#search\n",
    "search=driver.find_element(By.XPATH,\"/html/body/div[1]/header/div/div[1]/div[2]/div/form/div[2]/div[1]/input\")\n",
    "search"
   ]
  },
  {
   "cell_type": "code",
   "execution_count": 17,
   "id": "ca63da28",
   "metadata": {},
   "outputs": [],
   "source": [
    "#write on search bar\n",
    "search.send_keys(\"Laptop\")"
   ]
  },
  {
   "cell_type": "code",
   "execution_count": 19,
   "id": "9c4734ed",
   "metadata": {},
   "outputs": [],
   "source": [
    "#search Button\n",
    "search_btn=driver.find_element(By.XPATH,'/html/body/div[1]/header/div/div[1]/div[2]/div/form/div[3]/div/span/input')\n",
    "search_btn.click()                               "
   ]
  },
  {
   "cell_type": "code",
   "execution_count": 20,
   "id": "baf19567",
   "metadata": {},
   "outputs": [],
   "source": [
    "\n",
    "#CPU Type\n",
    "cpu_type=driver.find_element(By.XPATH,'/html/body/div[1]/div[2]/div[1]/div[2]/div/div[3]/span/div[1]/div/div/div[6]/ul[2]/li[14]/span/a/div')\n",
    "cpu_type.click() "
   ]
  },
  {
   "cell_type": "code",
   "execution_count": 22,
   "id": "7e06e857",
   "metadata": {},
   "outputs": [
    {
     "data": {
      "text/plain": [
       "30"
      ]
     },
     "execution_count": 22,
     "metadata": {},
     "output_type": "execute_result"
    }
   ],
   "source": [
    "#Laptop name\n",
    "name_tag=driver.find_elements(By.XPATH,'//span[@class=\"a-size-medium a-color-base a-text-normal\"]')\n",
    "name=[]\n",
    "for n in name_tag:\n",
    "    name.append(n.text)\n",
    "len(name)"
   ]
  },
  {
   "cell_type": "code",
   "execution_count": 34,
   "id": "df254a3a",
   "metadata": {},
   "outputs": [],
   "source": [
    "#Rating\n",
    "rating_tag=driver.find_elements(By.XPATH,'//span[@class=\"a-size-base s-underline-text\"]')\n",
    "Rating=[]\n",
    "for r in rating_tag:\n",
    "    Rating.append(r.text)\n"
   ]
  },
  {
   "cell_type": "code",
   "execution_count": 31,
   "id": "72c10d09",
   "metadata": {},
   "outputs": [],
   "source": [
    "#price\n",
    "price_tag=driver.find_elements(By.XPATH,'//span[@class=\"a-price-whole\"]')\n",
    "Price=[]\n",
    "\n",
    "for p in price_tag:\n",
    "    Price.append(p.text)\n",
    "\n",
    "\n",
    "    "
   ]
  },
  {
   "cell_type": "code",
   "execution_count": 36,
   "id": "7d1f00ad",
   "metadata": {},
   "outputs": [],
   "source": [
    "name=name[0:10]\n",
    "Rating=Rating[0:10]\n",
    "Price=Price[0:10]"
   ]
  },
  {
   "cell_type": "code",
   "execution_count": 37,
   "id": "c0a44687",
   "metadata": {},
   "outputs": [
    {
     "data": {
      "text/html": [
       "<div>\n",
       "<style scoped>\n",
       "    .dataframe tbody tr th:only-of-type {\n",
       "        vertical-align: middle;\n",
       "    }\n",
       "\n",
       "    .dataframe tbody tr th {\n",
       "        vertical-align: top;\n",
       "    }\n",
       "\n",
       "    .dataframe thead th {\n",
       "        text-align: right;\n",
       "    }\n",
       "</style>\n",
       "<table border=\"1\" class=\"dataframe\">\n",
       "  <thead>\n",
       "    <tr style=\"text-align: right;\">\n",
       "      <th></th>\n",
       "      <th>Title</th>\n",
       "      <th>Rating</th>\n",
       "      <th>Price</th>\n",
       "    </tr>\n",
       "  </thead>\n",
       "  <tbody>\n",
       "    <tr>\n",
       "      <th>0</th>\n",
       "      <td>Lenovo IdeaPad Slim 5 Pro Intel Core i7 11th G...</td>\n",
       "      <td>9</td>\n",
       "      <td>75,853</td>\n",
       "    </tr>\n",
       "    <tr>\n",
       "      <th>1</th>\n",
       "      <td>Acer Nitro 5 Core i7 11th Gen 15.6\" (39.62cms)...</td>\n",
       "      <td>85</td>\n",
       "      <td>99,990</td>\n",
       "    </tr>\n",
       "    <tr>\n",
       "      <th>2</th>\n",
       "      <td>ASUS TUF Gaming F15 (2021), 15.6\" (39.62 cms) ...</td>\n",
       "      <td>26</td>\n",
       "      <td>89,990</td>\n",
       "    </tr>\n",
       "    <tr>\n",
       "      <th>3</th>\n",
       "      <td>ASUS Vivobook 15, 15.6-inch (39.62 cms) FHD, I...</td>\n",
       "      <td>161</td>\n",
       "      <td>57,890</td>\n",
       "    </tr>\n",
       "    <tr>\n",
       "      <th>4</th>\n",
       "      <td>ASUS Zenbook 14 OLED (2022), 14\" (35.56 cms) 2...</td>\n",
       "      <td>7</td>\n",
       "      <td>1,07,794</td>\n",
       "    </tr>\n",
       "    <tr>\n",
       "      <th>5</th>\n",
       "      <td>Hp Pavilion 15 12Th Gen Intel Core I7 16Gb Sdr...</td>\n",
       "      <td>5</td>\n",
       "      <td>87,900</td>\n",
       "    </tr>\n",
       "    <tr>\n",
       "      <th>6</th>\n",
       "      <td>Lenovo IdeaPad Slim 5 Pro Intel Core i7 11th G...</td>\n",
       "      <td>9</td>\n",
       "      <td>75,853</td>\n",
       "    </tr>\n",
       "    <tr>\n",
       "      <th>7</th>\n",
       "      <td>Hp Pavilion X360 11Th Gen Intel Core I7 14 Inc...</td>\n",
       "      <td>14</td>\n",
       "      <td>82,990</td>\n",
       "    </tr>\n",
       "    <tr>\n",
       "      <th>8</th>\n",
       "      <td>Lenovo ThinkPad E14 Intel Core i7 11th Gen 14-...</td>\n",
       "      <td>9</td>\n",
       "      <td>94,990</td>\n",
       "    </tr>\n",
       "    <tr>\n",
       "      <th>9</th>\n",
       "      <td>(Renewed) Lenovo IdeaPad Slim 3i (82H801CSIN) ...</td>\n",
       "      <td>93</td>\n",
       "      <td>38,325</td>\n",
       "    </tr>\n",
       "  </tbody>\n",
       "</table>\n",
       "</div>"
      ],
      "text/plain": [
       "                                               Title Rating     Price\n",
       "0  Lenovo IdeaPad Slim 5 Pro Intel Core i7 11th G...      9    75,853\n",
       "1  Acer Nitro 5 Core i7 11th Gen 15.6\" (39.62cms)...     85    99,990\n",
       "2  ASUS TUF Gaming F15 (2021), 15.6\" (39.62 cms) ...     26    89,990\n",
       "3  ASUS Vivobook 15, 15.6-inch (39.62 cms) FHD, I...    161    57,890\n",
       "4  ASUS Zenbook 14 OLED (2022), 14\" (35.56 cms) 2...      7  1,07,794\n",
       "5  Hp Pavilion 15 12Th Gen Intel Core I7 16Gb Sdr...      5    87,900\n",
       "6  Lenovo IdeaPad Slim 5 Pro Intel Core i7 11th G...      9    75,853\n",
       "7  Hp Pavilion X360 11Th Gen Intel Core I7 14 Inc...     14    82,990\n",
       "8  Lenovo ThinkPad E14 Intel Core i7 11th Gen 14-...      9    94,990\n",
       "9  (Renewed) Lenovo IdeaPad Slim 3i (82H801CSIN) ...     93    38,325"
      ]
     },
     "execution_count": 37,
     "metadata": {},
     "output_type": "execute_result"
    }
   ],
   "source": [
    "Laptop=pd.DataFrame()\n",
    "Laptop['Title']=name\n",
    "Laptop['Rating']=Rating\n",
    "Laptop['Price']=Price\n",
    "\n",
    "Laptop"
   ]
  },
  {
   "cell_type": "markdown",
   "id": "cbf798f2",
   "metadata": {},
   "source": [
    "Q9: Write a python program to scrape data for first 10 job results for Data Scientist Designation in Noida \n",
    "location. You have to scrape company name, No. of days ago when job was posted, Rating of the company. \n",
    "This task will be done in following steps:\n",
    "1. First get the webpage https://www.ambitionbox.com/\n",
    "2. Click on the Job option as shown in the image\n",
    "3. After reaching to the next webpage, In place of “Search by Designations, Companies, Skills” enter\n",
    "   “Data Scientist” and click on search button\n",
    "4. You will reach to the following web page click on location and in place of “Search location” enter\n",
    "   “Noida” and select location “Noida”.\n",
    "5. Then scrape the data for the first 10 jobs results you get on the above shown page.\n",
    "6. Finally create a dataframe of the scraped data\n"
   ]
  },
  {
   "cell_type": "code",
   "execution_count": 1,
   "id": "d2a2f1fb",
   "metadata": {},
   "outputs": [],
   "source": [
    "#Import Libraries\n",
    "import selenium\n",
    "from selenium import webdriver\n",
    "import pandas as pd\n",
    "import warnings\n",
    "warnings.filterwarnings(\"ignore\")\n",
    "\n",
    "driver=webdriver.Chrome(r'C:\\Users\\sande\\Downloads\\chromedriver_win32\\chromedriver.exe')\n",
    "from selenium.webdriver.common.by import By\n",
    "url='https://www.ambitionbox.com/'\n",
    "driver.get(url)"
   ]
  },
  {
   "cell_type": "code",
   "execution_count": 2,
   "id": "5fc60305",
   "metadata": {},
   "outputs": [],
   "source": [
    "Option_tag=driver.find_element(By.XPATH,'/html/body/div[1]/nav/nav/a[6]')\n",
    "Option_tag.click()"
   ]
  },
  {
   "cell_type": "code",
   "execution_count": 3,
   "id": "d784f545",
   "metadata": {},
   "outputs": [
    {
     "data": {
      "text/plain": [
       "<selenium.webdriver.remote.webelement.WebElement (session=\"537eeb80ba98219fcf688c70181a532a\", element=\"1c5714e9-ef6f-4f16-9533-34356e82badf\")>"
      ]
     },
     "execution_count": 3,
     "metadata": {},
     "output_type": "execute_result"
    }
   ],
   "source": [
    "#Search\n",
    "search=driver.find_element(By.XPATH,\"/html/body/div/div/div/div[2]/div[1]/div[1]/div/div/div/div/span/input\")\n",
    "search"
   ]
  },
  {
   "cell_type": "code",
   "execution_count": 4,
   "id": "c94ecd97",
   "metadata": {},
   "outputs": [],
   "source": [
    "search.send_keys(\"Data Scientist\")"
   ]
  },
  {
   "cell_type": "code",
   "execution_count": 6,
   "id": "3b7b4390",
   "metadata": {},
   "outputs": [],
   "source": [
    "search_btn=driver.find_element(By.XPATH,'/html/body/div/div/div/div[2]/div[1]/div[1]/div/div/div/button')\n",
    "search_btn.click()"
   ]
  },
  {
   "cell_type": "code",
   "execution_count": 7,
   "id": "28e4f194",
   "metadata": {},
   "outputs": [],
   "source": [
    "#location\n",
    "location_tag=driver.find_element(By.XPATH,'/html/body/div/div/div/div[2]/div[1]/div[2]/div[1]/div/div/div/div[2]/div[2]/div/div[3]/div[1]/div[7]/div/label')\n",
    "location_tag.click()\n",
    "                                 "
   ]
  },
  {
   "cell_type": "code",
   "execution_count": 16,
   "id": "d2fecb64",
   "metadata": {},
   "outputs": [
    {
     "data": {
      "text/plain": [
       "[<selenium.webdriver.remote.webelement.WebElement (session=\"537eeb80ba98219fcf688c70181a532a\", element=\"33076510-3d72-40af-b6cb-22b81d20d600\")>,\n",
       " <selenium.webdriver.remote.webelement.WebElement (session=\"537eeb80ba98219fcf688c70181a532a\", element=\"b2a6f043-03ab-49cb-b883-d3d028374edb\")>,\n",
       " <selenium.webdriver.remote.webelement.WebElement (session=\"537eeb80ba98219fcf688c70181a532a\", element=\"cabd931d-6c9c-49fc-b489-bbffb73a6ed9\")>,\n",
       " <selenium.webdriver.remote.webelement.WebElement (session=\"537eeb80ba98219fcf688c70181a532a\", element=\"b9ac6fbf-3613-4dad-956f-f0e68322beae\")>,\n",
       " <selenium.webdriver.remote.webelement.WebElement (session=\"537eeb80ba98219fcf688c70181a532a\", element=\"73841abc-87e6-443e-b9d9-7df9c1b8b223\")>,\n",
       " <selenium.webdriver.remote.webelement.WebElement (session=\"537eeb80ba98219fcf688c70181a532a\", element=\"27568fa4-cfc5-47d9-b2f9-41a9f516d4c4\")>,\n",
       " <selenium.webdriver.remote.webelement.WebElement (session=\"537eeb80ba98219fcf688c70181a532a\", element=\"0a5023b6-5666-4734-98ce-1958e80dda0a\")>,\n",
       " <selenium.webdriver.remote.webelement.WebElement (session=\"537eeb80ba98219fcf688c70181a532a\", element=\"b783c46b-6362-460b-b37b-c903bb9376de\")>,\n",
       " <selenium.webdriver.remote.webelement.WebElement (session=\"537eeb80ba98219fcf688c70181a532a\", element=\"bc393461-1c72-4ed2-8e28-b668c0e0ee18\")>,\n",
       " <selenium.webdriver.remote.webelement.WebElement (session=\"537eeb80ba98219fcf688c70181a532a\", element=\"2ac5cf3b-2350-44c1-b434-2bee5921c89e\")>]"
      ]
     },
     "execution_count": 16,
     "metadata": {},
     "output_type": "execute_result"
    }
   ],
   "source": [
    "#company Name\n",
    "company=driver.find_elements(By.XPATH,'//p[@class=\"company body-medium\"]')\n",
    "company"
   ]
  },
  {
   "cell_type": "code",
   "execution_count": 17,
   "id": "8cb28c31",
   "metadata": {},
   "outputs": [
    {
     "data": {
      "text/plain": [
       "['Optum Global Solutions (India) Private Limited',\n",
       " 'GENPACT India Private Limited',\n",
       " 'Dew Solutions Pvt. Ltd.',\n",
       " 'InfoEdge India Ltd.',\n",
       " 'Info Edge India Limited',\n",
       " 'Info Edge India Limited',\n",
       " 'Latent bridge',\n",
       " 'Careerera',\n",
       " 'Careernet Consulting',\n",
       " 'Acidaes Solutions Pvt. Ltd.']"
      ]
     },
     "execution_count": 17,
     "metadata": {},
     "output_type": "execute_result"
    }
   ],
   "source": [
    "Company_Name=[]\n",
    "for c in company:\n",
    "    Company_Name.append(c.text)\n",
    "    \n",
    "Company_Name"
   ]
  },
  {
   "cell_type": "code",
   "execution_count": 19,
   "id": "30cec8cc",
   "metadata": {},
   "outputs": [
    {
     "data": {
      "text/plain": [
       "['9d ago',\n",
       " 'via naukri.com',\n",
       " '16d ago',\n",
       " 'via naukri.com',\n",
       " '7d ago',\n",
       " 'via hirist.com',\n",
       " '14d ago',\n",
       " 'via hirist.com',\n",
       " '15d ago',\n",
       " 'via hirist.com',\n",
       " '15d ago',\n",
       " 'via hirist.com',\n",
       " '15d ago',\n",
       " 'via hirist.com',\n",
       " '2d ago',\n",
       " 'via naukri.com',\n",
       " '29d ago',\n",
       " 'via iimjobs.com',\n",
       " '15d ago',\n",
       " 'via naukri.com']"
      ]
     },
     "execution_count": 19,
     "metadata": {},
     "output_type": "execute_result"
    }
   ],
   "source": [
    "#job post age\n",
    "job_post_tags=driver.find_elements(By.XPATH,'//span[@class=\"body-small-l\"]')\n",
    "Job_Posted=[]\n",
    "for j in job_post_tags:\n",
    "    Job_Posted.append(j.text)\n",
    "    \n",
    "Job_Posted"
   ]
  },
  {
   "cell_type": "code",
   "execution_count": 20,
   "id": "330dcf50",
   "metadata": {},
   "outputs": [
    {
     "data": {
      "text/plain": [
       "['4.1', '4.0', '4.3', '3.9', '3.9', '3.9', '4.5', '3.8', '3.9', '3.8']"
      ]
     },
     "execution_count": 20,
     "metadata": {},
     "output_type": "execute_result"
    }
   ],
   "source": [
    "#Rating\n",
    "company_rating_tags=driver.find_elements(By.XPATH,'//span[@class=\"body-small\"]')\n",
    "Company_Rating=[]\n",
    "for cr in company_rating_tags:\n",
    "    Company_Rating.append(cr.text)\n",
    "    \n",
    "Company_Rating\n",
    "    \n"
   ]
  },
  {
   "cell_type": "code",
   "execution_count": 22,
   "id": "9abbc6a6",
   "metadata": {},
   "outputs": [
    {
     "data": {
      "text/html": [
       "<div>\n",
       "<style scoped>\n",
       "    .dataframe tbody tr th:only-of-type {\n",
       "        vertical-align: middle;\n",
       "    }\n",
       "\n",
       "    .dataframe tbody tr th {\n",
       "        vertical-align: top;\n",
       "    }\n",
       "\n",
       "    .dataframe thead th {\n",
       "        text-align: right;\n",
       "    }\n",
       "</style>\n",
       "<table border=\"1\" class=\"dataframe\">\n",
       "  <thead>\n",
       "    <tr style=\"text-align: right;\">\n",
       "      <th></th>\n",
       "      <th>Company Name</th>\n",
       "      <th>Job Posted</th>\n",
       "      <th>Company Rating</th>\n",
       "    </tr>\n",
       "  </thead>\n",
       "  <tbody>\n",
       "    <tr>\n",
       "      <th>0</th>\n",
       "      <td>Optum Global Solutions (India) Private Limited</td>\n",
       "      <td>9d ago</td>\n",
       "      <td>4.1</td>\n",
       "    </tr>\n",
       "    <tr>\n",
       "      <th>1</th>\n",
       "      <td>GENPACT India Private Limited</td>\n",
       "      <td>via naukri.com</td>\n",
       "      <td>4.0</td>\n",
       "    </tr>\n",
       "    <tr>\n",
       "      <th>2</th>\n",
       "      <td>Dew Solutions Pvt. Ltd.</td>\n",
       "      <td>16d ago</td>\n",
       "      <td>4.3</td>\n",
       "    </tr>\n",
       "    <tr>\n",
       "      <th>3</th>\n",
       "      <td>InfoEdge India Ltd.</td>\n",
       "      <td>via naukri.com</td>\n",
       "      <td>3.9</td>\n",
       "    </tr>\n",
       "    <tr>\n",
       "      <th>4</th>\n",
       "      <td>Info Edge India Limited</td>\n",
       "      <td>7d ago</td>\n",
       "      <td>3.9</td>\n",
       "    </tr>\n",
       "    <tr>\n",
       "      <th>5</th>\n",
       "      <td>Info Edge India Limited</td>\n",
       "      <td>via hirist.com</td>\n",
       "      <td>3.9</td>\n",
       "    </tr>\n",
       "    <tr>\n",
       "      <th>6</th>\n",
       "      <td>Latent bridge</td>\n",
       "      <td>14d ago</td>\n",
       "      <td>4.5</td>\n",
       "    </tr>\n",
       "    <tr>\n",
       "      <th>7</th>\n",
       "      <td>Careerera</td>\n",
       "      <td>via hirist.com</td>\n",
       "      <td>3.8</td>\n",
       "    </tr>\n",
       "    <tr>\n",
       "      <th>8</th>\n",
       "      <td>Careernet Consulting</td>\n",
       "      <td>15d ago</td>\n",
       "      <td>3.9</td>\n",
       "    </tr>\n",
       "    <tr>\n",
       "      <th>9</th>\n",
       "      <td>Acidaes Solutions Pvt. Ltd.</td>\n",
       "      <td>via hirist.com</td>\n",
       "      <td>3.8</td>\n",
       "    </tr>\n",
       "  </tbody>\n",
       "</table>\n",
       "</div>"
      ],
      "text/plain": [
       "                                     Company Name      Job Posted  \\\n",
       "0  Optum Global Solutions (India) Private Limited          9d ago   \n",
       "1                   GENPACT India Private Limited  via naukri.com   \n",
       "2                         Dew Solutions Pvt. Ltd.         16d ago   \n",
       "3                             InfoEdge India Ltd.  via naukri.com   \n",
       "4                         Info Edge India Limited          7d ago   \n",
       "5                         Info Edge India Limited  via hirist.com   \n",
       "6                                   Latent bridge         14d ago   \n",
       "7                                       Careerera  via hirist.com   \n",
       "8                            Careernet Consulting         15d ago   \n",
       "9                     Acidaes Solutions Pvt. Ltd.  via hirist.com   \n",
       "\n",
       "  Company Rating  \n",
       "0            4.1  \n",
       "1            4.0  \n",
       "2            4.3  \n",
       "3            3.9  \n",
       "4            3.9  \n",
       "5            3.9  \n",
       "6            4.5  \n",
       "7            3.8  \n",
       "8            3.9  \n",
       "9            3.8  "
      ]
     },
     "execution_count": 22,
     "metadata": {},
     "output_type": "execute_result"
    }
   ],
   "source": [
    "Company_Name=Company_Name[0:10]\n",
    "Job_Posted=Job_Posted[0:10]\n",
    "Company_Rating=Company_Rating[0:10]\n",
    "\n",
    "amb_box=pd.DataFrame()\n",
    "amb_box['Company Name']=Company_Name\n",
    "amb_box['Job Posted']=Job_Posted\n",
    "amb_box['Company Rating']=Company_Rating\n",
    "amb_box"
   ]
  }
 ],
 "metadata": {
  "kernelspec": {
   "display_name": "Python 3 (ipykernel)",
   "language": "python",
   "name": "python3"
  },
  "language_info": {
   "codemirror_mode": {
    "name": "ipython",
    "version": 3
   },
   "file_extension": ".py",
   "mimetype": "text/x-python",
   "name": "python",
   "nbconvert_exporter": "python",
   "pygments_lexer": "ipython3",
   "version": "3.9.7"
  }
 },
 "nbformat": 4,
 "nbformat_minor": 5
}
