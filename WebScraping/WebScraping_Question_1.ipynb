{
 "cells": [
  {
   "cell_type": "code",
   "execution_count": 6,
   "id": "170b362e",
   "metadata": {},
   "outputs": [],
   "source": [
    "import requests\n",
    "from bs4 import BeautifulSoup\n",
    "import numpy as np\n",
    "import pandas as pd"
   ]
  },
  {
   "cell_type": "code",
   "execution_count": 7,
   "id": "396557fa",
   "metadata": {},
   "outputs": [],
   "source": [
    "res=requests.get(\"https://www.wikipedia.org/\")"
   ]
  },
  {
   "cell_type": "code",
   "execution_count": 8,
   "id": "bfe6c920",
   "metadata": {},
   "outputs": [
    {
     "data": {
      "text/plain": [
       "<Response [200]>"
      ]
     },
     "execution_count": 8,
     "metadata": {},
     "output_type": "execute_result"
    }
   ],
   "source": [
    "res"
   ]
  },
  {
   "cell_type": "code",
   "execution_count": 10,
   "id": "eade76b6",
   "metadata": {},
   "outputs": [],
   "source": [
    "soup=BeautifulSoup(res.content,'html.parser')"
   ]
  },
  {
   "cell_type": "code",
   "execution_count": 13,
   "id": "a4eec90b",
   "metadata": {},
   "outputs": [],
   "source": [
    "head_tag=(['h1','h2','h3','h4','h5','h6'])"
   ]
  },
  {
   "cell_type": "code",
   "execution_count": 14,
   "id": "d62f65f2",
   "metadata": {},
   "outputs": [
    {
     "data": {
      "text/plain": [
       "[<h1 class=\"central-textlogo-wrapper\">\n",
       " <span class=\"central-textlogo__image sprite svg-Wikipedia_wordmark\">\n",
       " Wikipedia\n",
       " </span>\n",
       " <strong class=\"jsl10n localized-slogan\" data-jsl10n=\"portal.slogan\">The Free Encyclopedia</strong>\n",
       " </h1>,\n",
       " <h2 class=\"bookshelf-container\">\n",
       " <span class=\"bookshelf\">\n",
       " <span class=\"text\">\n",
       " <bdi dir=\"ltr\">\n",
       " 1 000 000+\n",
       " </bdi>\n",
       " <span class=\"jsl10n\" data-jsl10n=\"entries\">\n",
       " articles\n",
       " </span>\n",
       " </span>\n",
       " </span>\n",
       " </h2>,\n",
       " <h2 class=\"bookshelf-container\">\n",
       " <span class=\"bookshelf\">\n",
       " <span class=\"text\">\n",
       " <bdi dir=\"ltr\">\n",
       " 100 000+\n",
       " </bdi>\n",
       " <span class=\"jsl10n\" data-jsl10n=\"portal.entries\">\n",
       " articles\n",
       " </span>\n",
       " </span>\n",
       " </span>\n",
       " </h2>,\n",
       " <h2 class=\"bookshelf-container\">\n",
       " <span class=\"bookshelf\">\n",
       " <span class=\"text\">\n",
       " <bdi dir=\"ltr\">\n",
       " 10 000+\n",
       " </bdi>\n",
       " <span class=\"jsl10n\" data-jsl10n=\"portal.entries\">\n",
       " articles\n",
       " </span>\n",
       " </span>\n",
       " </span>\n",
       " </h2>,\n",
       " <h2 class=\"bookshelf-container\">\n",
       " <span class=\"bookshelf\">\n",
       " <span class=\"text\">\n",
       " <bdi dir=\"ltr\">\n",
       " 1 000+\n",
       " </bdi>\n",
       " <span class=\"jsl10n\" data-jsl10n=\"portal.entries\">\n",
       " articles\n",
       " </span>\n",
       " </span>\n",
       " </span>\n",
       " </h2>,\n",
       " <h2 class=\"bookshelf-container\">\n",
       " <span class=\"bookshelf\">\n",
       " <span class=\"text\">\n",
       " <bdi dir=\"ltr\">\n",
       " 100+\n",
       " </bdi>\n",
       " <span class=\"jsl10n\" data-jsl10n=\"portal.entries\">\n",
       " articles\n",
       " </span>\n",
       " </span>\n",
       " </span>\n",
       " </h2>]"
      ]
     },
     "execution_count": 14,
     "metadata": {},
     "output_type": "execute_result"
    }
   ],
   "source": [
    "soup.find_all(head_tag)"
   ]
  }
 ],
 "metadata": {
  "kernelspec": {
   "display_name": "Python 3 (ipykernel)",
   "language": "python",
   "name": "python3"
  },
  "language_info": {
   "codemirror_mode": {
    "name": "ipython",
    "version": 3
   },
   "file_extension": ".py",
   "mimetype": "text/x-python",
   "name": "python",
   "nbconvert_exporter": "python",
   "pygments_lexer": "ipython3",
   "version": "3.9.7"
  }
 },
 "nbformat": 4,
 "nbformat_minor": 5
}
