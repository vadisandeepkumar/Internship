{
 "cells": [
  {
   "cell_type": "code",
   "execution_count": 1,
   "id": "8665a24f",
   "metadata": {},
   "outputs": [],
   "source": [
    "# Top 10 ODI teams in men’s cricket along with the records for matches, points and rating\n",
    "import requests\n",
    "from bs4 import BeautifulSoup\n",
    "import numpy as np\n",
    "import pandas as pd"
   ]
  },
  {
   "cell_type": "code",
   "execution_count": 2,
   "id": "67a181c0",
   "metadata": {},
   "outputs": [
    {
     "data": {
      "text/plain": [
       "<Response [200]>"
      ]
     },
     "execution_count": 2,
     "metadata": {},
     "output_type": "execute_result"
    }
   ],
   "source": [
    "res= requests.get('https://www.icc-cricket.com/rankings/mens/team-rankings/odi')\n",
    "res"
   ]
  },
  {
   "cell_type": "code",
   "execution_count": 3,
   "id": "98d0780c",
   "metadata": {},
   "outputs": [],
   "source": [
    "soup = BeautifulSoup(res.content)"
   ]
  },
  {
   "cell_type": "code",
   "execution_count": 5,
   "id": "dd0ab3ff",
   "metadata": {},
   "outputs": [],
   "source": [
    "team = []\n",
    "match = []\n",
    "point = []\n",
    "rating = []"
   ]
  },
  {
   "cell_type": "code",
   "execution_count": 19,
   "id": "c5e5dd20",
   "metadata": {},
   "outputs": [
    {
     "data": {
      "text/plain": [
       "['New Zealand',\n",
       " 'England',\n",
       " 'Pakistan',\n",
       " 'India',\n",
       " 'Australia',\n",
       " 'South Africa',\n",
       " 'Bangladesh',\n",
       " 'Sri Lanka',\n",
       " 'West Indies',\n",
       " 'Afghanistan']"
      ]
     },
     "execution_count": 19,
     "metadata": {},
     "output_type": "execute_result"
    }
   ],
   "source": [
    "for i in soup.find_all('span', class_=\"u-hide-phablet\"):\n",
    "    team.append(i.text)\n",
    "team=team[0:10]\n",
    "team"
   ]
  },
  {
   "cell_type": "code",
   "execution_count": 7,
   "id": "d759d7e5",
   "metadata": {},
   "outputs": [
    {
     "data": {
      "text/plain": [
       "['22',\n",
       " '2,756',\n",
       " '19',\n",
       " '2,005',\n",
       " '22',\n",
       " '2,304',\n",
       " '23',\n",
       " '2,325',\n",
       " '19',\n",
       " '1,872',\n",
       " '24',\n",
       " '2,275',\n",
       " '29',\n",
       " '2,658',\n",
       " '32',\n",
       " '2,306',\n",
       " '18',\n",
       " '1,238',\n",
       " '20',\n",
       " '1,083',\n",
       " '18',\n",
       " '814',\n",
       " '19',\n",
       " '724',\n",
       " '18',\n",
       " '603',\n",
       " '17',\n",
       " '539',\n",
       " '30',\n",
       " '919',\n",
       " '20',\n",
       " '544',\n",
       " '11',\n",
       " '246',\n",
       " '18',\n",
       " '298',\n",
       " '22',\n",
       " '134']"
      ]
     },
     "execution_count": 7,
     "metadata": {},
     "output_type": "execute_result"
    }
   ],
   "source": [
    "for i in soup.find_all('td', class_=\"table-body__cell u-center-text\"):\n",
    "    match.append(i.text)\n",
    "\n",
    "match"
   ]
  },
  {
   "cell_type": "code",
   "execution_count": 18,
   "id": "ef62e1a6",
   "metadata": {},
   "outputs": [
    {
     "data": {
      "text/plain": [
       "['22', '19', '22', '23', '19', '24', '29', '32', '18', '20']"
      ]
     },
     "execution_count": 18,
     "metadata": {},
     "output_type": "execute_result"
    }
   ],
   "source": [
    "matches=match[0:39:2]\n",
    "matches=matches[0:10]\n",
    "matches"
   ]
  },
  {
   "cell_type": "code",
   "execution_count": 10,
   "id": "f66c0184",
   "metadata": {},
   "outputs": [
    {
     "data": {
      "text/plain": [
       "['22',\n",
       " '2,756',\n",
       " '19',\n",
       " '2,005',\n",
       " '22',\n",
       " '2,304',\n",
       " '23',\n",
       " '2,325',\n",
       " '19',\n",
       " '1,872',\n",
       " '24',\n",
       " '2,275',\n",
       " '29',\n",
       " '2,658',\n",
       " '32',\n",
       " '2,306',\n",
       " '18',\n",
       " '1,238',\n",
       " '20',\n",
       " '1,083',\n",
       " '18',\n",
       " '814',\n",
       " '19',\n",
       " '724',\n",
       " '18',\n",
       " '603',\n",
       " '17',\n",
       " '539',\n",
       " '30',\n",
       " '919',\n",
       " '20',\n",
       " '544',\n",
       " '11',\n",
       " '246',\n",
       " '18',\n",
       " '298',\n",
       " '22',\n",
       " '134']"
      ]
     },
     "execution_count": 10,
     "metadata": {},
     "output_type": "execute_result"
    }
   ],
   "source": [
    "for k in soup.find_all('td', class_=\"table-body__cell u-center-text\"):\n",
    "    point.append(k.text)\n",
    "point"
   ]
  },
  {
   "cell_type": "code",
   "execution_count": 17,
   "id": "212048f6",
   "metadata": {},
   "outputs": [
    {
     "data": {
      "text/plain": [
       "['2,756',\n",
       " '2,005',\n",
       " '2,304',\n",
       " '2,325',\n",
       " '1,872',\n",
       " '2,275',\n",
       " '2,658',\n",
       " '2,306',\n",
       " '1,238',\n",
       " '1,083']"
      ]
     },
     "execution_count": 17,
     "metadata": {},
     "output_type": "execute_result"
    }
   ],
   "source": [
    "Points=point[1:39:2]\n",
    "Points=Points[0:10]\n",
    "Points"
   ]
  },
  {
   "cell_type": "code",
   "execution_count": 16,
   "id": "404f56ce",
   "metadata": {},
   "outputs": [
    {
     "data": {
      "text/plain": [
       "['125', '106', '105', '101', '99', '95', '92', '72', '69', '54']"
      ]
     },
     "execution_count": 16,
     "metadata": {},
     "output_type": "execute_result"
    }
   ],
   "source": [
    "for l in soup.find_all('td', class_=\"table-body__cell u-text-right rating\"):\n",
    "    rating.append(l.text)\n",
    "rating=rating[0:10]\n",
    "rating"
   ]
  },
  {
   "cell_type": "code",
   "execution_count": 22,
   "id": "4b15cc9f",
   "metadata": {},
   "outputs": [
    {
     "data": {
      "text/html": [
       "<div>\n",
       "<style scoped>\n",
       "    .dataframe tbody tr th:only-of-type {\n",
       "        vertical-align: middle;\n",
       "    }\n",
       "\n",
       "    .dataframe tbody tr th {\n",
       "        vertical-align: top;\n",
       "    }\n",
       "\n",
       "    .dataframe thead th {\n",
       "        text-align: right;\n",
       "    }\n",
       "</style>\n",
       "<table border=\"1\" class=\"dataframe\">\n",
       "  <thead>\n",
       "    <tr style=\"text-align: right;\">\n",
       "      <th></th>\n",
       "      <th>TEAM</th>\n",
       "      <th>MATCHES</th>\n",
       "      <th>POINT</th>\n",
       "      <th>RATING</th>\n",
       "    </tr>\n",
       "  </thead>\n",
       "  <tbody>\n",
       "    <tr>\n",
       "      <th>0</th>\n",
       "      <td>New Zealand</td>\n",
       "      <td>22</td>\n",
       "      <td>2,756</td>\n",
       "      <td>125</td>\n",
       "    </tr>\n",
       "    <tr>\n",
       "      <th>1</th>\n",
       "      <td>England</td>\n",
       "      <td>19</td>\n",
       "      <td>2,005</td>\n",
       "      <td>106</td>\n",
       "    </tr>\n",
       "    <tr>\n",
       "      <th>2</th>\n",
       "      <td>Pakistan</td>\n",
       "      <td>22</td>\n",
       "      <td>2,304</td>\n",
       "      <td>105</td>\n",
       "    </tr>\n",
       "    <tr>\n",
       "      <th>3</th>\n",
       "      <td>India</td>\n",
       "      <td>23</td>\n",
       "      <td>2,325</td>\n",
       "      <td>101</td>\n",
       "    </tr>\n",
       "    <tr>\n",
       "      <th>4</th>\n",
       "      <td>Australia</td>\n",
       "      <td>19</td>\n",
       "      <td>1,872</td>\n",
       "      <td>99</td>\n",
       "    </tr>\n",
       "    <tr>\n",
       "      <th>5</th>\n",
       "      <td>South Africa</td>\n",
       "      <td>24</td>\n",
       "      <td>2,275</td>\n",
       "      <td>95</td>\n",
       "    </tr>\n",
       "    <tr>\n",
       "      <th>6</th>\n",
       "      <td>Bangladesh</td>\n",
       "      <td>29</td>\n",
       "      <td>2,658</td>\n",
       "      <td>92</td>\n",
       "    </tr>\n",
       "    <tr>\n",
       "      <th>7</th>\n",
       "      <td>Sri Lanka</td>\n",
       "      <td>32</td>\n",
       "      <td>2,306</td>\n",
       "      <td>72</td>\n",
       "    </tr>\n",
       "    <tr>\n",
       "      <th>8</th>\n",
       "      <td>West Indies</td>\n",
       "      <td>18</td>\n",
       "      <td>1,238</td>\n",
       "      <td>69</td>\n",
       "    </tr>\n",
       "    <tr>\n",
       "      <th>9</th>\n",
       "      <td>Afghanistan</td>\n",
       "      <td>20</td>\n",
       "      <td>1,083</td>\n",
       "      <td>54</td>\n",
       "    </tr>\n",
       "  </tbody>\n",
       "</table>\n",
       "</div>"
      ],
      "text/plain": [
       "           TEAM MATCHES  POINT RATING\n",
       "0   New Zealand      22  2,756    125\n",
       "1       England      19  2,005    106\n",
       "2      Pakistan      22  2,304    105\n",
       "3         India      23  2,325    101\n",
       "4     Australia      19  1,872     99\n",
       "5  South Africa      24  2,275     95\n",
       "6    Bangladesh      29  2,658     92\n",
       "7     Sri Lanka      32  2,306     72\n",
       "8   West Indies      18  1,238     69\n",
       "9   Afghanistan      20  1,083     54"
      ]
     },
     "execution_count": 22,
     "metadata": {},
     "output_type": "execute_result"
    }
   ],
   "source": [
    "\n",
    "data=pd.DataFrame({'TEAM':team,'MATCHES':matches,'POINT':Points,'RATING':rating})\n",
    "data\n",
    "#data.head(10)"
   ]
  }
 ],
 "metadata": {
  "kernelspec": {
   "display_name": "Python 3 (ipykernel)",
   "language": "python",
   "name": "python3"
  },
  "language_info": {
   "codemirror_mode": {
    "name": "ipython",
    "version": 3
   },
   "file_extension": ".py",
   "mimetype": "text/x-python",
   "name": "python",
   "nbconvert_exporter": "python",
   "pygments_lexer": "ipython3",
   "version": "3.9.7"
  }
 },
 "nbformat": 4,
 "nbformat_minor": 5
}
