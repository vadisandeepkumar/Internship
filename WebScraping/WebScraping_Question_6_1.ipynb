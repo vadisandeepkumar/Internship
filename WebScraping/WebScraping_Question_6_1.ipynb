{
 "cells": [
  {
   "cell_type": "code",
   "execution_count": 1,
   "id": "a7c4bebd",
   "metadata": {},
   "outputs": [],
   "source": [
    "#Top 10 ODI team in women’s cricket \n",
    "import requests\n",
    "from bs4 import BeautifulSoup\n",
    "import numpy as np\n",
    "import pandas as pd"
   ]
  },
  {
   "cell_type": "code",
   "execution_count": 15,
   "id": "25b2b54c",
   "metadata": {},
   "outputs": [],
   "source": [
    "res= requests.get('https://www.icc-cricket.com/rankings/womens/team-rankings/odi')"
   ]
  },
  {
   "cell_type": "code",
   "execution_count": 16,
   "id": "4b9d299f",
   "metadata": {},
   "outputs": [],
   "source": [
    "soup = BeautifulSoup(res.content)\n"
   ]
  },
  {
   "cell_type": "code",
   "execution_count": 17,
   "id": "465c58da",
   "metadata": {},
   "outputs": [],
   "source": [
    "team = []\n",
    "match = []\n",
    "point = []\n",
    "rating = []"
   ]
  },
  {
   "cell_type": "code",
   "execution_count": 18,
   "id": "47d4aa67",
   "metadata": {},
   "outputs": [],
   "source": [
    "for i in soup.find_all('span',class_=\"u-hide-phablet\"):\n",
    "    team.append(i.text)\n",
    "    "
   ]
  },
  {
   "cell_type": "code",
   "execution_count": 25,
   "id": "ec76c893",
   "metadata": {},
   "outputs": [],
   "source": [
    "matches=soup.find('td',class_=\"rankings-block__banner--matches\")    \n",
    "for j in soup.find_all('td',class_=\"table-body__cell u-center-text\"):\n",
    "    match.append(j.text)    "
   ]
  },
  {
   "cell_type": "code",
   "execution_count": null,
   "id": "4c71d42c",
   "metadata": {},
   "outputs": [],
   "source": []
  },
  {
   "cell_type": "markdown",
   "id": "b1e8ead1",
   "metadata": {},
   "source": [
    "match"
   ]
  },
  {
   "cell_type": "code",
   "execution_count": 20,
   "id": "9caf97d0",
   "metadata": {},
   "outputs": [],
   "source": [
    "Points=soup.find('td', class_=\"rankings-block__banner--points\")\n",
    "for k in soup.find_all('td',class_=\"table-body__cell u-center-text\"):\n",
    "    point.append(k.text)"
   ]
  },
  {
   "cell_type": "code",
   "execution_count": 21,
   "id": "ef9f7839",
   "metadata": {},
   "outputs": [
    {
     "data": {
      "text/plain": [
       "['32',\n",
       " '3,949',\n",
       " '30',\n",
       " '3,531',\n",
       " '29',\n",
       " '2,889',\n",
       " '31',\n",
       " '3,019',\n",
       " '30',\n",
       " '2,768',\n",
       " '12',\n",
       " '930',\n",
       " '30',\n",
       " '1,962',\n",
       " '8',\n",
       " '384',\n",
       " '8',\n",
       " '351',\n",
       " '8',\n",
       " '0']"
      ]
     },
     "execution_count": 21,
     "metadata": {},
     "output_type": "execute_result"
    }
   ],
   "source": [
    "point"
   ]
  },
  {
   "cell_type": "code",
   "execution_count": 22,
   "id": "9995278b",
   "metadata": {},
   "outputs": [],
   "source": [
    "Rating=soup.find('td',class_=\"rankings-block__banner--rating u-text-right\")\n",
    "for l in soup.find_all('td',class_=\"table-body__cell u-text-right rating\"):\n",
    "    rating.append(l.text)"
   ]
  },
  {
   "cell_type": "code",
   "execution_count": 23,
   "id": "a9421bcc",
   "metadata": {},
   "outputs": [
    {
     "data": {
      "text/plain": [
       "['123', '118', '100', '97', '92', '78', '65', '48', '44', '0']"
      ]
     },
     "execution_count": 23,
     "metadata": {},
     "output_type": "execute_result"
    }
   ],
   "source": [
    "rating"
   ]
  },
  {
   "cell_type": "code",
   "execution_count": 26,
   "id": "a6436587",
   "metadata": {},
   "outputs": [
    {
     "name": "stdout",
     "output_type": "stream",
     "text": [
      "matches[0]: 29\n",
      "points[0]: 4,837\n",
      "rates[0]:                             167                            \n"
     ]
    }
   ],
   "source": [
    "teams=team[:10]\n",
    "print(\"matches[0]:\",matches.text)\n",
    "matches=match[0:18:2] \n",
    "matches.insert(0,29)\n",
    "print(\"points[0]:\",Points.text)\n",
    "points=point[1:18:2] \n",
    "points.insert(0,4837)\n",
    "print(\"rates[0]:\",Rating.text.replace('\\n',''))\n",
    "ratings=rating[:9]\n",
    "ratings.insert(0,167)"
   ]
  },
  {
   "cell_type": "code",
   "execution_count": 27,
   "id": "0a03e66e",
   "metadata": {},
   "outputs": [
    {
     "data": {
      "text/html": [
       "<div>\n",
       "<style scoped>\n",
       "    .dataframe tbody tr th:only-of-type {\n",
       "        vertical-align: middle;\n",
       "    }\n",
       "\n",
       "    .dataframe tbody tr th {\n",
       "        vertical-align: top;\n",
       "    }\n",
       "\n",
       "    .dataframe thead th {\n",
       "        text-align: right;\n",
       "    }\n",
       "</style>\n",
       "<table border=\"1\" class=\"dataframe\">\n",
       "  <thead>\n",
       "    <tr style=\"text-align: right;\">\n",
       "      <th></th>\n",
       "      <th>Teams</th>\n",
       "      <th>Matches</th>\n",
       "      <th>Points</th>\n",
       "      <th>Rating</th>\n",
       "    </tr>\n",
       "  </thead>\n",
       "  <tbody>\n",
       "    <tr>\n",
       "      <th>0</th>\n",
       "      <td>Australia</td>\n",
       "      <td>29</td>\n",
       "      <td>4837</td>\n",
       "      <td>167</td>\n",
       "    </tr>\n",
       "    <tr>\n",
       "      <th>1</th>\n",
       "      <td>South Africa</td>\n",
       "      <td>32</td>\n",
       "      <td>3,949</td>\n",
       "      <td>123</td>\n",
       "    </tr>\n",
       "    <tr>\n",
       "      <th>2</th>\n",
       "      <td>England</td>\n",
       "      <td>30</td>\n",
       "      <td>3,531</td>\n",
       "      <td>118</td>\n",
       "    </tr>\n",
       "    <tr>\n",
       "      <th>3</th>\n",
       "      <td>India</td>\n",
       "      <td>29</td>\n",
       "      <td>2,889</td>\n",
       "      <td>100</td>\n",
       "    </tr>\n",
       "    <tr>\n",
       "      <th>4</th>\n",
       "      <td>New Zealand</td>\n",
       "      <td>31</td>\n",
       "      <td>3,019</td>\n",
       "      <td>97</td>\n",
       "    </tr>\n",
       "    <tr>\n",
       "      <th>5</th>\n",
       "      <td>West Indies</td>\n",
       "      <td>30</td>\n",
       "      <td>2,768</td>\n",
       "      <td>92</td>\n",
       "    </tr>\n",
       "    <tr>\n",
       "      <th>6</th>\n",
       "      <td>Bangladesh</td>\n",
       "      <td>12</td>\n",
       "      <td>930</td>\n",
       "      <td>78</td>\n",
       "    </tr>\n",
       "    <tr>\n",
       "      <th>7</th>\n",
       "      <td>Pakistan</td>\n",
       "      <td>30</td>\n",
       "      <td>1,962</td>\n",
       "      <td>65</td>\n",
       "    </tr>\n",
       "    <tr>\n",
       "      <th>8</th>\n",
       "      <td>Sri Lanka</td>\n",
       "      <td>8</td>\n",
       "      <td>384</td>\n",
       "      <td>48</td>\n",
       "    </tr>\n",
       "    <tr>\n",
       "      <th>9</th>\n",
       "      <td>Ireland</td>\n",
       "      <td>8</td>\n",
       "      <td>351</td>\n",
       "      <td>44</td>\n",
       "    </tr>\n",
       "  </tbody>\n",
       "</table>\n",
       "</div>"
      ],
      "text/plain": [
       "          Teams Matches Points Rating\n",
       "0     Australia      29   4837    167\n",
       "1  South Africa      32  3,949    123\n",
       "2       England      30  3,531    118\n",
       "3         India      29  2,889    100\n",
       "4   New Zealand      31  3,019     97\n",
       "5   West Indies      30  2,768     92\n",
       "6    Bangladesh      12    930     78\n",
       "7      Pakistan      30  1,962     65\n",
       "8     Sri Lanka       8    384     48\n",
       "9       Ireland       8    351     44"
      ]
     },
     "execution_count": 27,
     "metadata": {},
     "output_type": "execute_result"
    }
   ],
   "source": [
    "data = pd.DataFrame({\"Teams\":teams,\"Matches\":matches,\"Points\":points,\"Rating\":ratings})\n",
    "data"
   ]
  }
 ],
 "metadata": {
  "kernelspec": {
   "display_name": "Python 3 (ipykernel)",
   "language": "python",
   "name": "python3"
  },
  "language_info": {
   "codemirror_mode": {
    "name": "ipython",
    "version": 3
   },
   "file_extension": ".py",
   "mimetype": "text/x-python",
   "name": "python",
   "nbconvert_exporter": "python",
   "pygments_lexer": "ipython3",
   "version": "3.9.7"
  }
 },
 "nbformat": 4,
 "nbformat_minor": 5
}
