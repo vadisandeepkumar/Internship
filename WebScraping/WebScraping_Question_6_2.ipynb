{
 "cells": [
  {
   "cell_type": "code",
   "execution_count": 17,
   "id": "e67f586c",
   "metadata": {},
   "outputs": [],
   "source": [
    "#Top 10 ODI players in women’s cricket \n",
    "import requests\n",
    "from bs4 import BeautifulSoup\n",
    "import numpy as np\n",
    "import pandas as pd"
   ]
  },
  {
   "cell_type": "code",
   "execution_count": 2,
   "id": "e3a544d9",
   "metadata": {},
   "outputs": [
    {
     "data": {
      "text/plain": [
       "<Response [200]>"
      ]
     },
     "execution_count": 2,
     "metadata": {},
     "output_type": "execute_result"
    }
   ],
   "source": [
    "res=requests.get('https://www.icc-cricket.com/rankings/womens/player-rankings/odi/batting')\n",
    "res"
   ]
  },
  {
   "cell_type": "code",
   "execution_count": 3,
   "id": "0cabb318",
   "metadata": {},
   "outputs": [],
   "source": [
    "soup = BeautifulSoup(res.content)\n"
   ]
  },
  {
   "cell_type": "code",
   "execution_count": 4,
   "id": "53958f27",
   "metadata": {},
   "outputs": [],
   "source": [
    "Name=[]\n",
    "Team=[]\n",
    "Rating=[]"
   ]
  },
  {
   "cell_type": "code",
   "execution_count": 11,
   "id": "726fc00f",
   "metadata": {},
   "outputs": [
    {
     "data": {
      "text/plain": [
       "['\\nNatalie Sciver\\n',\n",
       " '\\nBeth Mooney\\n',\n",
       " '\\nLaura Wolvaardt\\n',\n",
       " '\\nMeg Lanning\\n',\n",
       " '\\nRachael Haynes\\n',\n",
       " '\\nAmy Satterthwaite\\n',\n",
       " '\\nSmriti Mandhana\\n',\n",
       " '\\nTammy Beaumont\\n',\n",
       " '\\nEllyse Perry\\n',\n",
       " '\\nDeandra Dottin\\n']"
      ]
     },
     "execution_count": 11,
     "metadata": {},
     "output_type": "execute_result"
    }
   ],
   "source": [
    "Player=soup.find_all('td', class_=\"table-body__cell rankings-table__name name\")\n",
    "for i in Player:\n",
    "    Name.append(i.text)\n",
    "Name=Name[0:10]\n",
    "Name"
   ]
  },
  {
   "cell_type": "code",
   "execution_count": 12,
   "id": "06ce5a20",
   "metadata": {},
   "outputs": [
    {
     "data": {
      "text/plain": [
       "['ENG', 'AUS', 'SA', 'AUS', 'AUS', 'NZ', 'IND', 'ENG', 'AUS', 'WI']"
      ]
     },
     "execution_count": 12,
     "metadata": {},
     "output_type": "execute_result"
    }
   ],
   "source": [
    "Country=soup.find_all('span', class_=\"table-body__logo-text\")\n",
    "for j in Country:\n",
    "    Team.append(j.text)\n",
    "Team=Team[0:10]\n",
    "Team"
   ]
  },
  {
   "cell_type": "code",
   "execution_count": 13,
   "id": "fa16bddb",
   "metadata": {},
   "outputs": [
    {
     "data": {
      "text/plain": [
       "['750', '748', '713', '710', '701', '681', '669', '659', '642', '625']"
      ]
     },
     "execution_count": 13,
     "metadata": {},
     "output_type": "execute_result"
    }
   ],
   "source": [
    "ratings=soup.find_all('td', class_=\"table-body__cell rating\")\n",
    "for k in ratings:\n",
    "    Rating.append(k.text)\n",
    "Rating=Rating[0:10]\n",
    "Rating"
   ]
  },
  {
   "cell_type": "code",
   "execution_count": 14,
   "id": "fc536f2e",
   "metadata": {},
   "outputs": [
    {
     "data": {
      "text/html": [
       "<div>\n",
       "<style scoped>\n",
       "    .dataframe tbody tr th:only-of-type {\n",
       "        vertical-align: middle;\n",
       "    }\n",
       "\n",
       "    .dataframe tbody tr th {\n",
       "        vertical-align: top;\n",
       "    }\n",
       "\n",
       "    .dataframe thead th {\n",
       "        text-align: right;\n",
       "    }\n",
       "</style>\n",
       "<table border=\"1\" class=\"dataframe\">\n",
       "  <thead>\n",
       "    <tr style=\"text-align: right;\">\n",
       "      <th></th>\n",
       "      <th>NAME</th>\n",
       "      <th>TEAM</th>\n",
       "      <th>RATING</th>\n",
       "    </tr>\n",
       "  </thead>\n",
       "  <tbody>\n",
       "    <tr>\n",
       "      <th>0</th>\n",
       "      <td>\\nNatalie Sciver\\n</td>\n",
       "      <td>ENG</td>\n",
       "      <td>750</td>\n",
       "    </tr>\n",
       "    <tr>\n",
       "      <th>1</th>\n",
       "      <td>\\nBeth Mooney\\n</td>\n",
       "      <td>AUS</td>\n",
       "      <td>748</td>\n",
       "    </tr>\n",
       "    <tr>\n",
       "      <th>2</th>\n",
       "      <td>\\nLaura Wolvaardt\\n</td>\n",
       "      <td>SA</td>\n",
       "      <td>713</td>\n",
       "    </tr>\n",
       "    <tr>\n",
       "      <th>3</th>\n",
       "      <td>\\nMeg Lanning\\n</td>\n",
       "      <td>AUS</td>\n",
       "      <td>710</td>\n",
       "    </tr>\n",
       "    <tr>\n",
       "      <th>4</th>\n",
       "      <td>\\nRachael Haynes\\n</td>\n",
       "      <td>AUS</td>\n",
       "      <td>701</td>\n",
       "    </tr>\n",
       "    <tr>\n",
       "      <th>5</th>\n",
       "      <td>\\nAmy Satterthwaite\\n</td>\n",
       "      <td>NZ</td>\n",
       "      <td>681</td>\n",
       "    </tr>\n",
       "    <tr>\n",
       "      <th>6</th>\n",
       "      <td>\\nSmriti Mandhana\\n</td>\n",
       "      <td>IND</td>\n",
       "      <td>669</td>\n",
       "    </tr>\n",
       "    <tr>\n",
       "      <th>7</th>\n",
       "      <td>\\nTammy Beaumont\\n</td>\n",
       "      <td>ENG</td>\n",
       "      <td>659</td>\n",
       "    </tr>\n",
       "    <tr>\n",
       "      <th>8</th>\n",
       "      <td>\\nEllyse Perry\\n</td>\n",
       "      <td>AUS</td>\n",
       "      <td>642</td>\n",
       "    </tr>\n",
       "    <tr>\n",
       "      <th>9</th>\n",
       "      <td>\\nDeandra Dottin\\n</td>\n",
       "      <td>WI</td>\n",
       "      <td>625</td>\n",
       "    </tr>\n",
       "  </tbody>\n",
       "</table>\n",
       "</div>"
      ],
      "text/plain": [
       "                    NAME TEAM RATING\n",
       "0     \\nNatalie Sciver\\n  ENG    750\n",
       "1        \\nBeth Mooney\\n  AUS    748\n",
       "2    \\nLaura Wolvaardt\\n   SA    713\n",
       "3        \\nMeg Lanning\\n  AUS    710\n",
       "4     \\nRachael Haynes\\n  AUS    701\n",
       "5  \\nAmy Satterthwaite\\n   NZ    681\n",
       "6    \\nSmriti Mandhana\\n  IND    669\n",
       "7     \\nTammy Beaumont\\n  ENG    659\n",
       "8       \\nEllyse Perry\\n  AUS    642\n",
       "9     \\nDeandra Dottin\\n   WI    625"
      ]
     },
     "execution_count": 14,
     "metadata": {},
     "output_type": "execute_result"
    }
   ],
   "source": [
    "data=pd.DataFrame({'NAME':Name,'TEAM':Team,'RATING':Rating})\n",
    "#data.head(10)\n",
    "data"
   ]
  }
 ],
 "metadata": {
  "kernelspec": {
   "display_name": "Python 3 (ipykernel)",
   "language": "python",
   "name": "python3"
  },
  "language_info": {
   "codemirror_mode": {
    "name": "ipython",
    "version": 3
   },
   "file_extension": ".py",
   "mimetype": "text/x-python",
   "name": "python",
   "nbconvert_exporter": "python",
   "pygments_lexer": "ipython3",
   "version": "3.9.7"
  }
 },
 "nbformat": 4,
 "nbformat_minor": 5
}
