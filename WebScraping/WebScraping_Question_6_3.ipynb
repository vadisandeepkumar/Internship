{
 "cells": [
  {
   "cell_type": "code",
   "execution_count": 1,
   "id": "5b702385",
   "metadata": {},
   "outputs": [],
   "source": [
    "#Top 10 women’s ODI all-rounder\n",
    "import requests\n",
    "from bs4 import BeautifulSoup\n",
    "import numpy as np\n",
    "import pandas as pd"
   ]
  },
  {
   "cell_type": "code",
   "execution_count": 2,
   "id": "f54a73cb",
   "metadata": {},
   "outputs": [],
   "source": [
    "res= requests.get('https://www.icc-cricket.com/rankings/womens/player-rankings/odi/all-rounder')"
   ]
  },
  {
   "cell_type": "code",
   "execution_count": 4,
   "id": "2c173c45",
   "metadata": {},
   "outputs": [],
   "source": [
    "soup = BeautifulSoup(res.content)"
   ]
  },
  {
   "cell_type": "code",
   "execution_count": 12,
   "id": "a5f22041",
   "metadata": {},
   "outputs": [],
   "source": [
    "Name=[]\n",
    "Team=[]\n",
    "Rating=[]"
   ]
  },
  {
   "cell_type": "code",
   "execution_count": 13,
   "id": "a3dec714",
   "metadata": {},
   "outputs": [],
   "source": [
    "PLayer=soup.find_all('td', class_=\"table-body__cell rankings-table__name name\")\n",
    "for i in PLayer:\n",
    "    Name.append(i.text)\n",
    " "
   ]
  },
  {
   "cell_type": "code",
   "execution_count": 22,
   "id": "ba877950",
   "metadata": {},
   "outputs": [
    {
     "data": {
      "text/plain": [
       "['\\nEllyse Perry\\n',\n",
       " '\\nHayley Matthews\\n',\n",
       " '\\nMarizanne Kapp\\n',\n",
       " '\\nAmelia Kerr\\n',\n",
       " '\\nAshleigh Gardner\\n',\n",
       " '\\nDeepti Sharma\\n',\n",
       " '\\nJess Jonassen\\n',\n",
       " '\\nSune Luus\\n',\n",
       " '\\nKatherine Brunt\\n',\n",
       " '\\nJhulan Goswami\\n']"
      ]
     },
     "execution_count": 22,
     "metadata": {},
     "output_type": "execute_result"
    }
   ],
   "source": [
    "Name1=Name[0:10]\n",
    "Name1"
   ]
  },
  {
   "cell_type": "code",
   "execution_count": 14,
   "id": "fbc1843c",
   "metadata": {},
   "outputs": [
    {
     "data": {
      "text/plain": [
       "['AUS',\n",
       " 'WI',\n",
       " 'SA',\n",
       " 'NZ',\n",
       " 'AUS',\n",
       " 'IND',\n",
       " 'AUS',\n",
       " 'SA',\n",
       " 'ENG',\n",
       " 'IND',\n",
       " 'ENG',\n",
       " 'WI',\n",
       " 'NZ',\n",
       " 'PAK',\n",
       " 'BAN',\n",
       " 'BAN',\n",
       " 'SA',\n",
       " 'ENG',\n",
       " 'AUS']"
      ]
     },
     "execution_count": 14,
     "metadata": {},
     "output_type": "execute_result"
    }
   ],
   "source": [
    "Country=soup.find_all('span', class_=\"table-body__logo-text\")\n",
    "for j in Country:\n",
    "    Team.append(j.text)\n",
    "Team"
   ]
  },
  {
   "cell_type": "code",
   "execution_count": 23,
   "id": "447f588d",
   "metadata": {},
   "outputs": [
    {
     "data": {
      "text/plain": [
       "['AUS', 'WI', 'SA', 'NZ', 'AUS', 'IND', 'AUS', 'SA', 'ENG', 'IND']"
      ]
     },
     "execution_count": 23,
     "metadata": {},
     "output_type": "execute_result"
    }
   ],
   "source": [
    "Team1=Team[0:10]\n",
    "Team"
   ]
  },
  {
   "cell_type": "code",
   "execution_count": 24,
   "id": "eb26bdd8",
   "metadata": {},
   "outputs": [
    {
     "data": {
      "text/plain": [
       "['374', '338', '338', '335', '269', '249', '245', '223', '221', '217']"
      ]
     },
     "execution_count": 24,
     "metadata": {},
     "output_type": "execute_result"
    }
   ],
   "source": [
    "Ratings=soup.find_all('td', class_=\"table-body__cell rating\")\n",
    "for i in Ratings:\n",
    "    Rating.append(i.text)\n",
    "\n",
    "Rating1=Rating[0:10]\n",
    "Rating1"
   ]
  },
  {
   "cell_type": "code",
   "execution_count": 25,
   "id": "f0d7e33d",
   "metadata": {},
   "outputs": [
    {
     "data": {
      "text/html": [
       "<div>\n",
       "<style scoped>\n",
       "    .dataframe tbody tr th:only-of-type {\n",
       "        vertical-align: middle;\n",
       "    }\n",
       "\n",
       "    .dataframe tbody tr th {\n",
       "        vertical-align: top;\n",
       "    }\n",
       "\n",
       "    .dataframe thead th {\n",
       "        text-align: right;\n",
       "    }\n",
       "</style>\n",
       "<table border=\"1\" class=\"dataframe\">\n",
       "  <thead>\n",
       "    <tr style=\"text-align: right;\">\n",
       "      <th></th>\n",
       "      <th>NAME</th>\n",
       "      <th>TEAM</th>\n",
       "      <th>RATING</th>\n",
       "    </tr>\n",
       "  </thead>\n",
       "  <tbody>\n",
       "    <tr>\n",
       "      <th>0</th>\n",
       "      <td>\\nEllyse Perry\\n</td>\n",
       "      <td>AUS</td>\n",
       "      <td>374</td>\n",
       "    </tr>\n",
       "    <tr>\n",
       "      <th>1</th>\n",
       "      <td>\\nHayley Matthews\\n</td>\n",
       "      <td>WI</td>\n",
       "      <td>338</td>\n",
       "    </tr>\n",
       "    <tr>\n",
       "      <th>2</th>\n",
       "      <td>\\nMarizanne Kapp\\n</td>\n",
       "      <td>SA</td>\n",
       "      <td>338</td>\n",
       "    </tr>\n",
       "    <tr>\n",
       "      <th>3</th>\n",
       "      <td>\\nAmelia Kerr\\n</td>\n",
       "      <td>NZ</td>\n",
       "      <td>335</td>\n",
       "    </tr>\n",
       "    <tr>\n",
       "      <th>4</th>\n",
       "      <td>\\nAshleigh Gardner\\n</td>\n",
       "      <td>AUS</td>\n",
       "      <td>269</td>\n",
       "    </tr>\n",
       "    <tr>\n",
       "      <th>5</th>\n",
       "      <td>\\nDeepti Sharma\\n</td>\n",
       "      <td>IND</td>\n",
       "      <td>249</td>\n",
       "    </tr>\n",
       "    <tr>\n",
       "      <th>6</th>\n",
       "      <td>\\nJess Jonassen\\n</td>\n",
       "      <td>AUS</td>\n",
       "      <td>245</td>\n",
       "    </tr>\n",
       "    <tr>\n",
       "      <th>7</th>\n",
       "      <td>\\nSune Luus\\n</td>\n",
       "      <td>SA</td>\n",
       "      <td>223</td>\n",
       "    </tr>\n",
       "    <tr>\n",
       "      <th>8</th>\n",
       "      <td>\\nKatherine Brunt\\n</td>\n",
       "      <td>ENG</td>\n",
       "      <td>221</td>\n",
       "    </tr>\n",
       "    <tr>\n",
       "      <th>9</th>\n",
       "      <td>\\nJhulan Goswami\\n</td>\n",
       "      <td>IND</td>\n",
       "      <td>217</td>\n",
       "    </tr>\n",
       "  </tbody>\n",
       "</table>\n",
       "</div>"
      ],
      "text/plain": [
       "                   NAME TEAM RATING\n",
       "0      \\nEllyse Perry\\n  AUS    374\n",
       "1   \\nHayley Matthews\\n   WI    338\n",
       "2    \\nMarizanne Kapp\\n   SA    338\n",
       "3       \\nAmelia Kerr\\n   NZ    335\n",
       "4  \\nAshleigh Gardner\\n  AUS    269\n",
       "5     \\nDeepti Sharma\\n  IND    249\n",
       "6     \\nJess Jonassen\\n  AUS    245\n",
       "7         \\nSune Luus\\n   SA    223\n",
       "8   \\nKatherine Brunt\\n  ENG    221\n",
       "9    \\nJhulan Goswami\\n  IND    217"
      ]
     },
     "execution_count": 25,
     "metadata": {},
     "output_type": "execute_result"
    }
   ],
   "source": [
    "data=pd.DataFrame({'NAME':Name1,'TEAM':Team1,'RATING':Rating1})\n",
    "data"
   ]
  }
 ],
 "metadata": {
  "kernelspec": {
   "display_name": "Python 3 (ipykernel)",
   "language": "python",
   "name": "python3"
  },
  "language_info": {
   "codemirror_mode": {
    "name": "ipython",
    "version": 3
   },
   "file_extension": ".py",
   "mimetype": "text/x-python",
   "name": "python",
   "nbconvert_exporter": "python",
   "pygments_lexer": "ipython3",
   "version": "3.9.7"
  }
 },
 "nbformat": 4,
 "nbformat_minor": 5
}
