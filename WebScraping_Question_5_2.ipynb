{
 "cells": [
  {
   "cell_type": "code",
   "execution_count": 2,
   "id": "65512ec7",
   "metadata": {},
   "outputs": [],
   "source": [
    "# Top 10 ODI batsmen in men’s cricket\n",
    "import requests\n",
    "from bs4 import BeautifulSoup\n",
    "import numpy as np\n",
    "import pandas as pd"
   ]
  },
  {
   "cell_type": "code",
   "execution_count": 3,
   "id": "b76e17b6",
   "metadata": {},
   "outputs": [
    {
     "data": {
      "text/plain": [
       "<Response [200]>"
      ]
     },
     "execution_count": 3,
     "metadata": {},
     "output_type": "execute_result"
    }
   ],
   "source": [
    "res=requests.get('https://www.icc-cricket.com/rankings/mens/player-rankings/odi/batting')\n",
    "res"
   ]
  },
  {
   "cell_type": "code",
   "execution_count": 4,
   "id": "f115999f",
   "metadata": {},
   "outputs": [],
   "source": [
    "soup = BeautifulSoup(res.content)\n"
   ]
  },
  {
   "cell_type": "code",
   "execution_count": 5,
   "id": "ecb1c438",
   "metadata": {},
   "outputs": [],
   "source": [
    "Name=[]\n",
    "Team=[]\n",
    "Rating=[]"
   ]
  },
  {
   "cell_type": "code",
   "execution_count": 6,
   "id": "d7209f24",
   "metadata": {},
   "outputs": [
    {
     "data": {
      "text/plain": [
       "['\\nImam-ul-Haq\\n',\n",
       " '\\nVirat Kohli\\n',\n",
       " '\\nRohit Sharma\\n',\n",
       " '\\nQuinton de Kock\\n',\n",
       " '\\nRoss Taylor\\n',\n",
       " '\\nRassie van der Dussen\\n',\n",
       " '\\nJonny Bairstow\\n',\n",
       " '\\nDavid Warner\\n',\n",
       " '\\nShai Hope\\n',\n",
       " '\\nJoe Root\\n']"
      ]
     },
     "execution_count": 6,
     "metadata": {},
     "output_type": "execute_result"
    }
   ],
   "source": [
    "for i in soup.find_all('td', class_=\"table-body__cell rankings-table__name name\"):\n",
    "    Name.append(i.text)\n",
    "Name=Name[0:10]\n",
    "Name"
   ]
  },
  {
   "cell_type": "code",
   "execution_count": 7,
   "id": "8549c00c",
   "metadata": {},
   "outputs": [
    {
     "data": {
      "text/plain": [
       "['PAK', 'IND', 'IND', 'SA', 'NZ', 'SA', 'ENG', 'AUS', 'WI', 'ENG']"
      ]
     },
     "execution_count": 7,
     "metadata": {},
     "output_type": "execute_result"
    }
   ],
   "source": [
    "for j in soup.find_all('span', class_=\"table-body__logo-text\"):\n",
    "    Team.append(j.text)\n",
    "\n",
    "Team=Team[0:10]\n",
    "Team"
   ]
  },
  {
   "cell_type": "code",
   "execution_count": 9,
   "id": "5981f298",
   "metadata": {},
   "outputs": [
    {
     "data": {
      "text/plain": [
       "['815', '811', '791', '789', '775', '769', '752', '737', '718', '718']"
      ]
     },
     "execution_count": 9,
     "metadata": {},
     "output_type": "execute_result"
    }
   ],
   "source": [
    "for k in soup.find_all('td', class_=\"table-body__cell rating\"):\n",
    "    Rating.append(k.text)\n",
    "Rating=Rating[0:10]\n",
    "Rating"
   ]
  },
  {
   "cell_type": "code",
   "execution_count": 11,
   "id": "87aff81f",
   "metadata": {},
   "outputs": [
    {
     "data": {
      "text/html": [
       "<div>\n",
       "<style scoped>\n",
       "    .dataframe tbody tr th:only-of-type {\n",
       "        vertical-align: middle;\n",
       "    }\n",
       "\n",
       "    .dataframe tbody tr th {\n",
       "        vertical-align: top;\n",
       "    }\n",
       "\n",
       "    .dataframe thead th {\n",
       "        text-align: right;\n",
       "    }\n",
       "</style>\n",
       "<table border=\"1\" class=\"dataframe\">\n",
       "  <thead>\n",
       "    <tr style=\"text-align: right;\">\n",
       "      <th></th>\n",
       "      <th>NAME</th>\n",
       "      <th>TEAM</th>\n",
       "      <th>RATING</th>\n",
       "    </tr>\n",
       "  </thead>\n",
       "  <tbody>\n",
       "    <tr>\n",
       "      <th>0</th>\n",
       "      <td>\\nImam-ul-Haq\\n</td>\n",
       "      <td>PAK</td>\n",
       "      <td>815</td>\n",
       "    </tr>\n",
       "    <tr>\n",
       "      <th>1</th>\n",
       "      <td>\\nVirat Kohli\\n</td>\n",
       "      <td>IND</td>\n",
       "      <td>811</td>\n",
       "    </tr>\n",
       "    <tr>\n",
       "      <th>2</th>\n",
       "      <td>\\nRohit Sharma\\n</td>\n",
       "      <td>IND</td>\n",
       "      <td>791</td>\n",
       "    </tr>\n",
       "    <tr>\n",
       "      <th>3</th>\n",
       "      <td>\\nQuinton de Kock\\n</td>\n",
       "      <td>SA</td>\n",
       "      <td>789</td>\n",
       "    </tr>\n",
       "    <tr>\n",
       "      <th>4</th>\n",
       "      <td>\\nRoss Taylor\\n</td>\n",
       "      <td>NZ</td>\n",
       "      <td>775</td>\n",
       "    </tr>\n",
       "    <tr>\n",
       "      <th>5</th>\n",
       "      <td>\\nRassie van der Dussen\\n</td>\n",
       "      <td>SA</td>\n",
       "      <td>769</td>\n",
       "    </tr>\n",
       "    <tr>\n",
       "      <th>6</th>\n",
       "      <td>\\nJonny Bairstow\\n</td>\n",
       "      <td>ENG</td>\n",
       "      <td>752</td>\n",
       "    </tr>\n",
       "    <tr>\n",
       "      <th>7</th>\n",
       "      <td>\\nDavid Warner\\n</td>\n",
       "      <td>AUS</td>\n",
       "      <td>737</td>\n",
       "    </tr>\n",
       "    <tr>\n",
       "      <th>8</th>\n",
       "      <td>\\nShai Hope\\n</td>\n",
       "      <td>WI</td>\n",
       "      <td>718</td>\n",
       "    </tr>\n",
       "    <tr>\n",
       "      <th>9</th>\n",
       "      <td>\\nJoe Root\\n</td>\n",
       "      <td>ENG</td>\n",
       "      <td>718</td>\n",
       "    </tr>\n",
       "  </tbody>\n",
       "</table>\n",
       "</div>"
      ],
      "text/plain": [
       "                        NAME TEAM RATING\n",
       "0            \\nImam-ul-Haq\\n  PAK    815\n",
       "1            \\nVirat Kohli\\n  IND    811\n",
       "2           \\nRohit Sharma\\n  IND    791\n",
       "3        \\nQuinton de Kock\\n   SA    789\n",
       "4            \\nRoss Taylor\\n   NZ    775\n",
       "5  \\nRassie van der Dussen\\n   SA    769\n",
       "6         \\nJonny Bairstow\\n  ENG    752\n",
       "7           \\nDavid Warner\\n  AUS    737\n",
       "8              \\nShai Hope\\n   WI    718\n",
       "9               \\nJoe Root\\n  ENG    718"
      ]
     },
     "execution_count": 11,
     "metadata": {},
     "output_type": "execute_result"
    }
   ],
   "source": [
    "data=pd.DataFrame({'NAME':Name,'TEAM':Team,'RATING':Rating})\n",
    "#data.head(10)\n",
    "data"
   ]
  }
 ],
 "metadata": {
  "kernelspec": {
   "display_name": "Python 3 (ipykernel)",
   "language": "python",
   "name": "python3"
  },
  "language_info": {
   "codemirror_mode": {
    "name": "ipython",
    "version": 3
   },
   "file_extension": ".py",
   "mimetype": "text/x-python",
   "name": "python",
   "nbconvert_exporter": "python",
   "pygments_lexer": "ipython3",
   "version": "3.9.7"
  }
 },
 "nbformat": 4,
 "nbformat_minor": 5
}
