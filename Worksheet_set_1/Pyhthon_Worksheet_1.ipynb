{
 "cells": [
  {
   "cell_type": "code",
   "execution_count": 3,
   "id": "32c04d61",
   "metadata": {},
   "outputs": [
    {
     "name": "stdout",
     "output_type": "stream",
     "text": [
      "Enter a Number: 5\n",
      "Factorial of  5  is  120\n"
     ]
    }
   ],
   "source": [
    "# 11. Factorial\n",
    "#defining factorial Function\n",
    "def Factorial(num):\n",
    "    if num==0:\n",
    "        return 1\n",
    "    else:\n",
    "        return num*Factorial(num-1)\n",
    "\n",
    "#input the number for which factorial is required\n",
    "Input_Number= int(input(\"Enter a Number: \"))\n",
    "#passing the input number to the Factorial function\n",
    "a= Factorial(Input_Number)\n",
    "print(\"Factorial of \",Input_Number,\" is \",a)"
   ]
  },
  {
   "cell_type": "code",
   "execution_count": 11,
   "id": "2160e3fb",
   "metadata": {},
   "outputs": [
    {
     "name": "stdout",
     "output_type": "stream",
     "text": [
      "Enter a Number: 11\n",
      "(11, ' is Prime')\n"
     ]
    }
   ],
   "source": [
    "# 12 .Prime or Composite\n",
    "#defining the Prime or Composite Function\n",
    "\n",
    "def Prime_Composite(num):\n",
    "    count =0\n",
    "    if num<1:\n",
    "        return (\"number should be a positive integer and greater than 0\")\n",
    "    elif num==1:\n",
    "        return (\"1 is neither Prime nor Composite\")\n",
    "    else: \n",
    "        for i in range(1,num):\n",
    "            if num%i==0:\n",
    "                count+=1\n",
    "                continue\n",
    "            else:\n",
    "                continue\n",
    "        if count==1:\n",
    "                return (num,\" is Prime Number\")\n",
    "        else:\n",
    "            return (num,\" is Composite Number\")\n",
    "\n",
    "#input the number for checking Prime or Composite\n",
    "Input_Number= int(input(\"Enter a Number: \"))\n",
    "#passing the input number to the Prime_Composite function\n",
    "a= Prime_Composite(Input_Number)\n",
    "print(a)"
   ]
  },
  {
   "cell_type": "code",
   "execution_count": 20,
   "id": "e2f7705c",
   "metadata": {},
   "outputs": [
    {
     "name": "stdout",
     "output_type": "stream",
     "text": [
      "Enter the String: malayalam\n",
      "malayalam is Palindrome\n"
     ]
    }
   ],
   "source": [
    "#13. String is Palindrome or not\n",
    "\n",
    "#input the string\n",
    "word= input(\"Enter the String: \")\n",
    "#reversing the word\n",
    "rev=reversed(word)\n",
    "#print(list(rev))\n",
    "\n",
    "#checking for palindrome string\n",
    "if list(word)==list(rev):\n",
    "    print(word, \"is Palindrome\")\n",
    "else: \n",
    "    print(word, \"is not Palindrome\")"
   ]
  },
  {
   "cell_type": "code",
   "execution_count": 28,
   "id": "2c1b2dd4",
   "metadata": {},
   "outputs": [
    {
     "name": "stdout",
     "output_type": "stream",
     "text": [
      "Adjacent Side= 5.196152422706632\n"
     ]
    }
   ],
   "source": [
    "#14 third side of right angled triangle when any two sides are given\n",
    "\n",
    "def right_angle(opp_side,adj_side,hyp):\n",
    "        if opp_side == str(\"x\"):\n",
    "            return (\"Opposite Side = \" + str(((hyp**2) - (adj_side**2))**0.5))\n",
    "        elif adj_side == str(\"x\"):\n",
    "            return (\"Adjacent Side= \" + str(((hyp**2) - (opp_side**2))**0.5))\n",
    "        elif hyp == str(\"x\"):\n",
    "            return (\"Hypotenuse = \" + str(((opp_side**2) + (adj_side**2))**0.5))\n",
    "        else:\n",
    "            return \"All sides are provided\"\n",
    "    \n",
    "print(right_angle(3,'x',6))\n"
   ]
  },
  {
   "cell_type": "code",
   "execution_count": 18,
   "id": "63821594",
   "metadata": {},
   "outputs": [
    {
     "name": "stdout",
     "output_type": "stream",
     "text": [
      "Enter the String: df;ldfk;l\n",
      " Frequency of l is {'d': 1, 'f': 1, ';': 1, 'l': 1, 'k': 1}\n"
     ]
    }
   ],
   "source": [
    "#15.  frequency of each character in given string\n",
    " \n",
    "\n",
    "word= input(\"Enter the String: \")\n",
    "frequency={}\n",
    "\n",
    "for j in word:\n",
    "    if j in unique_words:\n",
    "        frequency[j]+=1\n",
    "    else:\n",
    "        frequency[j]=1\n",
    "        \n",
    "                       \n",
    "print(\" Frequency \"+ str(frequency))\n",
    "    \n",
    "\n",
    "    \n",
    "\n",
    "\n",
    "    \n",
    "\n",
    "        \n"
   ]
  }
 ],
 "metadata": {
  "kernelspec": {
   "display_name": "Python 3",
   "language": "python",
   "name": "python3"
  },
  "language_info": {
   "codemirror_mode": {
    "name": "ipython",
    "version": 3
   },
   "file_extension": ".py",
   "mimetype": "text/x-python",
   "name": "python",
   "nbconvert_exporter": "python",
   "pygments_lexer": "ipython3",
   "version": "3.8.8"
  }
 },
 "nbformat": 4,
 "nbformat_minor": 5
}
